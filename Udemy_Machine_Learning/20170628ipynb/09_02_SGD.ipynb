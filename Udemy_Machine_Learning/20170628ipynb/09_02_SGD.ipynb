{
 "cells": [
  {
   "cell_type": "code",
   "execution_count": 1,
   "metadata": {
    "ExecuteTime": {
     "end_time": "2017-06-22T08:35:32.149353Z",
     "start_time": "2017-06-22T08:35:31.654318Z"
    },
    "collapsed": true
   },
   "outputs": [],
   "source": [
    "import numpy as np\n",
    "\n",
    "import matplotlib.pyplot as plt\n",
    "%matplotlib inline"
   ]
  },
  {
   "cell_type": "code",
   "execution_count": 2,
   "metadata": {
    "ExecuteTime": {
     "end_time": "2017-06-22T08:35:32.152142Z",
     "start_time": "2017-06-22T08:35:32.150202Z"
    },
    "collapsed": true
   },
   "outputs": [],
   "source": [
    "import time"
   ]
  },
  {
   "cell_type": "code",
   "execution_count": 3,
   "metadata": {
    "ExecuteTime": {
     "end_time": "2017-06-22T08:35:32.933516Z",
     "start_time": "2017-06-22T08:35:32.153761Z"
    },
    "collapsed": true
   },
   "outputs": [],
   "source": [
    "from sklearn.datasets import fetch_mldata\n",
    "mnist = fetch_mldata('MNIST original')\n",
    "\n",
    "# MNISTの場合，60000が学習，10000がテスト，と決まっている\n",
    "# http://yann.lecun.com/exdb/mnist/\n",
    "\n",
    "X_train, X_test = mnist.data[:60000]/255., mnist.data[60000:]/255.\n",
    "y_train, y_test = mnist.target[:60000], mnist.target[60000:]\n"
   ]
  },
  {
   "cell_type": "code",
   "execution_count": 4,
   "metadata": {
    "ExecuteTime": {
     "end_time": "2017-06-22T08:35:32.945056Z",
     "start_time": "2017-06-22T08:35:32.935356Z"
    }
   },
   "outputs": [
    {
     "data": {
      "text/plain": [
       "((60000, 784), (10000, 784))"
      ]
     },
     "execution_count": 4,
     "metadata": {},
     "output_type": "execute_result"
    }
   ],
   "source": [
    "X_train.shape, X_test.shape"
   ]
  },
  {
   "cell_type": "code",
   "execution_count": null,
   "metadata": {
    "collapsed": true
   },
   "outputs": [],
   "source": []
  },
  {
   "cell_type": "code",
   "execution_count": 9,
   "metadata": {
    "ExecuteTime": {
     "end_time": "2017-06-22T08:35:33.093489Z",
     "start_time": "2017-06-22T08:35:32.947647Z"
    },
    "collapsed": true
   },
   "outputs": [],
   "source": [
    "from sklearn.linear_model import SGDClassifier"
   ]
  },
  {
   "cell_type": "code",
   "execution_count": 8,
   "metadata": {
    "ExecuteTime": {
     "end_time": "2017-06-22T08:35:33.097284Z",
     "start_time": "2017-06-22T08:35:33.094710Z"
    }
   },
   "outputs": [
    {
     "name": "stderr",
     "output_type": "stream",
     "text": [
      "/Users/yohei/anaconda/lib/python3.5/site-packages/sklearn/linear_model/stochastic_gradient.py:84: FutureWarning: max_iter and tol parameters have been added in <class 'sklearn.linear_model.stochastic_gradient.SGDClassifier'> in 0.19. If both are left unset, they default to max_iter=5 and tol=None. If tol is not None, max_iter defaults to max_iter=1000. From 0.21, default max_iter will be 1000, and default tol will be 1e-3.\n",
      "  \"and default tol will be 1e-3.\" % type(self), FutureWarning)\n"
     ]
    },
    {
     "data": {
      "text/plain": [
       "SGDClassifier(alpha=0.0001, average=False, class_weight=None, epsilon=0.1,\n",
       "       eta0=0.0, fit_intercept=True, l1_ratio=0.15,\n",
       "       learning_rate='optimal', loss='log', max_iter=5, n_iter=None,\n",
       "       n_jobs=1, penalty='l2', power_t=0.5, random_state=None,\n",
       "       shuffle=True, tol=None, verbose=0, warm_start=False)"
      ]
     },
     "execution_count": 8,
     "metadata": {},
     "output_type": "execute_result"
    }
   ],
   "source": [
    "clf = SGDClassifier(loss=\"log\") # Logistic regression をすることを意味する．\n",
    "clf"
   ]
  },
  {
   "cell_type": "markdown",
   "metadata": {},
   "source": [
    "```python\n",
    "SGDClassifier(loss=\"log\", \"hinge\" # default\n",
    "                   , \"...\")\n",
    "```\n",
    "SGDClassfier はloss引数でどのモデルを扱うかを指定する．\n",
    "\n",
    "loss=\"log\" はロジスティック回帰，　loss=\"hinge\" はlinearのSVMを表す．\n",
    "\n",
    "またSGDClassifier はデータ数が多い時でも容易に識別できる"
   ]
  },
  {
   "cell_type": "code",
   "execution_count": 9,
   "metadata": {
    "ExecuteTime": {
     "end_time": "2017-06-22T08:35:47.330056Z",
     "start_time": "2017-06-22T08:35:33.098923Z"
    },
    "scrolled": false
   },
   "outputs": [
    {
     "name": "stdout",
     "output_type": "stream",
     "text": [
      "0.15 sec, size 600, accuracy 0.89\n",
      "0.17 sec, size 1200, accuracy 0.84\n",
      "0.74 sec, size 6000, accuracy 0.863\n",
      "1.44 sec, size 12000, accuracy 0.88\n",
      "1.80 sec, size 15000, accuracy 0.87\n",
      "2.41 sec, size 20000, accuracy 0.8893221355728854\n",
      "3.79 sec, size 30000, accuracy 0.8712\n",
      "7.20 sec, size 60000, accuracy 0.8994\n"
     ]
    }
   ],
   "source": [
    "for thin in [100, 50, 10, 5, 4, 3, 2, 1]:\n",
    "    st = time.time()\n",
    "    clf.fit(X_train[::thin], y_train[::thin])\n",
    "    et = time.time() - st\n",
    "    score = clf.score(X_test[::thin], y_test[::thin])\n",
    "    print(\"{0:.2f} sec, size {1}, accuracy {2}\".format(et, \n",
    "                                                       y_train[::thin].size,\n",
    "                                                       score))"
   ]
  },
  {
   "cell_type": "code",
   "execution_count": 10,
   "metadata": {
    "ExecuteTime": {
     "end_time": "2017-06-22T08:35:47.333808Z",
     "start_time": "2017-06-22T08:35:47.331507Z"
    }
   },
   "outputs": [
    {
     "name": "stderr",
     "output_type": "stream",
     "text": [
      "/Users/yohei/anaconda/lib/python3.5/site-packages/sklearn/linear_model/stochastic_gradient.py:84: FutureWarning: max_iter and tol parameters have been added in <class 'sklearn.linear_model.stochastic_gradient.SGDClassifier'> in 0.19. If both are left unset, they default to max_iter=5 and tol=None. If tol is not None, max_iter defaults to max_iter=1000. From 0.21, default max_iter will be 1000, and default tol will be 1e-3.\n",
      "  \"and default tol will be 1e-3.\" % type(self), FutureWarning)\n"
     ]
    }
   ],
   "source": [
    "clf = SGDClassifier(loss=\"hinge\") # linear SVM"
   ]
  },
  {
   "cell_type": "code",
   "execution_count": 11,
   "metadata": {
    "ExecuteTime": {
     "end_time": "2017-06-22T08:35:55.258090Z",
     "start_time": "2017-06-22T08:35:47.335294Z"
    }
   },
   "outputs": [
    {
     "name": "stdout",
     "output_type": "stream",
     "text": [
      "0.05 sec, size 600, accuracy 0.82\n",
      "0.10 sec, size 1200, accuracy 0.845\n",
      "0.42 sec, size 6000, accuracy 0.844\n",
      "0.83 sec, size 12000, accuracy 0.8775\n",
      "0.99 sec, size 15000, accuracy 0.8584\n",
      "1.33 sec, size 20000, accuracy 0.8497300539892022\n",
      "2.03 sec, size 30000, accuracy 0.8908\n",
      "3.91 sec, size 60000, accuracy 0.8837\n"
     ]
    }
   ],
   "source": [
    "for thin in [100, 50, 10, 5, 4, 3, 2, 1]:\n",
    "    st = time.time()\n",
    "    clf.fit(X_train[::thin], y_train[::thin])\n",
    "    et = time.time() - st\n",
    "    score = clf.score(X_test[::thin], y_test[::thin])\n",
    "    print(\"{0:.2f} sec, size {1}, accuracy {2}\".format(et, \n",
    "                                                       y_train[::thin].size,\n",
    "                                                       score))"
   ]
  },
  {
   "cell_type": "code",
   "execution_count": 12,
   "metadata": {
    "ExecuteTime": {
     "end_time": "2017-06-22T08:37:04.370734Z",
     "start_time": "2017-06-22T08:35:55.259385Z"
    }
   },
   "outputs": [
    {
     "name": "stderr",
     "output_type": "stream",
     "text": [
      "/Users/yohei/anaconda/lib/python3.5/site-packages/sklearn/linear_model/stochastic_gradient.py:84: FutureWarning: max_iter and tol parameters have been added in <class 'sklearn.linear_model.stochastic_gradient.SGDClassifier'> in 0.19. If both are left unset, they default to max_iter=5 and tol=None. If tol is not None, max_iter defaults to max_iter=1000. From 0.21, default max_iter will be 1000, and default tol will be 1e-3.\n",
      "  \"and default tol will be 1e-3.\" % type(self), FutureWarning)\n"
     ]
    },
    {
     "data": {
      "image/png": "[encoded data removed]",
      "text/plain": [
       "<matplotlib.figure.Figure at 0x12e678828>"
      ]
     },
     "metadata": {},
     "output_type": "display_data"
    }
   ],
   "source": [
    "# LinearSVC(primal)と比較してみる．\n",
    "from sklearn.svm import LinearSVC\n",
    "\n",
    "for clf in [SGDClassifier(loss=\"hinge\"),\n",
    "            LinearSVC(dual=False)]:\n",
    "    times = []\n",
    "    sizes = []\n",
    "    for thin in [100, 50, 10, 5, 4, 3, 2, 1]:\n",
    "        st = time.time()\n",
    "        clf.fit(X_train[::thin], y_train[::thin])\n",
    "        times.append(time.time() - st)\n",
    "        sizes.append(y_train[::thin].size)\n",
    "    plt.plot(sizes, times, label=clf.__class__.__name__)\n",
    "\n",
    "plt.legend(loc=\"best\")\n",
    "plt.ylabel(\"computation time [sec]\")\n",
    "plt.xlabel(\"# samples\")\n",
    "plt.show()"
   ]
  },
  {
   "cell_type": "markdown",
   "metadata": {
    "collapsed": true
   },
   "source": [
    "scikit-learn document: [Logistic regression](http://scikit-learn.org/stable/modules/linear_model.html#logistic-regression)\n",
    "\n",
    "\\\\[\n",
    "\\min_{w,b}\n",
    "\\frac{1}{2} \\| w \\|_2^2\n",
    "+ C \\sum_{i=1}^N\n",
    "\\log(\\exp(-y_i(w^T x_i + b)) + 1)\n",
    "\\\\]\n",
    "                                             \n",
    "scikit-learn document: [SVC](http://scikit-learn.org/stable/modules/svm.html#svc)\n",
    "\n",
    "$$\n",
    "\\min_{w, b, \\{\\xi_i\\} }\n",
    "\\frac{1}{2} \\| w \\|_2^2\n",
    "+ C \\sum_{i=1}^N \\xi_i\n",
    "\\quad \\text{subject to}\\quad \n",
    "y_i(w^T x_i + b) \\ge 1 - \\xi_i\n",
    "$$"
   ]
  },
  {
   "cell_type": "code",
   "execution_count": 13,
   "metadata": {
    "ExecuteTime": {
     "end_time": "2017-06-22T08:39:27.890680Z",
     "start_time": "2017-06-22T08:37:04.372228Z"
    }
   },
   "outputs": [
    {
     "name": "stderr",
     "output_type": "stream",
     "text": [
      "/Users/yohei/anaconda/lib/python3.5/site-packages/sklearn/linear_model/stochastic_gradient.py:84: FutureWarning: max_iter and tol parameters have been added in <class 'sklearn.linear_model.stochastic_gradient.SGDClassifier'> in 0.19. If both are left unset, they default to max_iter=5 and tol=None. If tol is not None, max_iter defaults to max_iter=1000. From 0.21, default max_iter will be 1000, and default tol will be 1e-3.\n",
      "  \"and default tol will be 1e-3.\" % type(self), FutureWarning)\n"
     ]
    },
    {
     "name": "stdout",
     "output_type": "stream",
     "text": [
      "1e-05 7.002293825149536 0.1885\n",
      "0.0001 6.98628306388855 0.5224\n",
      "0.001 6.9652628898620605 0.1773\n",
      "0.01 6.972851991653442 0.6175\n",
      "0.1 6.966391086578369 0.6903\n",
      "1.0 7.047661066055298 0.0982\n",
      "10.0 6.9644880294799805 0.619\n",
      "100.0 7.013153791427612 0.4629\n",
      "1000.0 6.71097207069397 0.6792\n",
      "10000.0 4.8694751262664795 0.6412\n",
      "100000.0 4.475745916366577 0.8158\n",
      "1000000.0 4.198405981063843 0.8867\n",
      "10000000.0 4.051783084869385 0.9082\n",
      "100000000.0 3.939927101135254 0.9082\n",
      "1000000000.0 3.9038119316101074 0.896\n",
      "10000000000.0 3.897510051727295 0.8622\n",
      "100000000000.0 3.9536077976226807 0.8613\n",
      "1e+12 4.157839059829712 0.8476\n",
      "1e+13 4.031378984451294 0.8824\n",
      "1e+14 3.901848077774048 0.8908\n"
     ]
    }
   ],
   "source": [
    "C_range_exp = np.arange(-5.0, 15.0)\n",
    "C_range = 10 ** C_range_exp\n",
    "\n",
    "scores = []\n",
    "comp_time = []\n",
    "\n",
    "clf = SGDClassifier(loss=\"hinge\") # SVM\n",
    "\n",
    "for C in C_range:\n",
    "    clf.alpha = X_train.shape[0] / C # n_sample/alpha = C http://scikit-learn.org/stable/modules/svm.html#svc\n",
    "\n",
    "    st = time.time()\n",
    "    clf.fit(X_train, y_train)\n",
    "    et = time.time() - st\n",
    "\n",
    "    comp_time.append(et)\n",
    "    score = clf.score(X_test, y_test)\n",
    "    scores.append(score)\n",
    "    \n",
    "    print(C, et, score)"
   ]
  },
  {
   "cell_type": "markdown",
   "metadata": {},
   "source": [
    "SGDClassifierでのLinearSVMのC:正則化項は $\\alpha$ で指定する．\n",
    "\n",
    "$\\alpha$と$C$の関係は以下の通り\n",
    "$$\n",
    "\\frac{\\text{n_sample}}{\\alpha} = C\n",
    "$$"
   ]
  },
  {
   "cell_type": "code",
   "execution_count": 16,
   "metadata": {
    "ExecuteTime": {
     "end_time": "2017-06-22T08:39:28.537006Z",
     "start_time": "2017-06-22T08:39:27.893390Z"
    }
   },
   "outputs": [
    {
     "data": {
      "image/png": "[encoded data removed]",
      "text/plain": [
       "<matplotlib.figure.Figure at 0x1332d9f98>"
      ]
     },
     "metadata": {},
     "output_type": "display_data"
    },
    {
     "data": {
      "image/png": "[encoded data removed]",
      "text/plain": [
       "<matplotlib.figure.Figure at 0x108258898>"
      ]
     },
     "metadata": {},
     "output_type": "display_data"
    }
   ],
   "source": [
    "scores = np.array(scores)\n",
    "comp_time = np.array(comp_time)\n",
    "\n",
    "plt.plot(C_range_exp, scores)\n",
    "plt.ylabel(\"accuracy\")\n",
    "plt.xlabel(r\"$log_{10}(C)$\");\n",
    "plt.ylim(0,1)\n",
    "\n",
    "plt.show()\n",
    "\n",
    "plt.plot(C_range_exp, comp_time)\n",
    "plt.ylim(0,)\n",
    "plt.ylabel(\"computation time [sec]\")\n",
    "plt.xlabel(r\"$log_{10}(C)$\");"
   ]
  },
  {
   "cell_type": "markdown",
   "metadata": {
    "collapsed": true
   },
   "source": [
    "Cが大きい方が学習時間が減っている．"
   ]
  },
  {
   "cell_type": "code",
   "execution_count": null,
   "metadata": {
    "collapsed": true
   },
   "outputs": [],
   "source": []
  },
  {
   "cell_type": "code",
   "execution_count": 17,
   "metadata": {
    "ExecuteTime": {
     "end_time": "2017-06-22T08:42:03.564656Z",
     "start_time": "2017-06-22T08:39:28.540013Z"
    },
    "scrolled": false
   },
   "outputs": [
    {
     "name": "stdout",
     "output_type": "stream",
     "text": [
      "Fitting 3 folds for each of 15 candidates, totalling 45 fits\n"
     ]
    },
    {
     "name": "stderr",
     "output_type": "stream",
     "text": [
      "/Users/yohei/anaconda/lib/python3.5/site-packages/sklearn/linear_model/stochastic_gradient.py:84: FutureWarning: max_iter and tol parameters have been added in <class 'sklearn.linear_model.stochastic_gradient.SGDClassifier'> in 0.19. If both are left unset, they default to max_iter=5 and tol=None. If tol is not None, max_iter defaults to max_iter=1000. From 0.21, default max_iter will be 1000, and default tol will be 1e-3.\n",
      "  \"and default tol will be 1e-3.\" % type(self), FutureWarning)\n"
     ]
    },
    {
     "name": "stdout",
     "output_type": "stream",
     "text": [
      "[CV] clf__alpha=4000000000.0 .........................................\n",
      "[CV] clf__alpha=4000000000.0 .........................................\n",
      "[CV] clf__alpha=4000000000.0 .........................................\n",
      "[CV] clf__alpha=400000000.0 ..........................................\n",
      "[CV] .......................... clf__alpha=4000000000.0, total=  10.7s\n",
      "[CV] clf__alpha=400000000.0 ..........................................\n",
      "[CV] .......................... clf__alpha=4000000000.0, total=  10.9s\n",
      "[CV] clf__alpha=400000000.0 ..........................................\n",
      "[CV] .......................... clf__alpha=4000000000.0, total=  11.1s\n",
      "[CV] clf__alpha=40000000.0 ...........................................\n",
      "[CV] ........................... clf__alpha=400000000.0, total=  11.0s\n",
      "[CV] clf__alpha=40000000.0 ...........................................\n",
      "[CV] ........................... clf__alpha=400000000.0, total=  11.5s\n",
      "[CV] clf__alpha=40000000.0 ...........................................\n",
      "[CV] ........................... clf__alpha=400000000.0, total=  11.8s\n",
      "[CV] clf__alpha=4000000.0 ............................................\n",
      "[CV] ............................ clf__alpha=40000000.0, total=  11.5s\n",
      "[CV] clf__alpha=4000000.0 ............................................\n",
      "[CV] ............................ clf__alpha=40000000.0, total=  11.4s\n",
      "[CV] clf__alpha=4000000.0 ............................................\n",
      "[CV] ............................ clf__alpha=40000000.0, total=  11.5s\n",
      "[CV] clf__alpha=400000.0 .............................................\n",
      "[CV] ............................. clf__alpha=4000000.0, total=  11.6s\n",
      "[CV] clf__alpha=400000.0 .............................................\n",
      "[CV] ............................. clf__alpha=4000000.0, total=  11.5s\n",
      "[CV] clf__alpha=400000.0 .............................................\n",
      "[CV] ............................. clf__alpha=4000000.0, total=  11.2s\n",
      "[CV] clf__alpha=40000.0 ..............................................\n",
      "[CV] .............................. clf__alpha=400000.0, total=  11.7s\n",
      "[CV] clf__alpha=40000.0 ..............................................\n",
      "[CV] .............................. clf__alpha=400000.0, total=  11.9s\n",
      "[CV] clf__alpha=40000.0 ..............................................\n",
      "[CV] .............................. clf__alpha=400000.0, total=  11.6s\n",
      "[CV] clf__alpha=4000.0 ...............................................\n",
      "[CV] ............................... clf__alpha=40000.0, total=  11.9s\n",
      "[CV] clf__alpha=4000.0 ...............................................\n",
      "[CV] ............................... clf__alpha=40000.0, total=  11.7s\n",
      "[CV] clf__alpha=4000.0 ...............................................\n",
      "[CV] ............................... clf__alpha=40000.0, total=  11.4s\n",
      "[CV] clf__alpha=400.0 ................................................\n",
      "[CV] ................................ clf__alpha=4000.0, total=  11.3s\n",
      "[CV] clf__alpha=400.0 ................................................\n",
      "[CV] ................................ clf__alpha=4000.0, total=  11.0s\n",
      "[CV] clf__alpha=400.0 ................................................\n",
      "[CV] ................................ clf__alpha=4000.0, total=  11.0s\n",
      "[CV] clf__alpha=40.0 .................................................\n",
      "[CV] ................................. clf__alpha=400.0, total=  11.0s\n",
      "[CV] clf__alpha=40.0 .................................................\n",
      "[CV] ................................. clf__alpha=400.0, total=  10.8s\n",
      "[CV] clf__alpha=40.0 .................................................\n",
      "[CV] ................................. clf__alpha=400.0, total=  10.9s\n",
      "[CV] clf__alpha=4.0 ..................................................\n",
      "[CV] .................................. clf__alpha=40.0, total=  10.0s\n",
      "[CV] clf__alpha=4.0 ..................................................\n",
      "[CV] ................................... clf__alpha=4.0, total=   7.2s\n",
      "[CV] clf__alpha=4.0 ..................................................\n",
      "[CV] .................................. clf__alpha=40.0, total=  10.3s\n",
      "[CV] clf__alpha=0.4 ..................................................\n",
      "[CV] .................................. clf__alpha=40.0, total=  10.1s\n",
      "[CV] clf__alpha=0.4 ..................................................\n",
      "[CV] ................................... clf__alpha=4.0, total=   8.1s\n",
      "[CV] clf__alpha=0.4 ..................................................\n",
      "[CV] ................................... clf__alpha=4.0, total=   8.2s\n",
      "[CV] clf__alpha=0.04 .................................................\n",
      "[CV] ................................... clf__alpha=0.4, total=   8.0s\n",
      "[CV] clf__alpha=0.04 .................................................\n",
      "[CV] ................................... clf__alpha=0.4, total=   8.3s\n",
      "[CV] clf__alpha=0.04 .................................................\n",
      "[CV] ................................... clf__alpha=0.4, total=   9.1s\n",
      "[CV] clf__alpha=0.004 ................................................\n"
     ]
    },
    {
     "name": "stderr",
     "output_type": "stream",
     "text": [
      "[Parallel(n_jobs=-1)]: Done  33 tasks      | elapsed:  1.7min\n"
     ]
    },
    {
     "name": "stdout",
     "output_type": "stream",
     "text": [
      "[CV] .................................. clf__alpha=0.04, total=   8.4s\n",
      "[CV] clf__alpha=0.004 ................................................\n",
      "[CV] .................................. clf__alpha=0.04, total=   7.8s\n",
      "[CV] clf__alpha=0.004 ................................................\n",
      "[CV] .................................. clf__alpha=0.04, total=   7.7s\n",
      "[CV] clf__alpha=0.0004 ...............................................\n",
      "[CV] ................................. clf__alpha=0.004, total=   7.4s\n",
      "[CV] clf__alpha=0.0004 ...............................................\n",
      "[CV] ................................. clf__alpha=0.004, total=   7.2s\n",
      "[CV] clf__alpha=0.0004 ...............................................\n",
      "[CV] ................................. clf__alpha=0.004, total=   7.3s\n",
      "[CV] clf__alpha=4e-05 ................................................\n",
      "[CV] ................................ clf__alpha=0.0004, total=   6.9s\n",
      "[CV] clf__alpha=4e-05 ................................................\n",
      "[CV] ................................ clf__alpha=0.0004, total=   7.1s\n",
      "[CV] clf__alpha=4e-05 ................................................\n",
      "[CV] ................................ clf__alpha=0.0004, total=   7.1s\n",
      "[CV] ................................. clf__alpha=4e-05, total=   6.9s\n",
      "[CV] ................................. clf__alpha=4e-05, total=   6.7s\n",
      "[CV] ................................. clf__alpha=4e-05, total=   5.4s\n"
     ]
    },
    {
     "name": "stderr",
     "output_type": "stream",
     "text": [
      "[Parallel(n_jobs=-1)]: Done  45 out of  45 | elapsed:  2.1min finished\n"
     ]
    },
    {
     "data": {
      "text/plain": [
       "GridSearchCV(cv=None, error_score='raise',\n",
       "       estimator=Pipeline(memory=None,\n",
       "     steps=[('scaler', MinMaxScaler(copy=True, feature_range=(0, 1))), ('clf', SGDClassifier(alpha=0.0001, average=False, class_weight=None, epsilon=0.1,\n",
       "       eta0=0.0, fit_intercept=True, l1_ratio=0.15,\n",
       "       learning_rate='optimal', loss='hinge', max_iter=5, n_iter=None,\n",
       "       n_jobs=1, penalty='l2', power_t=0.5, random_state=None,\n",
       "       shuffle=True, tol=None, verbose=0, warm_start=False))]),\n",
       "       fit_params=None, iid=True, n_jobs=-1,\n",
       "       param_grid={'clf__alpha': array([  4.00000e+09,   4.00000e+08,   4.00000e+07,   4.00000e+06,\n",
       "         4.00000e+05,   4.00000e+04,   4.00000e+03,   4.00000e+02,\n",
       "         4.00000e+01,   4.00000e+00,   4.00000e-01,   4.00000e-02,\n",
       "         4.00000e-03,   4.00000e-04,   4.00000e-05])},\n",
       "       pre_dispatch='2*n_jobs', refit=True, return_train_score=True,\n",
       "       scoring=None, verbose=2)"
      ]
     },
     "execution_count": 17,
     "metadata": {},
     "output_type": "execute_result"
    }
   ],
   "source": [
    "from sklearn.preprocessing import MinMaxScaler\n",
    "from sklearn.pipeline import Pipeline\n",
    "from sklearn.model_selection import GridSearchCV\n",
    "\n",
    "\n",
    "estimators = [('scaler', MinMaxScaler()), \n",
    "              ('clf', SGDClassifier(loss=\"hinge\"))]\n",
    "\n",
    "pipe = Pipeline(estimators)\n",
    "\n",
    "param = {'clf__alpha': (X_train.shape[0] * 2./3.) / (10**np.arange(-5.0, 10.0)) } # 内部でcv=3とされるので学習データ数 * (2/3)とした．\n",
    "\n",
    "gs = GridSearchCV(pipe, param, n_jobs=-1, verbose=2)\n",
    "gs.fit(X_train, y_train)"
   ]
  },
  {
   "cell_type": "code",
   "execution_count": 25,
   "metadata": {
    "ExecuteTime": {
     "end_time": "2017-06-22T08:42:05.376164Z",
     "start_time": "2017-06-22T08:42:03.567390Z"
    },
    "scrolled": false
   },
   "outputs": [
    {
     "data": {
      "text/plain": [
       "<matplotlib.text.Text at 0x13554a940>"
      ]
     },
     "execution_count": 25,
     "metadata": {},
     "output_type": "execute_result"
    },
    {
     "data": {
      "image/png": "[encoded data removed]",
      "text/plain": [
       "<matplotlib.figure.Figure at 0x133641fd0>"
      ]
     },
     "metadata": {},
     "output_type": "display_data"
    }
   ],
   "source": [
    "plt.plot(gs.cv_results_['param_clf__alpha'].data, \n",
    "         gs.cv_results_['mean_fit_time'], \n",
    "         label=\"training\")\n",
    "\n",
    "plt.plot(gs.cv_results_['param_clf__alpha'].data,\n",
    "         gs.cv_results_['mean_score_time'], \n",
    "         label=\"test(val)\")\n",
    "plt.ylabel(\"computation time [sec]\")\n",
    "plt.ylim(0,)\n",
    "plt.xscale(\"log\")\n",
    "plt.xlabel(\"alpha = #sample / C\")\n",
    "plt.legend(bbox_to_anchor=(-0.3, 1), loc=\"upper left\", borderaxespad=0.);\n",
    "\n",
    "plt.twinx()\n",
    "\n",
    "plt.plot(gs.cv_results_['param_clf__alpha'].data, \n",
    "         gs.cv_results_['mean_train_score'], \n",
    "         linestyle=\"--\",\n",
    "         label=\"training\")\n",
    "\n",
    "plt.plot(gs.cv_results_['param_clf__alpha'].data,\n",
    "         gs.cv_results_['mean_test_score'], \n",
    "         linestyle=\"--\",\n",
    "         label=\"test(val)\")\n",
    "plt.ylabel(\"accuracy\")\n",
    "plt.legend(bbox_to_anchor=(1.3, 0), loc=\"lower right\", borderaxespad=0.);\n",
    "\n",
    "plt.title(\"SGDClassifier\")"
   ]
  },
  {
   "cell_type": "code",
   "execution_count": null,
   "metadata": {
    "collapsed": true
   },
   "outputs": [],
   "source": []
  },
  {
   "cell_type": "code",
   "execution_count": null,
   "metadata": {
    "collapsed": true
   },
   "outputs": [],
   "source": []
  },
  {
   "cell_type": "code",
   "execution_count": null,
   "metadata": {
    "collapsed": true
   },
   "outputs": [],
   "source": []
  },
  {
   "cell_type": "code",
   "execution_count": 5,
   "metadata": {
    "ExecuteTime": {
     "end_time": "2017-06-22T08:42:05.422894Z",
     "start_time": "2017-06-22T08:42:05.378087Z"
    },
    "collapsed": true
   },
   "outputs": [],
   "source": [
    "from sklearn.datasets import load_breast_cancer\n",
    "data = load_breast_cancer()\n",
    "X = data.data\n",
    "y = data.target"
   ]
  },
  {
   "cell_type": "code",
   "execution_count": 6,
   "metadata": {
    "ExecuteTime": {
     "end_time": "2017-06-22T08:42:05.530823Z",
     "start_time": "2017-06-22T08:42:05.425198Z"
    },
    "collapsed": true
   },
   "outputs": [],
   "source": [
    "from sklearn.model_selection import ShuffleSplit\n",
    "ss = ShuffleSplit(n_splits=1, \n",
    "                  train_size=0.8, \n",
    "                  test_size=0.2, \n",
    "                  random_state=0)\n",
    "\n",
    "train_index, test_index = next(ss.split(X, y))\n",
    "\n",
    "X_train, X_test = X[train_index], X[test_index]\n",
    "y_train, y_test = y[train_index], y[test_index]"
   ]
  },
  {
   "cell_type": "code",
   "execution_count": 7,
   "metadata": {
    "ExecuteTime": {
     "end_time": "2017-06-22T08:42:05.542691Z",
     "start_time": "2017-06-22T08:42:05.532816Z"
    },
    "collapsed": true
   },
   "outputs": [],
   "source": [
    "from sklearn.preprocessing import MinMaxScaler\n",
    "scaler = MinMaxScaler()\n",
    "scaler.fit(X_train)\n",
    "X_train = scaler.transform(X_train)\n",
    "X_test  = scaler.transform(X_test)"
   ]
  },
  {
   "cell_type": "code",
   "execution_count": 15,
   "metadata": {
    "ExecuteTime": {
     "end_time": "2017-06-22T08:42:05.552789Z",
     "start_time": "2017-06-22T08:42:05.544570Z"
    }
   },
   "outputs": [
    {
     "name": "stderr",
     "output_type": "stream",
     "text": [
      "/Users/yohei/anaconda/lib/python3.5/site-packages/sklearn/linear_model/stochastic_gradient.py:84: FutureWarning: max_iter and tol parameters have been added in <class 'sklearn.linear_model.stochastic_gradient.SGDClassifier'> in 0.19. If both are left unset, they default to max_iter=5 and tol=None. If tol is not None, max_iter defaults to max_iter=1000. From 0.21, default max_iter will be 1000, and default tol will be 1e-3.\n",
      "  \"and default tol will be 1e-3.\" % type(self), FutureWarning)\n"
     ]
    }
   ],
   "source": [
    "clf = SGDClassifier(loss=\"hinge\") # SVM"
   ]
  },
  {
   "cell_type": "code",
   "execution_count": 18,
   "metadata": {
    "ExecuteTime": {
     "end_time": "2017-06-22T08:42:05.608436Z",
     "start_time": "2017-06-22T08:42:05.554747Z"
    }
   },
   "outputs": [
    {
     "data": {
      "text/plain": [
       "0.96491228070175439"
      ]
     },
     "execution_count": 18,
     "metadata": {},
     "output_type": "execute_result"
    }
   ],
   "source": [
    "clf.fit(X_train, y_train) # SGDなので結果は毎回変わる． random_stateで固定してやれば毎回同じ結果が得られる．\n",
    "clf.score(X_test, y_test)"
   ]
  },
  {
   "cell_type": "code",
   "execution_count": 19,
   "metadata": {
    "ExecuteTime": {
     "end_time": "2017-06-22T08:42:05.619776Z",
     "start_time": "2017-06-22T08:42:05.611154Z"
    }
   },
   "outputs": [
    {
     "name": "stderr",
     "output_type": "stream",
     "text": [
      "/Users/yohei/anaconda/lib/python3.5/site-packages/sklearn/linear_model/stochastic_gradient.py:84: FutureWarning: max_iter and tol parameters have been added in <class 'sklearn.linear_model.stochastic_gradient.SGDClassifier'> in 0.19. If both are left unset, they default to max_iter=5 and tol=None. If tol is not None, max_iter defaults to max_iter=1000. From 0.21, default max_iter will be 1000, and default tol will be 1e-3.\n",
      "  \"and default tol will be 1e-3.\" % type(self), FutureWarning)\n"
     ]
    }
   ],
   "source": [
    "clf = SGDClassifier(loss=\"log\") # logistic regression"
   ]
  },
  {
   "cell_type": "code",
   "execution_count": 20,
   "metadata": {
    "ExecuteTime": {
     "end_time": "2017-06-22T08:42:05.639523Z",
     "start_time": "2017-06-22T08:42:05.621639Z"
    }
   },
   "outputs": [
    {
     "data": {
      "text/plain": [
       "0.93859649122807021"
      ]
     },
     "execution_count": 20,
     "metadata": {},
     "output_type": "execute_result"
    }
   ],
   "source": [
    "clf.fit(X_train, y_train) # SGDなので結果は毎回変わる．\n",
    "clf.score(X_test, y_test)"
   ]
  },
  {
   "cell_type": "code",
   "execution_count": 21,
   "metadata": {},
   "outputs": [
    {
     "data": {
      "text/plain": [
       "0.96491228070175439"
      ]
     },
     "execution_count": 21,
     "metadata": {},
     "output_type": "execute_result"
    }
   ],
   "source": [
    "from sklearn.svm import SVC\n",
    "clf = SVC(kernel='linear')\n",
    "\n",
    "clf.fit(X_train, y_train)\n",
    "clf.score(X_test, y_test)"
   ]
  },
  {
   "cell_type": "code",
   "execution_count": 22,
   "metadata": {},
   "outputs": [
    {
     "data": {
      "text/plain": [
       "0.95614035087719296"
      ]
     },
     "execution_count": 22,
     "metadata": {},
     "output_type": "execute_result"
    }
   ],
   "source": [
    "from sklearn.linear_model import  LogisticRegression\n",
    "clf = LogisticRegression()\n",
    "\n",
    "clf.fit(X_train, y_train)\n",
    "clf.score(X_test, y_test)"
   ]
  },
  {
   "cell_type": "code",
   "execution_count": null,
   "metadata": {
    "collapsed": true
   },
   "outputs": [],
   "source": []
  }
 ],
 "metadata": {
  "anaconda-cloud": {},
  "kernelspec": {
   "display_name": "Python 3",
   "language": "python",
   "name": "python3"
  },
  "language_info": {
   "codemirror_mode": {
    "name": "ipython",
    "version": 3
   },
   "file_extension": ".py",
   "mimetype": "text/x-python",
   "name": "python",
   "nbconvert_exporter": "python",
   "pygments_lexer": "ipython3",
   "version": "3.5.4"
  },
  "toc": {
   "colors": {
    "hover_highlight": "#DAA520",
    "running_highlight": "#FF0000",
    "selected_highlight": "#FFD700"
   },
   "moveMenuLeft": true,
   "nav_menu": {
    "height": "12px",
    "width": "252px"
   },
   "navigate_menu": true,
   "number_sections": true,
   "sideBar": true,
   "threshold": 4,
   "toc_cell": false,
   "toc_section_display": "block",
   "toc_window_display": false,
   "widenNotebook": false
  }
 },
 "nbformat": 4,
 "nbformat_minor": 1
}
