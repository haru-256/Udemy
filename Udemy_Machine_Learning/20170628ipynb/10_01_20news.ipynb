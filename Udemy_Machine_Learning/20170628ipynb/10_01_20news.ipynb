{
 "cells": [
  {
   "cell_type": "code",
   "execution_count": 1,
   "metadata": {
    "ExecuteTime": {
     "end_time": "2017-06-22T08:41:49.336153Z",
     "start_time": "2017-06-22T08:41:47.784910Z"
    },
    "collapsed": true
   },
   "outputs": [],
   "source": [
    "import numpy as np\n",
    "from sklearn.datasets import fetch_20newsgroups"
   ]
  },
  {
   "cell_type": "code",
   "execution_count": 2,
   "metadata": {
    "ExecuteTime": {
     "end_time": "2017-06-22T08:42:31.109770Z",
     "start_time": "2017-06-22T08:41:49.337807Z"
    },
    "collapsed": true
   },
   "outputs": [],
   "source": [
    "newsgroups_train = fetch_20newsgroups(subset='train')\n",
    "newsgroups_test  = fetch_20newsgroups(subset='test')"
   ]
  },
  {
   "cell_type": "code",
   "execution_count": 3,
   "metadata": {
    "ExecuteTime": {
     "end_time": "2017-06-22T08:42:31.124091Z",
     "start_time": "2017-06-22T08:42:31.111371Z"
    }
   },
   "outputs": [
    {
     "data": {
      "text/plain": [
       "['alt.atheism',\n",
       " 'comp.graphics',\n",
       " 'comp.os.ms-windows.misc',\n",
       " 'comp.sys.ibm.pc.hardware',\n",
       " 'comp.sys.mac.hardware',\n",
       " 'comp.windows.x',\n",
       " 'misc.forsale',\n",
       " 'rec.autos',\n",
       " 'rec.motorcycles',\n",
       " 'rec.sport.baseball',\n",
       " 'rec.sport.hockey',\n",
       " 'sci.crypt',\n",
       " 'sci.electronics',\n",
       " 'sci.med',\n",
       " 'sci.space',\n",
       " 'soc.religion.christian',\n",
       " 'talk.politics.guns',\n",
       " 'talk.politics.mideast',\n",
       " 'talk.politics.misc',\n",
       " 'talk.religion.misc']"
      ]
     },
     "execution_count": 3,
     "metadata": {},
     "output_type": "execute_result"
    }
   ],
   "source": [
    "newsgroups_train.target_names"
   ]
  },
  {
   "cell_type": "code",
   "execution_count": 4,
   "metadata": {
    "ExecuteTime": {
     "end_time": "2017-06-22T08:42:31.130242Z",
     "start_time": "2017-06-22T08:42:31.125717Z"
    }
   },
   "outputs": [
    {
     "data": {
      "text/plain": [
       "(11314, 7532)"
      ]
     },
     "execution_count": 4,
     "metadata": {},
     "output_type": "execute_result"
    }
   ],
   "source": [
    "newsgroups_train.target.size, newsgroups_test.target.size"
   ]
  },
  {
   "cell_type": "code",
   "execution_count": 11,
   "metadata": {
    "ExecuteTime": {
     "end_time": "2017-06-22T08:42:31.135207Z",
     "start_time": "2017-06-22T08:42:31.131860Z"
    }
   },
   "outputs": [
    {
     "name": "stdout",
     "output_type": "stream",
     "text": [
      "From: lerxst@wam.umd.edu (where's my thing)\n",
      "Subject: WHAT car is this!?\n",
      "Nntp-Posting-Host: rac3.wam.umd.edu\n",
      "Organization: University of Maryland, College Park\n",
      "Lines: 15\n",
      "\n",
      " I was wondering if anyone out there could enlighten me on this car I saw\n",
      "the other day. It was a 2-door sports car, looked to be from the late 60s/\n",
      "early 70s. It was called a Bricklin. The doors were really small. In addition,\n",
      "the front bumper was separate from the rest of the body. This is \n",
      "all I know. If anyone can tellme a model name, engine specs, years\n",
      "of production, where this car is made, history, or whatever info you\n",
      "have on this funky looking car, please e-mail.\n",
      "\n",
      "Thanks,\n",
      "- IL\n",
      "   ---- brought to you by your neighborhood Lerxst ----\n",
      "\n",
      "\n",
      "\n",
      "\n",
      "\n"
     ]
    }
   ],
   "source": [
    "print(newsgroups_train.data[0])"
   ]
  },
  {
   "cell_type": "code",
   "execution_count": 5,
   "metadata": {
    "ExecuteTime": {
     "end_time": "2017-06-22T08:42:31.140039Z",
     "start_time": "2017-06-22T08:42:31.136785Z"
    },
    "collapsed": true
   },
   "outputs": [],
   "source": [
    "from sklearn.feature_extraction.text import TfidfVectorizer\n",
    "vectorizer = TfidfVectorizer()"
   ]
  },
  {
   "cell_type": "code",
   "execution_count": 6,
   "metadata": {
    "ExecuteTime": {
     "end_time": "2017-06-22T08:42:40.922967Z",
     "start_time": "2017-06-22T08:42:31.141782Z"
    },
    "collapsed": true
   },
   "outputs": [],
   "source": [
    "X_train = vectorizer.fit_transform(newsgroups_train.data)\n",
    "X_test  = vectorizer.transform(newsgroups_test.data)"
   ]
  },
  {
   "cell_type": "code",
   "execution_count": 7,
   "metadata": {
    "ExecuteTime": {
     "end_time": "2017-06-22T08:42:40.929105Z",
     "start_time": "2017-06-22T08:42:40.924680Z"
    },
    "collapsed": true
   },
   "outputs": [],
   "source": [
    "y_train = newsgroups_train.target\n",
    "y_test  = newsgroups_test.target"
   ]
  },
  {
   "cell_type": "code",
   "execution_count": 8,
   "metadata": {},
   "outputs": [
    {
     "data": {
      "text/plain": [
       "array([7, 4, 4, ..., 3, 1, 8])"
      ]
     },
     "execution_count": 8,
     "metadata": {},
     "output_type": "execute_result"
    }
   ],
   "source": [
    "y_train"
   ]
  },
  {
   "cell_type": "code",
   "execution_count": 9,
   "metadata": {
    "ExecuteTime": {
     "end_time": "2017-06-22T08:42:40.936205Z",
     "start_time": "2017-06-22T08:42:40.931257Z"
    }
   },
   "outputs": [
    {
     "data": {
      "text/plain": [
       "((11314, 130107), (11314,))"
      ]
     },
     "execution_count": 9,
     "metadata": {},
     "output_type": "execute_result"
    }
   ],
   "source": [
    "X_train.shape, y_train.shape"
   ]
  },
  {
   "cell_type": "code",
   "execution_count": 10,
   "metadata": {
    "ExecuteTime": {
     "end_time": "2017-06-22T08:42:40.943193Z",
     "start_time": "2017-06-22T08:42:40.937884Z"
    },
    "scrolled": true
   },
   "outputs": [
    {
     "data": {
      "text/plain": [
       "((7532, 130107), (7532,))"
      ]
     },
     "execution_count": 10,
     "metadata": {},
     "output_type": "execute_result"
    }
   ],
   "source": [
    "X_test.shape, y_test.shape"
   ]
  },
  {
   "cell_type": "code",
   "execution_count": 11,
   "metadata": {
    "ExecuteTime": {
     "end_time": "2017-06-22T08:42:41.088041Z",
     "start_time": "2017-06-22T08:42:40.945182Z"
    },
    "collapsed": true
   },
   "outputs": [],
   "source": [
    "from sklearn.linear_model import LogisticRegression\n",
    "clf = LogisticRegression()"
   ]
  },
  {
   "cell_type": "code",
   "execution_count": 12,
   "metadata": {
    "ExecuteTime": {
     "end_time": "2017-06-22T08:43:11.721406Z",
     "start_time": "2017-06-22T08:42:41.089703Z"
    }
   },
   "outputs": [
    {
     "data": {
      "text/plain": [
       "LogisticRegression(C=1.0, class_weight=None, dual=False, fit_intercept=True,\n",
       "          intercept_scaling=1, max_iter=100, multi_class='ovr', n_jobs=1,\n",
       "          penalty='l2', random_state=None, solver='liblinear', tol=0.0001,\n",
       "          verbose=0, warm_start=False)"
      ]
     },
     "execution_count": 12,
     "metadata": {},
     "output_type": "execute_result"
    }
   ],
   "source": [
    "clf.fit(X_train, y_train)"
   ]
  },
  {
   "cell_type": "code",
   "execution_count": 14,
   "metadata": {
    "ExecuteTime": {
     "end_time": "2017-06-22T08:43:11.792742Z",
     "start_time": "2017-06-22T08:43:11.722948Z"
    }
   },
   "outputs": [
    {
     "data": {
      "text/plain": [
       "0.82793414763674988"
      ]
     },
     "execution_count": 14,
     "metadata": {},
     "output_type": "execute_result"
    }
   ],
   "source": [
    "clf.score(X_test, y_test)"
   ]
  },
  {
   "cell_type": "code",
   "execution_count": null,
   "metadata": {
    "collapsed": true
   },
   "outputs": [],
   "source": []
  },
  {
   "cell_type": "code",
   "execution_count": 16,
   "metadata": {
    "ExecuteTime": {
     "end_time": "2017-06-22T08:43:11.862288Z",
     "start_time": "2017-06-22T08:43:11.794299Z"
    }
   },
   "outputs": [
    {
     "data": {
      "text/plain": [
       "<1x130107 sparse matrix of type '<class 'numpy.float64'>'\n",
       "\twith 89 stored elements in Compressed Sparse Row format>"
      ]
     },
     "execution_count": 16,
     "metadata": {},
     "output_type": "execute_result"
    }
   ],
   "source": [
    "X_train[0] # spase matrix となっている．"
   ]
  },
  {
   "cell_type": "code",
   "execution_count": 17,
   "metadata": {
    "ExecuteTime": {
     "end_time": "2017-06-22T08:43:11.869960Z",
     "start_time": "2017-06-22T08:43:11.863816Z"
    }
   },
   "outputs": [
    {
     "data": {
      "text/plain": [
       "array([[ 0.,  0.,  0., ...,  0.,  0.,  0.]])"
      ]
     },
     "execution_count": 17,
     "metadata": {},
     "output_type": "execute_result"
    }
   ],
   "source": [
    "X_train_0 = X_train[0].toarray() # toarray でarrayに変換する．\n",
    "X_train_0"
   ]
  },
  {
   "cell_type": "code",
   "execution_count": 18,
   "metadata": {
    "ExecuteTime": {
     "end_time": "2017-06-22T08:43:11.877110Z",
     "start_time": "2017-06-22T08:43:11.871608Z"
    }
   },
   "outputs": [
    {
     "data": {
      "text/plain": [
       "(89, 130107)"
      ]
     },
     "execution_count": 18,
     "metadata": {},
     "output_type": "execute_result"
    }
   ],
   "source": [
    "np.count_nonzero(X_train_0), X_train_0.shape[1] # 13万次元中 ゼロでない特徴は89個しかない．"
   ]
  },
  {
   "cell_type": "code",
   "execution_count": 19,
   "metadata": {
    "ExecuteTime": {
     "end_time": "2017-06-22T08:43:11.887409Z",
     "start_time": "2017-06-22T08:43:11.878877Z"
    }
   },
   "outputs": [
    {
     "data": {
      "text/plain": [
       "array([ 0.06332604,  0.14155753,  0.13874908,  0.0953487 ,  0.03709893,\n",
       "        0.10278592,  0.02991186,  0.0871642 ,  0.16713176,  0.09353931,\n",
       "        0.13280753,  0.03770449,  0.0690878 ,  0.0343176 ,  0.38133891,\n",
       "        0.07801368,  0.04951999,  0.06621689,  0.10015015,  0.11603643,\n",
       "        0.0845253 ,  0.05461429,  0.09714744,  0.13412921,  0.05747015,\n",
       "        0.08646963,  0.1558717 ,  0.02921528,  0.08342748,  0.03542092,\n",
       "        0.06363421,  0.09785516,  0.02245166,  0.07313444,  0.07325812,\n",
       "        0.05097865,  0.04280825,  0.09219024,  0.35383501,  0.01921946,\n",
       "        0.09036441,  0.0690878 ,  0.06339409,  0.05989857,  0.10936401,\n",
       "        0.03955173,  0.08844382,  0.03696979,  0.07000411,  0.13157119,\n",
       "        0.03567186,  0.06521174,  0.05715821,  0.03188937,  0.01992886,\n",
       "        0.0454964 ,  0.04114286,  0.09913274,  0.05545703,  0.03447138,\n",
       "        0.10826904,  0.16068606,  0.05666562,  0.08171219,  0.0846283 ,\n",
       "        0.09869735,  0.07526016,  0.10844725,  0.10809248,  0.01915672,\n",
       "        0.17691751,  0.05511105,  0.12287763,  0.03671831,  0.06214071,\n",
       "        0.14447276,  0.04247263,  0.21186807,  0.03708598,  0.25970902,\n",
       "        0.14534719,  0.04943756,  0.03685429,  0.08207027,  0.10798795,\n",
       "        0.0888257 ,  0.0606221 ,  0.05922294,  0.04278499])"
      ]
     },
     "execution_count": 19,
     "metadata": {},
     "output_type": "execute_result"
    }
   ],
   "source": [
    "X_train_0[np.nonzero(X_train_0)]"
   ]
  },
  {
   "cell_type": "code",
   "execution_count": 20,
   "metadata": {
    "ExecuteTime": {
     "end_time": "2017-06-22T08:43:12.488949Z",
     "start_time": "2017-06-22T08:43:11.888933Z"
    }
   },
   "outputs": [
    {
     "data": {
      "text/plain": [
       "[<matplotlib.lines.Line2D at 0x10d728b00>]"
      ]
     },
     "execution_count": 20,
     "metadata": {},
     "output_type": "execute_result"
    },
    {
     "data": {
      "image/png": "[encoded data removed]",
      "text/plain": [
       "<matplotlib.figure.Figure at 0x10e9d22e8>"
      ]
     },
     "metadata": {},
     "output_type": "display_data"
    }
   ],
   "source": [
    "import numpy as np\n",
    "import matplotlib.pyplot as plt\n",
    "%matplotlib inline\n",
    "\n",
    "plt.plot(np.sort(X_train_0[np.nonzero(X_train_0)]))"
   ]
  },
  {
   "cell_type": "code",
   "execution_count": 31,
   "metadata": {},
   "outputs": [
    {
     "data": {
      "text/plain": [
       "<matplotlib.axes._subplots.AxesSubplot at 0x11bc35978>"
      ]
     },
     "execution_count": 31,
     "metadata": {},
     "output_type": "execute_result"
    },
    {
     "data": {
      "image/png": "[encoded data removed]",
      "text/plain": [
       "<matplotlib.figure.Figure at 0x11b95be10>"
      ]
     },
     "metadata": {},
     "output_type": "display_data"
    }
   ],
   "source": [
    "import seaborn as sns\n",
    "sns.distplot(X_train_0[np.nonzero(X_train_0)], bins=30, rug=True)"
   ]
  },
  {
   "cell_type": "code",
   "execution_count": null,
   "metadata": {
    "collapsed": true
   },
   "outputs": [],
   "source": []
  },
  {
   "cell_type": "markdown",
   "metadata": {
    "collapsed": true
   },
   "source": [
    "ほとんどが0....なので値がある(1)なし(0)で2値化しようと試みる．\n",
    "\n",
    "問題はどこからを0, 1にするかの閾値を決めること．\n",
    "\n",
    "[sklearn.preprocessing.Binarizer](http://scikit-learn.org/stable/modules/generated/sklearn.preprocessing.Binarizer.html)"
   ]
  },
  {
   "cell_type": "code",
   "execution_count": 19,
   "metadata": {
    "ExecuteTime": {
     "end_time": "2017-06-22T08:43:12.498783Z",
     "start_time": "2017-06-22T08:43:12.490670Z"
    },
    "collapsed": true
   },
   "outputs": [],
   "source": [
    "from sklearn.pipeline import Pipeline\n",
    "from sklearn.preprocessing import Binarizer\n",
    "\n",
    "pipe = Pipeline([('bin', Binarizer()), \n",
    "                 ('clf', LogisticRegression())])"
   ]
  },
  {
   "cell_type": "code",
   "execution_count": 20,
   "metadata": {
    "ExecuteTime": {
     "end_time": "2017-06-22T08:44:55.468983Z",
     "start_time": "2017-06-22T08:43:12.500342Z"
    }
   },
   "outputs": [
    {
     "name": "stdout",
     "output_type": "stream",
     "text": [
      "Fitting 3 folds for each of 7 candidates, totalling 21 fits\n",
      "[CV] bin__threshold=0.001 ............................................\n",
      "[CV] bin__threshold=0.001 ............................................\n",
      "[CV] bin__threshold=0.001 ............................................\n",
      "[CV] bin__threshold=0.01 .............................................\n",
      "[CV] .............................. bin__threshold=0.01, total=  20.9s\n",
      "[CV] bin__threshold=0.01 .............................................\n",
      "[CV] ............................. bin__threshold=0.001, total=  22.6s\n",
      "[CV] bin__threshold=0.01 .............................................\n",
      "[CV] ............................. bin__threshold=0.001, total=  23.3s\n",
      "[CV] bin__threshold=0.05 .............................................\n",
      "[CV] ............................. bin__threshold=0.001, total=  24.2s\n",
      "[CV] bin__threshold=0.05 .............................................\n",
      "[CV] .............................. bin__threshold=0.05, total=   8.8s\n",
      "[CV] bin__threshold=0.05 .............................................\n",
      "[CV] .............................. bin__threshold=0.05, total=   8.8s\n",
      "[CV] bin__threshold=0.1 ..............................................\n",
      "[CV] ............................... bin__threshold=0.1, total=   5.2s\n",
      "[CV] bin__threshold=0.1 ..............................................\n",
      "[CV] .............................. bin__threshold=0.01, total=  18.0s\n",
      "[CV] bin__threshold=0.1 ..............................................\n",
      "[CV] .............................. bin__threshold=0.05, total=   8.6s\n",
      "[CV] bin__threshold=0.2 ..............................................\n",
      "[CV] .............................. bin__threshold=0.01, total=  18.7s\n",
      "[CV] bin__threshold=0.2 ..............................................\n",
      "[CV] ............................... bin__threshold=0.1, total=   5.3s\n",
      "[CV] bin__threshold=0.2 ..............................................\n",
      "[CV] ............................... bin__threshold=0.2, total=   3.0s\n",
      "[CV] bin__threshold=0.3 ..............................................\n",
      "[CV] ............................... bin__threshold=0.2, total=   3.1s\n",
      "[CV] ............................... bin__threshold=0.1, total=   5.3s\n",
      "[CV] bin__threshold=0.3 ..............................................\n",
      "[CV] bin__threshold=0.3 ..............................................\n",
      "[CV] ............................... bin__threshold=0.3, total=   2.1s\n",
      "[CV] bin__threshold=0.4 ..............................................\n",
      "[CV] ............................... bin__threshold=0.3, total=   1.9s\n",
      "[CV] ............................... bin__threshold=0.3, total=   2.0s\n",
      "[CV] bin__threshold=0.4 ..............................................\n",
      "[CV] bin__threshold=0.4 ..............................................\n",
      "[CV] ............................... bin__threshold=0.2, total=   2.9s\n",
      "[CV] ............................... bin__threshold=0.4, total=   1.2s\n",
      "[CV] ............................... bin__threshold=0.4, total=   1.1s\n",
      "[CV] ............................... bin__threshold=0.4, total=   1.0s\n"
     ]
    },
    {
     "name": "stderr",
     "output_type": "stream",
     "text": [
      "[Parallel(n_jobs=-1)]: Done  21 out of  21 | elapsed:   47.9s finished\n"
     ]
    },
    {
     "data": {
      "text/plain": [
       "GridSearchCV(cv=3, error_score='raise',\n",
       "       estimator=Pipeline(memory=None,\n",
       "     steps=[('bin', Binarizer(copy=True, threshold=0.0)), ('clf', LogisticRegression(C=1.0, class_weight=None, dual=False, fit_intercept=True,\n",
       "          intercept_scaling=1, max_iter=100, multi_class='ovr', n_jobs=1,\n",
       "          penalty='l2', random_state=None, solver='liblinear', tol=0.0001,\n",
       "          verbose=0, warm_start=False))]),\n",
       "       fit_params=None, iid=True, n_jobs=-1,\n",
       "       param_grid={'bin__threshold': [0.001, 0.01, 0.05, 0.1, 0.2, 0.3, 0.4]},\n",
       "       pre_dispatch='2*n_jobs', refit=True, return_train_score=True,\n",
       "       scoring=None, verbose=2)"
      ]
     },
     "execution_count": 20,
     "metadata": {},
     "output_type": "execute_result"
    }
   ],
   "source": [
    "from sklearn.model_selection import GridSearchCV\n",
    "\n",
    "param = {'bin__threshold': [0.001, 0.01, 0.05, 0.1, 0.2, 0.3, 0.4]}\n",
    "\n",
    "gs1 = GridSearchCV(pipe, param, n_jobs=-1, verbose=2, cv=3)\n",
    "gs1.fit(X_train, y_train)"
   ]
  },
  {
   "cell_type": "code",
   "execution_count": 21,
   "metadata": {
    "ExecuteTime": {
     "end_time": "2017-06-22T08:44:55.477572Z",
     "start_time": "2017-06-22T08:44:55.471103Z"
    },
    "scrolled": true
   },
   "outputs": [
    {
     "data": {
      "text/plain": [
       "({'bin__threshold': 0.05}, 0.89137351953332156, Pipeline(memory=None,\n",
       "      steps=[('bin', Binarizer(copy=True, threshold=0.05)), ('clf', LogisticRegression(C=1.0, class_weight=None, dual=False, fit_intercept=True,\n",
       "           intercept_scaling=1, max_iter=100, multi_class='ovr', n_jobs=1,\n",
       "           penalty='l2', random_state=None, solver='liblinear', tol=0.0001,\n",
       "           verbose=0, warm_start=False))]))"
      ]
     },
     "execution_count": 21,
     "metadata": {},
     "output_type": "execute_result"
    }
   ],
   "source": [
    "gs1.best_params_, gs1.best_score_, gs1.best_estimator_"
   ]
  },
  {
   "cell_type": "code",
   "execution_count": 22,
   "metadata": {
    "ExecuteTime": {
     "end_time": "2017-06-22T08:44:55.547907Z",
     "start_time": "2017-06-22T08:44:55.479200Z"
    }
   },
   "outputs": [
    {
     "data": {
      "text/plain": [
       "0.82222517259691985"
      ]
     },
     "execution_count": 22,
     "metadata": {},
     "output_type": "execute_result"
    }
   ],
   "source": [
    "gs1.score(X_test, y_test)"
   ]
  },
  {
   "cell_type": "code",
   "execution_count": 23,
   "metadata": {
    "ExecuteTime": {
     "end_time": "2017-06-22T08:44:55.788867Z",
     "start_time": "2017-06-22T08:44:55.549515Z"
    }
   },
   "outputs": [
    {
     "data": {
      "image/png": "[encoded data removed]",
      "text/plain": [
       "<matplotlib.figure.Figure at 0x11aecf9e8>"
      ]
     },
     "metadata": {},
     "output_type": "display_data"
    }
   ],
   "source": [
    "plt.errorbar(gs1.cv_results_['param_bin__threshold'].data, \n",
    "             gs1.cv_results_['mean_train_score'], \n",
    "             yerr=gs1.cv_results_['std_train_score'],\n",
    "             label=\"training\")\n",
    "\n",
    "plt.errorbar(gs1.cv_results_['param_bin__threshold'].data,\n",
    "             gs1.cv_results_['mean_test_score'], \n",
    "             yerr=gs1.cv_results_['std_test_score'],\n",
    "             label=\"test(val)\")\n",
    "\n",
    "plt.ylim(0, 1.01)\n",
    "plt.xlabel(\"threshold\")\n",
    "plt.ylabel(\"accuracy\")\n",
    "plt.legend(loc=\"best\");"
   ]
  },
  {
   "cell_type": "markdown",
   "metadata": {
    "collapsed": true
   },
   "source": [
    "ロジスティック回帰のパラメータをRandomSerchでやってみる．"
   ]
  },
  {
   "cell_type": "code",
   "execution_count": 24,
   "metadata": {
    "ExecuteTime": {
     "end_time": "2017-06-22T08:49:32.286313Z",
     "start_time": "2017-06-22T08:44:55.790506Z"
    }
   },
   "outputs": [
    {
     "name": "stdout",
     "output_type": "stream",
     "text": [
      "Fitting 3 folds for each of 10 candidates, totalling 30 fits\n",
      "[CV] bin__threshold=0.05, clf__C=1000000000.0 ........................\n",
      "[CV] bin__threshold=0.05, clf__C=1000000000.0 ........................\n",
      "[CV] bin__threshold=0.05, clf__C=1000000000.0 ........................\n",
      "[CV] bin__threshold=0.01, clf__C=10000.0 .............................\n",
      "[CV] ......... bin__threshold=0.05, clf__C=1000000000.0, total=  13.5s\n",
      "[CV] bin__threshold=0.01, clf__C=10000.0 .............................\n",
      "[CV] ......... bin__threshold=0.05, clf__C=1000000000.0, total=  13.4s\n",
      "[CV] bin__threshold=0.01, clf__C=10000.0 .............................\n",
      "[CV] ......... bin__threshold=0.05, clf__C=1000000000.0, total=  13.6s\n",
      "[CV] bin__threshold=0.01, clf__C=10000000.0 ..........................\n",
      "[CV] .............. bin__threshold=0.01, clf__C=10000.0, total=  25.9s\n",
      "[CV] bin__threshold=0.01, clf__C=10000000.0 ..........................\n",
      "[CV] .............. bin__threshold=0.01, clf__C=10000.0, total=  24.0s\n",
      "[CV] bin__threshold=0.01, clf__C=10000000.0 ..........................\n",
      "[CV] .............. bin__threshold=0.01, clf__C=10000.0, total=  24.5s\n",
      "[CV] bin__threshold=0.001, clf__C=1000000.0 ..........................\n",
      "[CV] ........... bin__threshold=0.01, clf__C=10000000.0, total=  24.7s\n",
      "[CV] bin__threshold=0.001, clf__C=1000000.0 ..........................\n",
      "[CV] ........... bin__threshold=0.01, clf__C=10000000.0, total=  24.8s\n",
      "[CV] bin__threshold=0.001, clf__C=1000000.0 ..........................\n",
      "[CV] ........... bin__threshold=0.01, clf__C=10000000.0, total=  25.1s\n",
      "[CV] bin__threshold=0.001, clf__C=100.0 ..............................\n",
      "[CV] ........... bin__threshold=0.001, clf__C=1000000.0, total=  26.9s\n",
      "[CV] bin__threshold=0.001, clf__C=100.0 ..............................\n",
      "[CV] ........... bin__threshold=0.001, clf__C=1000000.0, total=  26.8s\n",
      "[CV] bin__threshold=0.001, clf__C=100.0 ..............................\n",
      "[CV] ........... bin__threshold=0.001, clf__C=1000000.0, total=  28.0s\n",
      "[CV] bin__threshold=0.01, clf__C=10.0 ................................\n",
      "[CV] ............... bin__threshold=0.001, clf__C=100.0, total=  25.7s\n",
      "[CV] bin__threshold=0.01, clf__C=10.0 ................................\n",
      "[CV] ............... bin__threshold=0.001, clf__C=100.0, total=  25.4s\n",
      "[CV] bin__threshold=0.01, clf__C=10.0 ................................\n",
      "[CV] ............... bin__threshold=0.001, clf__C=100.0, total=  26.8s\n",
      "[CV] bin__threshold=0.05, clf__C=100000.0 ............................\n",
      "[CV] ................. bin__threshold=0.01, clf__C=10.0, total=  23.1s\n",
      "[CV] bin__threshold=0.05, clf__C=100000.0 ............................\n",
      "[CV] ............. bin__threshold=0.05, clf__C=100000.0, total=  12.9s\n",
      "[CV] bin__threshold=0.05, clf__C=100000.0 ............................\n",
      "[CV] ................. bin__threshold=0.01, clf__C=10.0, total=  21.5s\n",
      "[CV] bin__threshold=0.05, clf__C=10.0 ................................\n",
      "[CV] ................. bin__threshold=0.01, clf__C=10.0, total=  23.6s\n",
      "[CV] bin__threshold=0.05, clf__C=10.0 ................................\n",
      "[CV] ............. bin__threshold=0.05, clf__C=100000.0, total=  13.0s\n",
      "[CV] bin__threshold=0.05, clf__C=10.0 ................................\n",
      "[CV] ............. bin__threshold=0.05, clf__C=100000.0, total=  13.6s\n",
      "[CV] bin__threshold=0.001, clf__C=10.0 ...............................\n",
      "[CV] ................. bin__threshold=0.05, clf__C=10.0, total=  12.4s\n",
      "[CV] bin__threshold=0.001, clf__C=10.0 ...............................\n",
      "[CV] ................. bin__threshold=0.05, clf__C=10.0, total=  13.3s\n",
      "[CV] bin__threshold=0.001, clf__C=10.0 ...............................\n",
      "[CV] ................. bin__threshold=0.05, clf__C=10.0, total=  13.3s\n",
      "[CV] bin__threshold=0.01, clf__C=1000.0 ..............................\n",
      "[CV] ................ bin__threshold=0.001, clf__C=10.0, total=  28.6s\n",
      "[CV] bin__threshold=0.01, clf__C=1000.0 ..............................\n",
      "[CV] ................ bin__threshold=0.001, clf__C=10.0, total=  25.8s\n",
      "[CV] bin__threshold=0.01, clf__C=1000.0 ..............................\n",
      "[CV] ................ bin__threshold=0.001, clf__C=10.0, total=  26.1s\n",
      "[CV] ............... bin__threshold=0.01, clf__C=1000.0, total=  25.4s\n",
      "[CV] ............... bin__threshold=0.01, clf__C=1000.0, total=  17.2s\n",
      "[CV] ............... bin__threshold=0.01, clf__C=1000.0, total=  17.2s\n"
     ]
    },
    {
     "name": "stderr",
     "output_type": "stream",
     "text": [
      "[Parallel(n_jobs=-1)]: Done  30 out of  30 | elapsed:  2.8min finished\n"
     ]
    },
    {
     "data": {
      "text/plain": [
       "RandomizedSearchCV(cv=None, error_score='raise',\n",
       "          estimator=Pipeline(memory=None,\n",
       "     steps=[('bin', Binarizer(copy=True, threshold=0.0)), ('clf', LogisticRegression(C=1.0, class_weight=None, dual=False, fit_intercept=True,\n",
       "          intercept_scaling=1, max_iter=100, multi_class='ovr', n_jobs=1,\n",
       "          penalty='l2', random_state=None, solver='liblinear', tol=0.0001,\n",
       "          verbose=0, warm_start=False))]),\n",
       "          fit_params=None, iid=True, n_iter=10, n_jobs=-1,\n",
       "          param_distributions={'bin__threshold': [0.001, 0.01, 0.05], 'clf__C': array([  1.00000e+01,   1.00000e+02,   1.00000e+03,   1.00000e+04,\n",
       "         1.00000e+05,   1.00000e+06,   1.00000e+07,   1.00000e+08,\n",
       "         1.00000e+09])},\n",
       "          pre_dispatch='2*n_jobs', random_state=None, refit=True,\n",
       "          return_train_score=True, scoring=None, verbose=2)"
      ]
     },
     "execution_count": 24,
     "metadata": {},
     "output_type": "execute_result"
    }
   ],
   "source": [
    "pipe = Pipeline([('bin', Binarizer()), \n",
    "                 ('clf', LogisticRegression())])\n",
    "\n",
    "param = {'bin__threshold': [0.001, 0.01, 0.05],\n",
    "         'clf__C': 10**np.arange(1.0, 10.0) }\n",
    "\n",
    "from sklearn.model_selection import RandomizedSearchCV\n",
    "\n",
    "gs11 = RandomizedSearchCV(pipe, param, n_jobs=-1, verbose=2)\n",
    "gs11.fit(X_train, y_train)"
   ]
  },
  {
   "cell_type": "code",
   "execution_count": 25,
   "metadata": {
    "ExecuteTime": {
     "end_time": "2017-06-22T08:49:32.293760Z",
     "start_time": "2017-06-22T08:49:32.288329Z"
    }
   },
   "outputs": [
    {
     "data": {
      "text/plain": [
       "({'bin__threshold': 0.05, 'clf__C': 10.0},\n",
       " 0.89172706381474276,\n",
       " Pipeline(memory=None,\n",
       "      steps=[('bin', Binarizer(copy=True, threshold=0.05)), ('clf', LogisticRegression(C=10.0, class_weight=None, dual=False, fit_intercept=True,\n",
       "           intercept_scaling=1, max_iter=100, multi_class='ovr', n_jobs=1,\n",
       "           penalty='l2', random_state=None, solver='liblinear', tol=0.0001,\n",
       "           verbose=0, warm_start=False))]))"
      ]
     },
     "execution_count": 25,
     "metadata": {},
     "output_type": "execute_result"
    }
   ],
   "source": [
    "gs11.best_params_, gs11.best_score_, gs11.best_estimator_"
   ]
  },
  {
   "cell_type": "code",
   "execution_count": 26,
   "metadata": {
    "ExecuteTime": {
     "end_time": "2017-06-22T08:49:32.364707Z",
     "start_time": "2017-06-22T08:49:32.295245Z"
    }
   },
   "outputs": [
    {
     "data": {
      "text/plain": [
       "0.82116303770578869"
      ]
     },
     "execution_count": 26,
     "metadata": {},
     "output_type": "execute_result"
    }
   ],
   "source": [
    "gs11.score(X_test, y_test)"
   ]
  },
  {
   "cell_type": "code",
   "execution_count": null,
   "metadata": {
    "collapsed": true
   },
   "outputs": [],
   "source": []
  },
  {
   "cell_type": "markdown",
   "metadata": {
    "collapsed": true
   },
   "source": [
    "今度はLinearSVCでRandomizedSearch"
   ]
  },
  {
   "cell_type": "code",
   "execution_count": 27,
   "metadata": {
    "ExecuteTime": {
     "end_time": "2017-06-22T08:51:38.911247Z",
     "start_time": "2017-06-22T08:49:32.366325Z"
    },
    "scrolled": false
   },
   "outputs": [
    {
     "name": "stdout",
     "output_type": "stream",
     "text": [
      "Fitting 3 folds for each of 10 candidates, totalling 30 fits\n",
      "[CV] bin__threshold=0.01, clf__C=10000.0 .............................\n",
      "[CV] bin__threshold=0.01, clf__C=10000.0 .............................\n",
      "[CV] bin__threshold=0.01, clf__C=10000.0 .............................\n",
      "[CV] bin__threshold=0.01, clf__C=100.0 ...............................\n",
      "[CV] .............. bin__threshold=0.01, clf__C=10000.0, total=   9.2s\n",
      "[CV] bin__threshold=0.01, clf__C=100.0 ...............................\n",
      "[CV] ................ bin__threshold=0.01, clf__C=100.0, total=   9.2s\n",
      "[CV] bin__threshold=0.01, clf__C=100.0 ...............................\n",
      "[CV] .............. bin__threshold=0.01, clf__C=10000.0, total=   9.6s\n",
      "[CV] bin__threshold=0.001, clf__C=1000.0 .............................\n",
      "[CV] .............. bin__threshold=0.01, clf__C=10000.0, total=  11.0s\n",
      "[CV] bin__threshold=0.001, clf__C=1000.0 .............................\n",
      "[CV] ................ bin__threshold=0.01, clf__C=100.0, total=   9.6s\n",
      "[CV] bin__threshold=0.001, clf__C=1000.0 .............................\n",
      "[CV] .............. bin__threshold=0.001, clf__C=1000.0, total=   9.4s\n",
      "[CV] bin__threshold=0.05, clf__C=100.0 ...............................\n",
      "[CV] ................ bin__threshold=0.01, clf__C=100.0, total=  12.4s\n",
      "[CV] bin__threshold=0.05, clf__C=100.0 ...............................\n",
      "[CV] .............. bin__threshold=0.001, clf__C=1000.0, total=  11.6s\n",
      "[CV] bin__threshold=0.05, clf__C=100.0 ...............................\n",
      "[CV] .............. bin__threshold=0.001, clf__C=1000.0, total=  11.8s\n",
      "[CV] bin__threshold=0.001, clf__C=10000000.0 .........................\n",
      "[CV] ................ bin__threshold=0.05, clf__C=100.0, total=  17.3s\n",
      "[CV] bin__threshold=0.001, clf__C=10000000.0 .........................\n",
      "[CV] ................ bin__threshold=0.05, clf__C=100.0, total=  18.4s\n",
      "[CV] bin__threshold=0.001, clf__C=10000000.0 .........................\n",
      "[CV] .......... bin__threshold=0.001, clf__C=10000000.0, total=  10.7s\n",
      "[CV] bin__threshold=0.01, clf__C=1000000.0 ...........................\n",
      "[CV] ................ bin__threshold=0.05, clf__C=100.0, total=  19.0s\n",
      "[CV] bin__threshold=0.01, clf__C=1000000.0 ...........................\n",
      "[CV] .......... bin__threshold=0.001, clf__C=10000000.0, total=  13.1s\n",
      "[CV] bin__threshold=0.01, clf__C=1000000.0 ...........................\n",
      "[CV] .......... bin__threshold=0.001, clf__C=10000000.0, total=  11.7s\n",
      "[CV] bin__threshold=0.05, clf__C=1000000.0 ...........................\n",
      "[CV] ............ bin__threshold=0.01, clf__C=1000000.0, total=  11.7s\n",
      "[CV] bin__threshold=0.05, clf__C=1000000.0 ...........................\n",
      "[CV] ............ bin__threshold=0.01, clf__C=1000000.0, total=  13.2s\n",
      "[CV] bin__threshold=0.05, clf__C=1000000.0 ...........................\n",
      "[CV] ............ bin__threshold=0.05, clf__C=1000000.0, total=   8.6s\n",
      "[CV] bin__threshold=0.001, clf__C=1000000000.0 .......................\n",
      "[CV] ............ bin__threshold=0.01, clf__C=1000000.0, total=  11.7s\n",
      "[CV] bin__threshold=0.001, clf__C=1000000000.0 .......................\n",
      "[CV] ............ bin__threshold=0.05, clf__C=1000000.0, total=   8.9s\n",
      "[CV] bin__threshold=0.001, clf__C=1000000000.0 .......................\n",
      "[CV] ............ bin__threshold=0.05, clf__C=1000000.0, total=   8.1s\n",
      "[CV] bin__threshold=0.001, clf__C=100000.0 ...........................\n",
      "[CV] ........ bin__threshold=0.001, clf__C=1000000000.0, total=   9.8s\n",
      "[CV] bin__threshold=0.001, clf__C=100000.0 ...........................\n",
      "[CV] ........ bin__threshold=0.001, clf__C=1000000000.0, total=   9.8s\n",
      "[CV] bin__threshold=0.001, clf__C=100000.0 ...........................\n",
      "[CV] ............ bin__threshold=0.001, clf__C=100000.0, total=   9.8s\n",
      "[CV] bin__threshold=0.05, clf__C=1000000000.0 ........................\n",
      "[CV] ........ bin__threshold=0.001, clf__C=1000000000.0, total=  12.1s\n",
      "[CV] bin__threshold=0.05, clf__C=1000000000.0 ........................\n",
      "[CV] ......... bin__threshold=0.05, clf__C=1000000000.0, total=   7.4s\n",
      "[CV] bin__threshold=0.05, clf__C=1000000000.0 ........................\n",
      "[CV] ......... bin__threshold=0.05, clf__C=1000000000.0, total=   8.5s\n",
      "[CV] ............ bin__threshold=0.001, clf__C=100000.0, total=  12.0s\n",
      "[CV] ............ bin__threshold=0.001, clf__C=100000.0, total=  10.5s\n",
      "[CV] ......... bin__threshold=0.05, clf__C=1000000000.0, total=   3.9s\n"
     ]
    },
    {
     "name": "stderr",
     "output_type": "stream",
     "text": [
      "[Parallel(n_jobs=-1)]: Done  30 out of  30 | elapsed:  1.4min finished\n"
     ]
    },
    {
     "data": {
      "text/plain": [
       "RandomizedSearchCV(cv=None, error_score='raise',\n",
       "          estimator=Pipeline(memory=None,\n",
       "     steps=[('bin', Binarizer(copy=True, threshold=0.0)), ('clf', LinearSVC(C=1.0, class_weight=None, dual=True, fit_intercept=True,\n",
       "     intercept_scaling=1, loss='squared_hinge', max_iter=1000,\n",
       "     multi_class='ovr', penalty='l2', random_state=None, tol=0.0001,\n",
       "     verbose=0))]),\n",
       "          fit_params=None, iid=True, n_iter=10, n_jobs=-1,\n",
       "          param_distributions={'bin__threshold': [0.001, 0.01, 0.05], 'clf__C': array([  1.00000e+01,   1.00000e+02,   1.00000e+03,   1.00000e+04,\n",
       "         1.00000e+05,   1.00000e+06,   1.00000e+07,   1.00000e+08,\n",
       "         1.00000e+09])},\n",
       "          pre_dispatch='2*n_jobs', random_state=None, refit=True,\n",
       "          return_train_score=True, scoring=None, verbose=2)"
      ]
     },
     "execution_count": 27,
     "metadata": {},
     "output_type": "execute_result"
    }
   ],
   "source": [
    "from sklearn.svm import LinearSVC\n",
    "\n",
    "pipe = Pipeline([('bin', Binarizer()), \n",
    "                 ('clf', LinearSVC())])\n",
    "\n",
    "param = {'bin__threshold': [0.001, 0.01, 0.05],\n",
    "         'clf__C': 10**np.arange(1.0, 10.0) }\n",
    "\n",
    "from sklearn.model_selection import RandomizedSearchCV\n",
    "\n",
    "gs2 = RandomizedSearchCV(pipe, param, n_jobs=-1, verbose=2)\n",
    "gs2.fit(X_train, y_train)"
   ]
  },
  {
   "cell_type": "code",
   "execution_count": 28,
   "metadata": {
    "ExecuteTime": {
     "end_time": "2017-06-22T08:51:38.920431Z",
     "start_time": "2017-06-22T08:51:38.914498Z"
    }
   },
   "outputs": [
    {
     "data": {
      "text/plain": [
       "({'bin__threshold': 0.05, 'clf__C': 100.0},\n",
       " 0.88165105179423719,\n",
       " Pipeline(memory=None,\n",
       "      steps=[('bin', Binarizer(copy=True, threshold=0.05)), ('clf', LinearSVC(C=100.0, class_weight=None, dual=True, fit_intercept=True,\n",
       "      intercept_scaling=1, loss='squared_hinge', max_iter=1000,\n",
       "      multi_class='ovr', penalty='l2', random_state=None, tol=0.0001,\n",
       "      verbose=0))]))"
      ]
     },
     "execution_count": 28,
     "metadata": {},
     "output_type": "execute_result"
    }
   ],
   "source": [
    "gs2.best_params_, gs2.best_score_, gs2.best_estimator_"
   ]
  },
  {
   "cell_type": "code",
   "execution_count": 30,
   "metadata": {
    "ExecuteTime": {
     "end_time": "2017-06-22T08:51:39.012375Z",
     "start_time": "2017-06-22T08:51:38.922013Z"
    }
   },
   "outputs": [
    {
     "data": {
      "text/plain": [
       "0.79792883696229422"
      ]
     },
     "execution_count": 30,
     "metadata": {},
     "output_type": "execute_result"
    }
   ],
   "source": [
    "gs2.score(X_test, y_test)"
   ]
  },
  {
   "cell_type": "code",
   "execution_count": null,
   "metadata": {
    "collapsed": true
   },
   "outputs": [],
   "source": []
  },
  {
   "cell_type": "markdown",
   "metadata": {
    "collapsed": true
   },
   "source": [
    "データが大きいのでSGD でやってみる．"
   ]
  },
  {
   "cell_type": "code",
   "execution_count": 31,
   "metadata": {
    "ExecuteTime": {
     "end_time": "2017-06-22T08:51:48.387969Z",
     "start_time": "2017-06-22T08:51:39.014023Z"
    }
   },
   "outputs": [
    {
     "name": "stdout",
     "output_type": "stream",
     "text": [
      "Fitting 3 folds for each of 10 candidates, totalling 30 fits\n"
     ]
    },
    {
     "name": "stderr",
     "output_type": "stream",
     "text": [
      "/Users/yohei/anaconda/lib/python3.5/site-packages/sklearn/linear_model/stochastic_gradient.py:84: FutureWarning: max_iter and tol parameters have been added in <class 'sklearn.linear_model.stochastic_gradient.SGDClassifier'> in 0.19. If both are left unset, they default to max_iter=5 and tol=None. If tol is not None, max_iter defaults to max_iter=1000. From 0.21, default max_iter will be 1000, and default tol will be 1e-3.\n",
      "  \"and default tol will be 1e-3.\" % type(self), FutureWarning)\n"
     ]
    },
    {
     "name": "stdout",
     "output_type": "stream",
     "text": [
      "[CV] bin__threshold=0.001, clf__alpha=0.0001 .........................\n",
      "[CV] bin__threshold=0.001, clf__alpha=0.0001 .........................\n",
      "[CV] bin__threshold=0.001, clf__alpha=0.0001 .........................\n",
      "[CV] bin__threshold=0.01, clf__alpha=1e-10 ...........................\n",
      "[CV] .......... bin__threshold=0.001, clf__alpha=0.0001, total=   1.0s\n",
      "[CV] bin__threshold=0.01, clf__alpha=1e-10 ...........................\n",
      "[CV] .......... bin__threshold=0.001, clf__alpha=0.0001, total=   1.0s\n",
      "[CV] bin__threshold=0.01, clf__alpha=1e-10 ...........................\n",
      "[CV] ............ bin__threshold=0.01, clf__alpha=1e-10, total=   0.9s\n",
      "[CV] .......... bin__threshold=0.001, clf__alpha=0.0001, total=   1.0s\n",
      "[CV] bin__threshold=0.05, clf__alpha=1e-09 ...........................\n",
      "[CV] bin__threshold=0.05, clf__alpha=1e-09 ...........................\n",
      "[CV] ............ bin__threshold=0.05, clf__alpha=1e-09, total=   0.6s\n",
      "[CV] ............ bin__threshold=0.05, clf__alpha=1e-09, total=   0.6s\n",
      "[CV] bin__threshold=0.05, clf__alpha=1e-09 ...........................\n",
      "[CV] bin__threshold=0.001, clf__alpha=1e-07 ..........................\n",
      "[CV] ............ bin__threshold=0.01, clf__alpha=1e-10, total=   1.0s\n",
      "[CV] bin__threshold=0.001, clf__alpha=1e-07 ..........................\n",
      "[CV] ............ bin__threshold=0.01, clf__alpha=1e-10, total=   1.0s\n",
      "[CV] bin__threshold=0.001, clf__alpha=1e-07 ..........................\n",
      "[CV] ............ bin__threshold=0.05, clf__alpha=1e-09, total=   0.7s\n",
      "[CV] bin__threshold=0.01, clf__alpha=0.01 ............................\n",
      "[CV] ........... bin__threshold=0.001, clf__alpha=1e-07, total=   1.1s\n",
      "[CV] bin__threshold=0.01, clf__alpha=0.01 ............................\n",
      "[CV] ........... bin__threshold=0.001, clf__alpha=1e-07, total=   1.0s\n",
      "[CV] bin__threshold=0.01, clf__alpha=0.01 ............................\n",
      "[CV] ........... bin__threshold=0.001, clf__alpha=1e-07, total=   1.0s\n",
      "[CV] bin__threshold=0.05, clf__alpha=1e-08 ...........................\n",
      "[CV] ............. bin__threshold=0.01, clf__alpha=0.01, total=   1.0s\n",
      "[CV] bin__threshold=0.05, clf__alpha=1e-08 ...........................\n",
      "[CV] ............ bin__threshold=0.05, clf__alpha=1e-08, total=   0.7s\n",
      "[CV] bin__threshold=0.05, clf__alpha=1e-08 ...........................\n",
      "[CV] ............. bin__threshold=0.01, clf__alpha=0.01, total=   1.0s\n",
      "[CV] bin__threshold=0.001, clf__alpha=0.001 ..........................\n",
      "[CV] ............. bin__threshold=0.01, clf__alpha=0.01, total=   1.1s\n",
      "[CV] bin__threshold=0.001, clf__alpha=0.001 ..........................\n",
      "[CV] ............ bin__threshold=0.05, clf__alpha=1e-08, total=   0.7s\n",
      "[CV] bin__threshold=0.001, clf__alpha=0.001 ..........................\n",
      "[CV] ............ bin__threshold=0.05, clf__alpha=1e-08, total=   0.8s\n",
      "[CV] bin__threshold=0.05, clf__alpha=1e-05 ...........................\n",
      "[CV] ........... bin__threshold=0.001, clf__alpha=0.001, total=   1.0s\n",
      "[CV] bin__threshold=0.05, clf__alpha=1e-05 ...........................\n",
      "[CV] ........... bin__threshold=0.001, clf__alpha=0.001, total=   1.0s\n",
      "[CV] bin__threshold=0.05, clf__alpha=1e-05 ...........................\n",
      "[CV] ........... bin__threshold=0.001, clf__alpha=0.001, total=   1.1s\n",
      "[CV] ............ bin__threshold=0.05, clf__alpha=1e-05, total=   0.8s\n",
      "[CV] bin__threshold=0.01, clf__alpha=0.001 ...........................\n",
      "[CV] bin__threshold=0.01, clf__alpha=0.001 ...........................\n",
      "[CV] ............ bin__threshold=0.05, clf__alpha=1e-05, total=   0.8s\n",
      "[CV] bin__threshold=0.01, clf__alpha=0.001 ...........................\n",
      "[CV] ............ bin__threshold=0.05, clf__alpha=1e-05, total=   0.7s\n",
      "[CV] bin__threshold=0.01, clf__alpha=1e-09 ...........................\n",
      "[CV] ............ bin__threshold=0.01, clf__alpha=0.001, total=   1.0s\n",
      "[CV] ............ bin__threshold=0.01, clf__alpha=0.001, total=   1.0s\n",
      "[CV] bin__threshold=0.01, clf__alpha=1e-09 ...........................\n",
      "[CV] bin__threshold=0.01, clf__alpha=1e-09 ...........................\n",
      "[CV] ............ bin__threshold=0.01, clf__alpha=0.001, total=   1.1s\n",
      "[CV] ............ bin__threshold=0.01, clf__alpha=1e-09, total=   1.0s\n",
      "[CV] ............ bin__threshold=0.01, clf__alpha=1e-09, total=   0.9s\n",
      "[CV] ............ bin__threshold=0.01, clf__alpha=1e-09, total=   0.8s\n"
     ]
    },
    {
     "name": "stderr",
     "output_type": "stream",
     "text": [
      "[Parallel(n_jobs=-1)]: Done  30 out of  30 | elapsed:    8.6s finished\n"
     ]
    },
    {
     "data": {
      "text/plain": [
       "RandomizedSearchCV(cv=None, error_score='raise',\n",
       "          estimator=Pipeline(memory=None,\n",
       "     steps=[('bin', Binarizer(copy=True, threshold=0.0)), ('clf', SGDClassifier(alpha=0.0001, average=False, class_weight=None, epsilon=0.1,\n",
       "       eta0=0.0, fit_intercept=True, l1_ratio=0.15,\n",
       "       learning_rate='optimal', loss='hinge', max_iter=5, n_iter=None,\n",
       "       n_jobs=1, penalty='l2', power_t=0.5, random_state=None,\n",
       "       shuffle=True, tol=None, verbose=0, warm_start=False))]),\n",
       "          fit_params=None, iid=True, n_iter=10, n_jobs=-1,\n",
       "          param_distributions={'bin__threshold': [0.001, 0.01, 0.05], 'clf__alpha': array([  1.00000e-10,   1.00000e-09,   1.00000e-08,   1.00000e-07,\n",
       "         1.00000e-06,   1.00000e-05,   1.00000e-04,   1.00000e-03,\n",
       "         1.00000e-02])},\n",
       "          pre_dispatch='2*n_jobs', random_state=None, refit=True,\n",
       "          return_train_score=True, scoring=None, verbose=2)"
      ]
     },
     "execution_count": 31,
     "metadata": {},
     "output_type": "execute_result"
    }
   ],
   "source": [
    "from sklearn.linear_model import SGDClassifier\n",
    "\n",
    "pipe = Pipeline([('bin', Binarizer()), \n",
    "                 ('clf', SGDClassifier(loss=\"hinge\") )]) # linearSVC\n",
    "\n",
    "param = {'bin__threshold': [0.001, 0.01, 0.05],\n",
    "         'clf__alpha': 10**np.arange(-10.0, -1.0) } # SGD ではalphaで正則化項を制御する．\n",
    "\n",
    "from sklearn.model_selection import RandomizedSearchCV\n",
    "\n",
    "gs22 = RandomizedSearchCV(pipe, param, n_jobs=-1, verbose=2)\n",
    "gs22.fit(X_train, y_train)"
   ]
  },
  {
   "cell_type": "code",
   "execution_count": 32,
   "metadata": {
    "ExecuteTime": {
     "end_time": "2017-06-22T08:51:48.395843Z",
     "start_time": "2017-06-22T08:51:48.390048Z"
    }
   },
   "outputs": [
    {
     "data": {
      "text/plain": [
       "({'bin__threshold': 0.01, 'clf__alpha': 0.01},\n",
       " 0.8833303871309881,\n",
       " Pipeline(memory=None,\n",
       "      steps=[('bin', Binarizer(copy=True, threshold=0.01)), ('clf', SGDClassifier(alpha=0.01, average=False, class_weight=None, epsilon=0.1,\n",
       "        eta0=0.0, fit_intercept=True, l1_ratio=0.15,\n",
       "        learning_rate='optimal', loss='hinge', max_iter=5, n_iter=None,\n",
       "        n_jobs=1, penalty='l2', power_t=0.5, random_state=None,\n",
       "        shuffle=True, tol=None, verbose=0, warm_start=False))]))"
      ]
     },
     "execution_count": 32,
     "metadata": {},
     "output_type": "execute_result"
    }
   ],
   "source": [
    "gs22.best_params_, gs22.best_score_, gs22.best_estimator_"
   ]
  },
  {
   "cell_type": "code",
   "execution_count": 37,
   "metadata": {
    "ExecuteTime": {
     "end_time": "2017-06-22T08:51:48.497415Z",
     "start_time": "2017-06-22T08:51:48.397424Z"
    }
   },
   "outputs": [
    {
     "data": {
      "text/plain": [
       "0.81678173127987252"
      ]
     },
     "execution_count": 37,
     "metadata": {},
     "output_type": "execute_result"
    }
   ],
   "source": [
    "gs22.score(X_test, y_test)"
   ]
  },
  {
   "cell_type": "code",
   "execution_count": null,
   "metadata": {
    "collapsed": true
   },
   "outputs": [],
   "source": []
  },
  {
   "cell_type": "code",
   "execution_count": null,
   "metadata": {
    "collapsed": true
   },
   "outputs": [],
   "source": []
  },
  {
   "cell_type": "code",
   "execution_count": null,
   "metadata": {
    "collapsed": true
   },
   "outputs": [],
   "source": []
  },
  {
   "cell_type": "code",
   "execution_count": 38,
   "metadata": {
    "ExecuteTime": {
     "end_time": "2017-06-22T08:51:48.596395Z",
     "start_time": "2017-06-22T08:51:48.499016Z"
    },
    "collapsed": true
   },
   "outputs": [],
   "source": [
    "from sklearn.metrics import confusion_matrix\n",
    "from sklearn.metrics import classification_report\n",
    "\n",
    "y_pred = gs22.predict(X_test)"
   ]
  },
  {
   "cell_type": "code",
   "execution_count": null,
   "metadata": {
    "collapsed": true
   },
   "outputs": [],
   "source": []
  },
  {
   "cell_type": "code",
   "execution_count": 44,
   "metadata": {
    "ExecuteTime": {
     "end_time": "2017-06-22T08:51:48.606191Z",
     "start_time": "2017-06-22T08:51:48.597977Z"
    }
   },
   "outputs": [
    {
     "name": "stdout",
     "output_type": "stream",
     "text": [
      "             precision    recall  f1-score   support\n",
      "\n",
      "          0     0.8028    0.7147    0.7562       319\n",
      "          1     0.7387    0.7121    0.7251       389\n",
      "          2     0.6652    0.7817    0.7188       394\n",
      "          3     0.8088    0.6582    0.7257       392\n",
      "          4     0.7794    0.8260    0.8020       385\n",
      "          5     0.8378    0.7190    0.7738       395\n",
      "          6     0.7584    0.9256    0.8337       390\n",
      "          7     0.9101    0.8434    0.8755       396\n",
      "          8     0.9148    0.9447    0.9295       398\n",
      "          9     0.8694    0.9219    0.8949       397\n",
      "         10     0.8798    0.9724    0.9238       399\n",
      "         11     0.9025    0.9116    0.9070       396\n",
      "         12     0.7644    0.6768    0.7179       393\n",
      "         13     0.8195    0.8258    0.8226       396\n",
      "         14     0.8765    0.9010    0.8886       394\n",
      "         15     0.8458    0.9372    0.8892       398\n",
      "         16     0.7175    0.8791    0.7901       364\n",
      "         17     0.9527    0.8564    0.9020       376\n",
      "         18     0.8416    0.5484    0.6641       310\n",
      "         19     0.6426    0.6375    0.6400       251\n",
      "\n",
      "avg / total     0.8200    0.8168    0.8146      7532\n",
      "\n"
     ]
    }
   ],
   "source": [
    "print(classification_report(y_true=y_test, y_pred=y_pred, digits=4)) # digit: 出力の浮動小数点値をどれくらい出すか.の桁数を指定できる．"
   ]
  },
  {
   "cell_type": "code",
   "execution_count": 48,
   "metadata": {},
   "outputs": [
    {
     "data": {
      "text/plain": [
       "['alt.atheism',\n",
       " 'comp.graphics',\n",
       " 'comp.os.ms-windows.misc',\n",
       " 'comp.sys.ibm.pc.hardware',\n",
       " 'comp.sys.mac.hardware',\n",
       " 'comp.windows.x',\n",
       " 'misc.forsale',\n",
       " 'rec.autos',\n",
       " 'rec.motorcycles',\n",
       " 'rec.sport.baseball',\n",
       " 'rec.sport.hockey',\n",
       " 'sci.crypt',\n",
       " 'sci.electronics',\n",
       " 'sci.med',\n",
       " 'sci.space',\n",
       " 'soc.religion.christian',\n",
       " 'talk.politics.guns',\n",
       " 'talk.politics.mideast',\n",
       " 'talk.politics.misc',\n",
       " 'talk.religion.misc']"
      ]
     },
     "execution_count": 48,
     "metadata": {},
     "output_type": "execute_result"
    }
   ],
   "source": [
    "newsgroups_train.target_names"
   ]
  },
  {
   "cell_type": "code",
   "execution_count": 45,
   "metadata": {
    "ExecuteTime": {
     "end_time": "2017-06-22T08:51:48.632880Z",
     "start_time": "2017-06-22T08:51:48.607732Z"
    }
   },
   "outputs": [
    {
     "data": {
      "text/plain": [
       "array([[228,   1,   0,   1,   1,   1,   3,   0,   0,   3,   2,   2,   2,\n",
       "          9,   5,  19,   0,   5,   0,  37],\n",
       "       [  4, 277,  29,   8,  10,  23,  10,   0,   2,   4,   1,   3,   6,\n",
       "          1,   3,   3,   1,   1,   2,   1],\n",
       "       [  1,  15, 308,  20,   9,  10,   6,   0,   2,   5,   2,   1,   1,\n",
       "          1,   4,   1,   1,   0,   2,   5],\n",
       "       [  2,   9,  36, 258,  28,   3,  18,   6,   1,   0,   2,   2,  22,\n",
       "          0,   1,   1,   1,   0,   2,   0],\n",
       "       [  0,   7,  10,   6, 318,   1,  15,   1,   2,   5,   0,   0,  12,\n",
       "          6,   0,   1,   0,   0,   1,   0],\n",
       "       [  1,  30,  40,   4,   5, 284,   5,   2,   1,   0,   2,   5,   6,\n",
       "          2,   5,   1,   1,   0,   0,   1],\n",
       "       [  0,   1,   2,   5,   4,   0, 361,   2,   0,   1,   1,   1,   7,\n",
       "          3,   1,   1,   0,   0,   0,   0],\n",
       "       [  0,   1,   2,   2,   2,   1,  14, 334,  12,   3,   3,   0,  10,\n",
       "          4,   1,   2,   3,   1,   1,   0],\n",
       "       [  0,   0,   0,   1,   1,   0,   5,   7, 376,   0,   0,   0,   1,\n",
       "          3,   1,   0,   1,   0,   1,   1],\n",
       "       [  0,   0,   1,   0,   2,   0,   7,   0,   1, 366,  16,   0,   1,\n",
       "          1,   0,   0,   0,   0,   0,   2],\n",
       "       [  0,   1,   0,   0,   2,   0,   2,   0,   0,   6, 388,   0,   0,\n",
       "          0,   0,   0,   0,   0,   0,   0],\n",
       "       [  0,   3,   1,   1,   2,   1,   4,   1,   0,   4,   1, 361,   4,\n",
       "          1,   2,   2,   4,   1,   1,   2],\n",
       "       [  2,  10,  19,  12,  14,   5,   8,   6,   8,   4,   1,  14, 266,\n",
       "         14,   5,   2,   1,   1,   0,   1],\n",
       "       [  4,   7,   6,   0,   4,   3,   8,   3,   0,   6,   6,   0,   6,\n",
       "        327,   2,   6,   2,   1,   3,   2],\n",
       "       [  0,   8,   1,   0,   3,   0,   4,   1,   1,   1,   0,   2,   4,\n",
       "         10, 355,   2,   0,   0,   2,   0],\n",
       "       [  1,   2,   1,   0,   1,   1,   1,   0,   1,   2,   1,   0,   0,\n",
       "          3,   1, 373,   0,   0,   0,  10],\n",
       "       [  0,   0,   3,   0,   0,   1,   2,   1,   1,   4,   1,   7,   0,\n",
       "          0,   2,   0, 320,   2,   7,  13],\n",
       "       [ 11,   0,   1,   0,   0,   4,   2,   1,   0,   5,   9,   1,   0,\n",
       "          1,   3,   4,   2, 322,   7,   3],\n",
       "       [  3,   0,   1,   0,   2,   0,   1,   0,   2,   2,   3,   1,   0,\n",
       "          6,   7,   1,  98,   2, 170,  11],\n",
       "       [ 27,   3,   2,   1,   0,   1,   0,   2,   1,   0,   2,   0,   0,\n",
       "          7,   7,  22,  11,   2,   3, 160]])"
      ]
     },
     "execution_count": 45,
     "metadata": {},
     "output_type": "execute_result"
    }
   ],
   "source": [
    "conf_mat = confusion_matrix(y_test, y_pred)\n",
    "conf_mat"
   ]
  },
  {
   "cell_type": "code",
   "execution_count": 54,
   "metadata": {},
   "outputs": [
    {
     "data": {
      "text/html": [
       "<div>\n",
       "<style>\n",
       "    .dataframe thead tr:only-child th {\n",
       "        text-align: right;\n",
       "    }\n",
       "\n",
       "    .dataframe thead th {\n",
       "        text-align: left;\n",
       "    }\n",
       "\n",
       "    .dataframe tbody tr th {\n",
       "        vertical-align: top;\n",
       "    }\n",
       "</style>\n",
       "<table border=\"1\" class=\"dataframe\">\n",
       "  <thead>\n",
       "    <tr style=\"text-align: right;\">\n",
       "      <th></th>\n",
       "      <th>0</th>\n",
       "      <th>1</th>\n",
       "      <th>2</th>\n",
       "      <th>3</th>\n",
       "      <th>4</th>\n",
       "      <th>5</th>\n",
       "      <th>6</th>\n",
       "      <th>7</th>\n",
       "      <th>8</th>\n",
       "      <th>9</th>\n",
       "      <th>10</th>\n",
       "      <th>11</th>\n",
       "      <th>12</th>\n",
       "      <th>13</th>\n",
       "      <th>14</th>\n",
       "      <th>15</th>\n",
       "      <th>16</th>\n",
       "      <th>17</th>\n",
       "      <th>18</th>\n",
       "      <th>19</th>\n",
       "    </tr>\n",
       "  </thead>\n",
       "  <tbody>\n",
       "    <tr>\n",
       "      <th>0</th>\n",
       "      <td>228</td>\n",
       "      <td>1</td>\n",
       "      <td>0</td>\n",
       "      <td>1</td>\n",
       "      <td>1</td>\n",
       "      <td>1</td>\n",
       "      <td>3</td>\n",
       "      <td>0</td>\n",
       "      <td>0</td>\n",
       "      <td>3</td>\n",
       "      <td>2</td>\n",
       "      <td>2</td>\n",
       "      <td>2</td>\n",
       "      <td>9</td>\n",
       "      <td>5</td>\n",
       "      <td>19</td>\n",
       "      <td>0</td>\n",
       "      <td>5</td>\n",
       "      <td>0</td>\n",
       "      <td>37</td>\n",
       "    </tr>\n",
       "    <tr>\n",
       "      <th>1</th>\n",
       "      <td>4</td>\n",
       "      <td>277</td>\n",
       "      <td>29</td>\n",
       "      <td>8</td>\n",
       "      <td>10</td>\n",
       "      <td>23</td>\n",
       "      <td>10</td>\n",
       "      <td>0</td>\n",
       "      <td>2</td>\n",
       "      <td>4</td>\n",
       "      <td>1</td>\n",
       "      <td>3</td>\n",
       "      <td>6</td>\n",
       "      <td>1</td>\n",
       "      <td>3</td>\n",
       "      <td>3</td>\n",
       "      <td>1</td>\n",
       "      <td>1</td>\n",
       "      <td>2</td>\n",
       "      <td>1</td>\n",
       "    </tr>\n",
       "    <tr>\n",
       "      <th>2</th>\n",
       "      <td>1</td>\n",
       "      <td>15</td>\n",
       "      <td>308</td>\n",
       "      <td>20</td>\n",
       "      <td>9</td>\n",
       "      <td>10</td>\n",
       "      <td>6</td>\n",
       "      <td>0</td>\n",
       "      <td>2</td>\n",
       "      <td>5</td>\n",
       "      <td>2</td>\n",
       "      <td>1</td>\n",
       "      <td>1</td>\n",
       "      <td>1</td>\n",
       "      <td>4</td>\n",
       "      <td>1</td>\n",
       "      <td>1</td>\n",
       "      <td>0</td>\n",
       "      <td>2</td>\n",
       "      <td>5</td>\n",
       "    </tr>\n",
       "    <tr>\n",
       "      <th>3</th>\n",
       "      <td>2</td>\n",
       "      <td>9</td>\n",
       "      <td>36</td>\n",
       "      <td>258</td>\n",
       "      <td>28</td>\n",
       "      <td>3</td>\n",
       "      <td>18</td>\n",
       "      <td>6</td>\n",
       "      <td>1</td>\n",
       "      <td>0</td>\n",
       "      <td>2</td>\n",
       "      <td>2</td>\n",
       "      <td>22</td>\n",
       "      <td>0</td>\n",
       "      <td>1</td>\n",
       "      <td>1</td>\n",
       "      <td>1</td>\n",
       "      <td>0</td>\n",
       "      <td>2</td>\n",
       "      <td>0</td>\n",
       "    </tr>\n",
       "    <tr>\n",
       "      <th>4</th>\n",
       "      <td>0</td>\n",
       "      <td>7</td>\n",
       "      <td>10</td>\n",
       "      <td>6</td>\n",
       "      <td>318</td>\n",
       "      <td>1</td>\n",
       "      <td>15</td>\n",
       "      <td>1</td>\n",
       "      <td>2</td>\n",
       "      <td>5</td>\n",
       "      <td>0</td>\n",
       "      <td>0</td>\n",
       "      <td>12</td>\n",
       "      <td>6</td>\n",
       "      <td>0</td>\n",
       "      <td>1</td>\n",
       "      <td>0</td>\n",
       "      <td>0</td>\n",
       "      <td>1</td>\n",
       "      <td>0</td>\n",
       "    </tr>\n",
       "    <tr>\n",
       "      <th>5</th>\n",
       "      <td>1</td>\n",
       "      <td>30</td>\n",
       "      <td>40</td>\n",
       "      <td>4</td>\n",
       "      <td>5</td>\n",
       "      <td>284</td>\n",
       "      <td>5</td>\n",
       "      <td>2</td>\n",
       "      <td>1</td>\n",
       "      <td>0</td>\n",
       "      <td>2</td>\n",
       "      <td>5</td>\n",
       "      <td>6</td>\n",
       "      <td>2</td>\n",
       "      <td>5</td>\n",
       "      <td>1</td>\n",
       "      <td>1</td>\n",
       "      <td>0</td>\n",
       "      <td>0</td>\n",
       "      <td>1</td>\n",
       "    </tr>\n",
       "    <tr>\n",
       "      <th>6</th>\n",
       "      <td>0</td>\n",
       "      <td>1</td>\n",
       "      <td>2</td>\n",
       "      <td>5</td>\n",
       "      <td>4</td>\n",
       "      <td>0</td>\n",
       "      <td>361</td>\n",
       "      <td>2</td>\n",
       "      <td>0</td>\n",
       "      <td>1</td>\n",
       "      <td>1</td>\n",
       "      <td>1</td>\n",
       "      <td>7</td>\n",
       "      <td>3</td>\n",
       "      <td>1</td>\n",
       "      <td>1</td>\n",
       "      <td>0</td>\n",
       "      <td>0</td>\n",
       "      <td>0</td>\n",
       "      <td>0</td>\n",
       "    </tr>\n",
       "    <tr>\n",
       "      <th>7</th>\n",
       "      <td>0</td>\n",
       "      <td>1</td>\n",
       "      <td>2</td>\n",
       "      <td>2</td>\n",
       "      <td>2</td>\n",
       "      <td>1</td>\n",
       "      <td>14</td>\n",
       "      <td>334</td>\n",
       "      <td>12</td>\n",
       "      <td>3</td>\n",
       "      <td>3</td>\n",
       "      <td>0</td>\n",
       "      <td>10</td>\n",
       "      <td>4</td>\n",
       "      <td>1</td>\n",
       "      <td>2</td>\n",
       "      <td>3</td>\n",
       "      <td>1</td>\n",
       "      <td>1</td>\n",
       "      <td>0</td>\n",
       "    </tr>\n",
       "    <tr>\n",
       "      <th>8</th>\n",
       "      <td>0</td>\n",
       "      <td>0</td>\n",
       "      <td>0</td>\n",
       "      <td>1</td>\n",
       "      <td>1</td>\n",
       "      <td>0</td>\n",
       "      <td>5</td>\n",
       "      <td>7</td>\n",
       "      <td>376</td>\n",
       "      <td>0</td>\n",
       "      <td>0</td>\n",
       "      <td>0</td>\n",
       "      <td>1</td>\n",
       "      <td>3</td>\n",
       "      <td>1</td>\n",
       "      <td>0</td>\n",
       "      <td>1</td>\n",
       "      <td>0</td>\n",
       "      <td>1</td>\n",
       "      <td>1</td>\n",
       "    </tr>\n",
       "    <tr>\n",
       "      <th>9</th>\n",
       "      <td>0</td>\n",
       "      <td>0</td>\n",
       "      <td>1</td>\n",
       "      <td>0</td>\n",
       "      <td>2</td>\n",
       "      <td>0</td>\n",
       "      <td>7</td>\n",
       "      <td>0</td>\n",
       "      <td>1</td>\n",
       "      <td>366</td>\n",
       "      <td>16</td>\n",
       "      <td>0</td>\n",
       "      <td>1</td>\n",
       "      <td>1</td>\n",
       "      <td>0</td>\n",
       "      <td>0</td>\n",
       "      <td>0</td>\n",
       "      <td>0</td>\n",
       "      <td>0</td>\n",
       "      <td>2</td>\n",
       "    </tr>\n",
       "    <tr>\n",
       "      <th>10</th>\n",
       "      <td>0</td>\n",
       "      <td>1</td>\n",
       "      <td>0</td>\n",
       "      <td>0</td>\n",
       "      <td>2</td>\n",
       "      <td>0</td>\n",
       "      <td>2</td>\n",
       "      <td>0</td>\n",
       "      <td>0</td>\n",
       "      <td>6</td>\n",
       "      <td>388</td>\n",
       "      <td>0</td>\n",
       "      <td>0</td>\n",
       "      <td>0</td>\n",
       "      <td>0</td>\n",
       "      <td>0</td>\n",
       "      <td>0</td>\n",
       "      <td>0</td>\n",
       "      <td>0</td>\n",
       "      <td>0</td>\n",
       "    </tr>\n",
       "    <tr>\n",
       "      <th>11</th>\n",
       "      <td>0</td>\n",
       "      <td>3</td>\n",
       "      <td>1</td>\n",
       "      <td>1</td>\n",
       "      <td>2</td>\n",
       "      <td>1</td>\n",
       "      <td>4</td>\n",
       "      <td>1</td>\n",
       "      <td>0</td>\n",
       "      <td>4</td>\n",
       "      <td>1</td>\n",
       "      <td>361</td>\n",
       "      <td>4</td>\n",
       "      <td>1</td>\n",
       "      <td>2</td>\n",
       "      <td>2</td>\n",
       "      <td>4</td>\n",
       "      <td>1</td>\n",
       "      <td>1</td>\n",
       "      <td>2</td>\n",
       "    </tr>\n",
       "    <tr>\n",
       "      <th>12</th>\n",
       "      <td>2</td>\n",
       "      <td>10</td>\n",
       "      <td>19</td>\n",
       "      <td>12</td>\n",
       "      <td>14</td>\n",
       "      <td>5</td>\n",
       "      <td>8</td>\n",
       "      <td>6</td>\n",
       "      <td>8</td>\n",
       "      <td>4</td>\n",
       "      <td>1</td>\n",
       "      <td>14</td>\n",
       "      <td>266</td>\n",
       "      <td>14</td>\n",
       "      <td>5</td>\n",
       "      <td>2</td>\n",
       "      <td>1</td>\n",
       "      <td>1</td>\n",
       "      <td>0</td>\n",
       "      <td>1</td>\n",
       "    </tr>\n",
       "    <tr>\n",
       "      <th>13</th>\n",
       "      <td>4</td>\n",
       "      <td>7</td>\n",
       "      <td>6</td>\n",
       "      <td>0</td>\n",
       "      <td>4</td>\n",
       "      <td>3</td>\n",
       "      <td>8</td>\n",
       "      <td>3</td>\n",
       "      <td>0</td>\n",
       "      <td>6</td>\n",
       "      <td>6</td>\n",
       "      <td>0</td>\n",
       "      <td>6</td>\n",
       "      <td>327</td>\n",
       "      <td>2</td>\n",
       "      <td>6</td>\n",
       "      <td>2</td>\n",
       "      <td>1</td>\n",
       "      <td>3</td>\n",
       "      <td>2</td>\n",
       "    </tr>\n",
       "    <tr>\n",
       "      <th>14</th>\n",
       "      <td>0</td>\n",
       "      <td>8</td>\n",
       "      <td>1</td>\n",
       "      <td>0</td>\n",
       "      <td>3</td>\n",
       "      <td>0</td>\n",
       "      <td>4</td>\n",
       "      <td>1</td>\n",
       "      <td>1</td>\n",
       "      <td>1</td>\n",
       "      <td>0</td>\n",
       "      <td>2</td>\n",
       "      <td>4</td>\n",
       "      <td>10</td>\n",
       "      <td>355</td>\n",
       "      <td>2</td>\n",
       "      <td>0</td>\n",
       "      <td>0</td>\n",
       "      <td>2</td>\n",
       "      <td>0</td>\n",
       "    </tr>\n",
       "    <tr>\n",
       "      <th>15</th>\n",
       "      <td>1</td>\n",
       "      <td>2</td>\n",
       "      <td>1</td>\n",
       "      <td>0</td>\n",
       "      <td>1</td>\n",
       "      <td>1</td>\n",
       "      <td>1</td>\n",
       "      <td>0</td>\n",
       "      <td>1</td>\n",
       "      <td>2</td>\n",
       "      <td>1</td>\n",
       "      <td>0</td>\n",
       "      <td>0</td>\n",
       "      <td>3</td>\n",
       "      <td>1</td>\n",
       "      <td>373</td>\n",
       "      <td>0</td>\n",
       "      <td>0</td>\n",
       "      <td>0</td>\n",
       "      <td>10</td>\n",
       "    </tr>\n",
       "    <tr>\n",
       "      <th>16</th>\n",
       "      <td>0</td>\n",
       "      <td>0</td>\n",
       "      <td>3</td>\n",
       "      <td>0</td>\n",
       "      <td>0</td>\n",
       "      <td>1</td>\n",
       "      <td>2</td>\n",
       "      <td>1</td>\n",
       "      <td>1</td>\n",
       "      <td>4</td>\n",
       "      <td>1</td>\n",
       "      <td>7</td>\n",
       "      <td>0</td>\n",
       "      <td>0</td>\n",
       "      <td>2</td>\n",
       "      <td>0</td>\n",
       "      <td>320</td>\n",
       "      <td>2</td>\n",
       "      <td>7</td>\n",
       "      <td>13</td>\n",
       "    </tr>\n",
       "    <tr>\n",
       "      <th>17</th>\n",
       "      <td>11</td>\n",
       "      <td>0</td>\n",
       "      <td>1</td>\n",
       "      <td>0</td>\n",
       "      <td>0</td>\n",
       "      <td>4</td>\n",
       "      <td>2</td>\n",
       "      <td>1</td>\n",
       "      <td>0</td>\n",
       "      <td>5</td>\n",
       "      <td>9</td>\n",
       "      <td>1</td>\n",
       "      <td>0</td>\n",
       "      <td>1</td>\n",
       "      <td>3</td>\n",
       "      <td>4</td>\n",
       "      <td>2</td>\n",
       "      <td>322</td>\n",
       "      <td>7</td>\n",
       "      <td>3</td>\n",
       "    </tr>\n",
       "    <tr>\n",
       "      <th>18</th>\n",
       "      <td>3</td>\n",
       "      <td>0</td>\n",
       "      <td>1</td>\n",
       "      <td>0</td>\n",
       "      <td>2</td>\n",
       "      <td>0</td>\n",
       "      <td>1</td>\n",
       "      <td>0</td>\n",
       "      <td>2</td>\n",
       "      <td>2</td>\n",
       "      <td>3</td>\n",
       "      <td>1</td>\n",
       "      <td>0</td>\n",
       "      <td>6</td>\n",
       "      <td>7</td>\n",
       "      <td>1</td>\n",
       "      <td>98</td>\n",
       "      <td>2</td>\n",
       "      <td>170</td>\n",
       "      <td>11</td>\n",
       "    </tr>\n",
       "    <tr>\n",
       "      <th>19</th>\n",
       "      <td>27</td>\n",
       "      <td>3</td>\n",
       "      <td>2</td>\n",
       "      <td>1</td>\n",
       "      <td>0</td>\n",
       "      <td>1</td>\n",
       "      <td>0</td>\n",
       "      <td>2</td>\n",
       "      <td>1</td>\n",
       "      <td>0</td>\n",
       "      <td>2</td>\n",
       "      <td>0</td>\n",
       "      <td>0</td>\n",
       "      <td>7</td>\n",
       "      <td>7</td>\n",
       "      <td>22</td>\n",
       "      <td>11</td>\n",
       "      <td>2</td>\n",
       "      <td>3</td>\n",
       "      <td>160</td>\n",
       "    </tr>\n",
       "  </tbody>\n",
       "</table>\n",
       "</div>"
      ],
      "text/plain": [
       "     0    1    2    3    4    5    6    7    8    9    10   11   12   13   14  \\\n",
       "0   228    1    0    1    1    1    3    0    0    3    2    2    2    9    5   \n",
       "1     4  277   29    8   10   23   10    0    2    4    1    3    6    1    3   \n",
       "2     1   15  308   20    9   10    6    0    2    5    2    1    1    1    4   \n",
       "3     2    9   36  258   28    3   18    6    1    0    2    2   22    0    1   \n",
       "4     0    7   10    6  318    1   15    1    2    5    0    0   12    6    0   \n",
       "5     1   30   40    4    5  284    5    2    1    0    2    5    6    2    5   \n",
       "6     0    1    2    5    4    0  361    2    0    1    1    1    7    3    1   \n",
       "7     0    1    2    2    2    1   14  334   12    3    3    0   10    4    1   \n",
       "8     0    0    0    1    1    0    5    7  376    0    0    0    1    3    1   \n",
       "9     0    0    1    0    2    0    7    0    1  366   16    0    1    1    0   \n",
       "10    0    1    0    0    2    0    2    0    0    6  388    0    0    0    0   \n",
       "11    0    3    1    1    2    1    4    1    0    4    1  361    4    1    2   \n",
       "12    2   10   19   12   14    5    8    6    8    4    1   14  266   14    5   \n",
       "13    4    7    6    0    4    3    8    3    0    6    6    0    6  327    2   \n",
       "14    0    8    1    0    3    0    4    1    1    1    0    2    4   10  355   \n",
       "15    1    2    1    0    1    1    1    0    1    2    1    0    0    3    1   \n",
       "16    0    0    3    0    0    1    2    1    1    4    1    7    0    0    2   \n",
       "17   11    0    1    0    0    4    2    1    0    5    9    1    0    1    3   \n",
       "18    3    0    1    0    2    0    1    0    2    2    3    1    0    6    7   \n",
       "19   27    3    2    1    0    1    0    2    1    0    2    0    0    7    7   \n",
       "\n",
       "     15   16   17   18   19  \n",
       "0    19    0    5    0   37  \n",
       "1     3    1    1    2    1  \n",
       "2     1    1    0    2    5  \n",
       "3     1    1    0    2    0  \n",
       "4     1    0    0    1    0  \n",
       "5     1    1    0    0    1  \n",
       "6     1    0    0    0    0  \n",
       "7     2    3    1    1    0  \n",
       "8     0    1    0    1    1  \n",
       "9     0    0    0    0    2  \n",
       "10    0    0    0    0    0  \n",
       "11    2    4    1    1    2  \n",
       "12    2    1    1    0    1  \n",
       "13    6    2    1    3    2  \n",
       "14    2    0    0    2    0  \n",
       "15  373    0    0    0   10  \n",
       "16    0  320    2    7   13  \n",
       "17    4    2  322    7    3  \n",
       "18    1   98    2  170   11  \n",
       "19   22   11    2    3  160  "
      ]
     },
     "execution_count": 54,
     "metadata": {},
     "output_type": "execute_result"
    }
   ],
   "source": [
    "import pandas as pd\n",
    "\n",
    "pd.DataFrame(conf_mat)"
   ]
  },
  {
   "cell_type": "code",
   "execution_count": 52,
   "metadata": {
    "ExecuteTime": {
     "end_time": "2017-06-22T08:51:49.049999Z",
     "start_time": "2017-06-22T08:51:48.634659Z"
    }
   },
   "outputs": [
    {
     "data": {
      "text/plain": [
       "<matplotlib.colorbar.Colorbar at 0x130411470>"
      ]
     },
     "execution_count": 52,
     "metadata": {},
     "output_type": "execute_result"
    },
    {
     "data": {
      "image/png": "[encoded data removed]",
      "text/plain": [
       "<matplotlib.figure.Figure at 0x11a273278>"
      ]
     },
     "metadata": {},
     "output_type": "display_data"
    }
   ],
   "source": [
    "import matplotlib.pyplot as plt\n",
    "%matplotlib inline\n",
    "plt.gray()\n",
    "\n",
    "plt.imshow(1- conf_mat / conf_mat.sum(axis=1), # conf_matの列ごとの合計で割って正規化する． imshowで画像として表示する．\n",
    "           interpolation='nearest')\n",
    "\n",
    "plt.yticks(range(20), newsgroups_train.target_names);\n",
    "plt.xticks(range(20), newsgroups_train.target_names, rotation=90); # メモリの表示を左へ90ど傾ける．\n",
    "plt.colorbar()\n",
    "# seaborn.heatmapの方が良さそう．"
   ]
  },
  {
   "cell_type": "code",
   "execution_count": 67,
   "metadata": {},
   "outputs": [
    {
     "data": {
      "text/plain": [
       "<matplotlib.axes._subplots.AxesSubplot at 0x1352256d8>"
      ]
     },
     "execution_count": 67,
     "metadata": {},
     "output_type": "execute_result"
    },
    {
     "data": {
      "image/png": "[encoded data removed]",
      "text/plain": [
       "<matplotlib.figure.Figure at 0x1351cbc88>"
      ]
     },
     "metadata": {},
     "output_type": "display_data"
    }
   ],
   "source": [
    "import seaborn as sns\n",
    "\n",
    "frame = pd.DataFrame(conf_mat / conf_mat.sum(axis=1), columns=newsgroups_train.target_names, index=newsgroups_train.target_names)\n",
    "\n",
    "sns.heatmap(frame, cmap='Blues', vmin=0, vmax=1)"
   ]
  },
  {
   "cell_type": "code",
   "execution_count": null,
   "metadata": {
    "collapsed": true
   },
   "outputs": [],
   "source": []
  }
 ],
 "metadata": {
  "anaconda-cloud": {},
  "kernelspec": {
   "display_name": "Python 3",
   "language": "python",
   "name": "python3"
  },
  "language_info": {
   "codemirror_mode": {
    "name": "ipython",
    "version": 3
   },
   "file_extension": ".py",
   "mimetype": "text/x-python",
   "name": "python",
   "nbconvert_exporter": "python",
   "pygments_lexer": "ipython3",
   "version": "3.5.4"
  },
  "toc": {
   "colors": {
    "hover_highlight": "#DAA520",
    "running_highlight": "#FF0000",
    "selected_highlight": "#FFD700"
   },
   "moveMenuLeft": true,
   "nav_menu": {
    "height": "12px",
    "width": "252px"
   },
   "navigate_menu": true,
   "number_sections": true,
   "sideBar": true,
   "threshold": 4,
   "toc_cell": false,
   "toc_section_display": "block",
   "toc_window_display": false,
   "widenNotebook": false
  }
 },
 "nbformat": 4,
 "nbformat_minor": 1
}
