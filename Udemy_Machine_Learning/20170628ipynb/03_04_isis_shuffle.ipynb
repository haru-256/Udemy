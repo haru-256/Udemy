{
 "cells": [
  {
   "cell_type": "code",
   "execution_count": 1,
   "metadata": {
    "ExecuteTime": {
     "end_time": "2017-06-22T08:21:06.109551Z",
     "start_time": "2017-06-22T08:21:05.525634Z"
    },
    "collapsed": true
   },
   "outputs": [],
   "source": [
    "# 必要なモジュールのインポート\n",
    "import numpy as np\n",
    "from sklearn.datasets import load_iris\n",
    "from sklearn.model_selection import ShuffleSplit\n",
    "from sklearn import linear_model"
   ]
  },
  {
   "cell_type": "code",
   "execution_count": 20,
   "metadata": {
    "ExecuteTime": {
     "end_time": "2017-06-22T08:21:06.116023Z",
     "start_time": "2017-06-22T08:21:06.110597Z"
    }
   },
   "outputs": [
    {
     "data": {
      "text/plain": [
       "((150, 4), (150,))"
      ]
     },
     "execution_count": 20,
     "metadata": {},
     "output_type": "execute_result"
    }
   ],
   "source": [
    "data = load_iris() # データをロード\n",
    "X = data.data      # 特徴量\n",
    "y = data.target    # ラベル\n",
    "X.shape, y.shape"
   ]
  },
  {
   "cell_type": "code",
   "execution_count": 3,
   "metadata": {
    "ExecuteTime": {
     "end_time": "2017-06-22T08:21:06.119693Z",
     "start_time": "2017-06-22T08:21:06.117152Z"
    },
    "collapsed": true
   },
   "outputs": [],
   "source": [
    "ss = ShuffleSplit(n_splits=1,      # 分割を1個生成\n",
    "                  train_size=0.5,  # 学習は半分\n",
    "                  test_size =0.5,  # テストも半分\n",
    "                  random_state=0)  # 乱数種（再現用）"
   ]
  },
  {
   "cell_type": "code",
   "execution_count": 4,
   "metadata": {
    "ExecuteTime": {
     "end_time": "2017-06-22T08:21:06.123323Z",
     "start_time": "2017-06-22T08:21:06.120900Z"
    },
    "collapsed": true
   },
   "outputs": [],
   "source": [
    "clf = linear_model.LogisticRegression() # 識別器を作成"
   ]
  },
  {
   "cell_type": "code",
   "execution_count": 5,
   "metadata": {
    "ExecuteTime": {
     "end_time": "2017-06-22T08:21:06.129053Z",
     "start_time": "2017-06-22T08:21:06.124986Z"
    },
    "collapsed": true
   },
   "outputs": [],
   "source": [
    "# 学習データとテストデータのインデックスを作成\n",
    "train_index, test_index = next(ss.split(X))\n",
    "\n",
    "X_train, X_test = X[train_index], X[test_index] # 学習データ，テストデータ\n",
    "y_train, y_test = y[train_index], y[test_index] # 学習データのラベル，テストデータのラベル"
   ]
  },
  {
   "cell_type": "code",
   "execution_count": 6,
   "metadata": {
    "ExecuteTime": {
     "end_time": "2017-06-22T08:21:06.154547Z",
     "start_time": "2017-06-22T08:21:06.130202Z"
    },
    "collapsed": true,
    "scrolled": false
   },
   "outputs": [],
   "source": [
    "clf.fit(X_train, y_train); # 識別器の学習"
   ]
  },
  {
   "cell_type": "code",
   "execution_count": 7,
   "metadata": {
    "ExecuteTime": {
     "end_time": "2017-06-22T08:21:06.159744Z",
     "start_time": "2017-06-22T08:21:06.155731Z"
    }
   },
   "outputs": [
    {
     "name": "stdout",
     "output_type": "stream",
     "text": [
      "0.92\n"
     ]
    }
   ],
   "source": [
    "print(clf.score(X_train, y_train)) # 学習データの精度"
   ]
  },
  {
   "cell_type": "code",
   "execution_count": 8,
   "metadata": {
    "ExecuteTime": {
     "end_time": "2017-06-22T08:21:06.164302Z",
     "start_time": "2017-06-22T08:21:06.160835Z"
    }
   },
   "outputs": [
    {
     "name": "stdout",
     "output_type": "stream",
     "text": [
      "0.84\n"
     ]
    }
   ],
   "source": [
    "print(clf.score(X_test, y_test)) # テストデータの精度"
   ]
  },
  {
   "cell_type": "code",
   "execution_count": 15,
   "metadata": {},
   "outputs": [
    {
     "name": "stdout",
     "output_type": "stream",
     "text": [
      "0 番目\n",
      "[  3 149  98   6  68 109  96  12 102 120 104 128  46  11 110 124  41 148\n",
      "   1 113 139  42   4 129  17  38   5  53 143 105   0  34  28  55  75  35\n",
      "  23  74  31 118  57 131  65  32 138  14 122  19  29 130  49 136  99  82\n",
      "  79 115 145  72  77  25  81 140 142  39  58  88  70  87  36  21   9 103\n",
      "  67 117  47]\n",
      "[114  62  33 107   7 100  40  86  76  71 134  51  73  54  63  37  78  90\n",
      "  45  16 121  66  24   8 126  22  44  97  93  26 137  84  27 127 132  59\n",
      "  18  83  61  92 112   2 141  43  10  60 116 144 119 108  69 135  56  80\n",
      " 123 133 106 146  50 147  85  30 101  94  64  89  91 125  48  13 111  95\n",
      "  20  15  52]\n",
      "\n",
      "1 番目\n",
      "[101  29  81  20  46  51  53  23  27   2  28  37 111  10  84 137 127  43\n",
      "  87  69 144 140  35  76   3  82 145 116  88  44 147   1  93  38  11 115\n",
      "  54  40  18  41  79  24  56  71  13  31  85  70 132 125 123 100  32 104\n",
      "  83 117 118 138  25 110  16  75 109 121  86 139   4  96  14  61  67 149\n",
      "  95  19  72]\n",
      "[ 92 141 130 119  48 143 122  63  26  64  42 108  91  77  22 148   6  65\n",
      "  47  68  60  15 124  58 142  12  59 105  89  78  52 131 113  98  30 136\n",
      "  66 133  49  62  74  17 106   8 135  80 107  90   0  36 112   5  57 102\n",
      "  55  34 128  33  21  73   7  45 129 103 146 120  94  50 134  99 126 114\n",
      "   9  39  97]\n",
      "\n",
      "2 番目\n",
      "[ 35  97  59  48 134  70  65  98 138  55  43 132 103  30 114  34  18 141\n",
      " 139  49  52  74  26  45 126  39   4  11  53 149  79   8   0   5 133  61\n",
      " 135   7  83  99  22  68  82  20  28  86  14  42  32  25  36  92  75  64\n",
      " 142 120  81  58  13 140  72  87 123  93  91 136  51 116  24  94 106  16\n",
      "  63 128 105]\n",
      "[ 85 137  77 108 122 104 121  12  31  96 113 102  60  66 119  62  76  69\n",
      "  46 129   1  10   3  95  21  41  57  47  78  19 107  90   9 147 148  40\n",
      "  29  27  89  37  33  84  54  88  73 111 125 101 143  23 117  50 146   2\n",
      " 110 118 131  17   6 127  67 124  15  56 115 112  71 145 100  38  80 109\n",
      "  44 144 130]\n",
      "\n",
      "3 番目\n",
      "[149  62 141 120  86  20  66  35  17  88   4  45  50  57  59  44  70  32\n",
      "  78 133 110  96  87  74  89  38  51 116  46  43   8  92 101  21 127 118\n",
      "  73  30 107 124   5   0  95  83  71 144 102 126 108  91  85  67   7  84\n",
      "  72  94 125 109  26  68  28 121   3 134  69  99  36  24  39 128 113 129\n",
      "  58 140 131]\n",
      "[114  49 138  23   9 122 146  80  90 117 111  75 147 143  97  76 123 139\n",
      " 137  54  34 115  64  65  25 142 119  40  63  42  19 105  93  16 106  12\n",
      "  33  52  29  31  77  27  37  14  48   2  56   1 135  81  18 104 100  41\n",
      "  15 148  53  79   6  98 132  13  11  10 136  47  60  61 103 145  22 130\n",
      "  55  82 112]\n",
      "\n",
      "4 番目\n",
      "[137 109 102  80  71 114  51 128  86  37  92  48 142 107 140 110  73  76\n",
      "  64  52 149 144  87  34  32 105  12  29 147 111  46  53   7 145  97  18\n",
      "  33 120  55  49 126  36  40 123   3  24  94  63 141  17   4  58  69  82\n",
      " 125  89  57  47  45  72  62  78  74  90 133 129 127 119  21  25 136  35\n",
      "  81  77 100]\n",
      "[ 15 143  23 108 124  31 132  22 113  41  14   5  88  16 135 122   1 115\n",
      "  67  13 130 116  11 106 148  56  43  75  60 131 139  98  27   6  38  93\n",
      "   0  19  85  95  44  68 134  59 118  54 103   8  79  30  91 138 112  50\n",
      "  96 146  70  61  99  39  84 104 117 101  10   2   9  66  83 121  26  28\n",
      "  42  20  65]\n",
      "\n",
      "5 番目\n",
      "[ 57  17 128  91 145  56  73  16  67  61   3  74 141  87   0 107 114  52\n",
      "   7 110 129 126 137 132 102  83  36 124  19  22 103  90  29  64  93  12\n",
      "  10 140  32  80 112  96  95 113  59  37 101  63  15   5  30  26  40  48\n",
      " 100   6 105  92  13  89  18 120 139  47 147  62  79  43 116 133 115   9\n",
      "  76   2  51]\n",
      "[ 38  46  28  94 148 130  60  24  54 149  25 134 135 119 123  58  84  55\n",
      "  21  41 127  42  86  98  72  85 108 111  20  69  44  31  78  66  70  75\n",
      " 106   1 121  99  53 118   8 142 131  49 144  71 136  77  45 117  35  97\n",
      "  34 143  65  39  14  68  11  50 122 138  27 125 104 109  23  81  82   4\n",
      "  33  88 146]\n",
      "\n",
      "6 番目\n",
      "[ 46 104  23  16  51 122   6  45  25  86  19 102  68  55  85  89  17  57\n",
      "  42  20  21  47  70 136  81 124  13 140  77   3  83 130  94  24 114   4\n",
      "   9  84  79  49  88  35 125 137 127  36  59 117  65 133 126  38   5  10\n",
      "   8   2  87  82 100  96  48  26 119 135  11 139 109  22 118 110  43 112\n",
      " 145  41 101]\n",
      "[ 92  75 120  99  72 121  33  30  32 103  73 107  27  93 148  98  12  69\n",
      " 131  40 128 132  97  91  90  31 147  34 129  50  56  95   0  28 134   1\n",
      "  78  39 111  62 138  54  67  37  60  44 105  18  14  61  80  64 142 123\n",
      "  53 144 108  63  58 149  76 146 141 115  74  66 113   7  52 116  15  71\n",
      " 143 106  29]\n",
      "\n",
      "7 番目\n",
      "[135  84  40  34  74 143 126   6 133  38 111  17  47  66  41 134 119 103\n",
      "  94  49  65 123   4 128  95  29  77  75  87 124 108  91 132  44  55 122\n",
      "  20 113  78  18  13  76 120  58 127  88  27  71  28 125 141  22  57  82\n",
      " 107  96  50 129 145 137  21  70  80 105  10  51  15 147  79  31  64  68\n",
      "  83 106  72]\n",
      "[ 25  73  37   1  92  24  93  43 114 144  63 115  12  36  60  85  35  45\n",
      " 130  62   8  14  19  69   5  56  81  53 149 109  98  33  46  97  90  16\n",
      " 148 136 118  54  39  99 110  67 131 104  26  61 102 101 117 146   0  23\n",
      "   9  52 140   7 142   2  11  30  59 116 100   3  86 139  48 121  89 138\n",
      "  42  32 112]\n",
      "\n",
      "8 番目\n",
      "[ 84  47  90  65  96 144  28  32  10 131 101 145 135  26 138  77  85 111\n",
      " 130  76  19  66   2   1  13  98 129  64  16  24  58 149 108 123  74 106\n",
      "  39  21  56 100 146 125  33   3  27 126  67  81 120  60  51  29  14 140\n",
      " 114  30 143 102  99 124  12  50   9  49 128  35 117  80  36 105 132 119\n",
      "  68 103  61]\n",
      "[  6  92  91  89 121 116 109  43 112 127  11  25  31 142 136  57  82  41\n",
      " 141   8  52 122  79   0  88  69  63   5  34  75 133  59  46  72  48 104\n",
      "   7  93  55  54  22   4 115  40  94  37  83  78  38  44  62 118  20  86\n",
      "  45 110  87  23 148  95 113 139  17 147  97  42 134  73 107  18  15 137\n",
      "  70  53  71]\n",
      "\n",
      "9 番目\n",
      "[ 22  62 124  17  61  51 109  58  63  56 123  49 138  35  29 105  15 126\n",
      "  27 120  33 136  21  14  82 122 142  95 143  75 134   2  24  85   5 107\n",
      " 125 128  20  64  46  83   8  67 127 106 112  80 131  45  98  19  43  96\n",
      " 108 148 100 129   1  71 137  69  99  48 118 114  68  65  28 113 121 133\n",
      "  94  77  81]\n",
      "[132  90  18  52  87  11  92 139 147 115  97  38  44  13  88   3  70  12\n",
      "  31  55  74 117  39  93 102 145  37  76 110 130  86  54  26   0   4  66\n",
      " 140  34  47  23  32  41  91  57   7  40 146 101  30 119 135 104 116  50\n",
      " 144  84  36  73  10 103   6  89 141  53  72 111  25  60  78  59  16  42\n",
      "  79 149   9]\n",
      "\n"
     ]
    }
   ],
   "source": [
    "ss = ShuffleSplit(n_splits=10,     # 分割を10個生成\n",
    "                  train_size=0.5,  # 学習は半分\n",
    "                  test_size =0.5,  # テストも半分\n",
    "                  random_state=0)  # 乱数種（再現用）\n",
    "i = 0\n",
    "for train_index, test_index in ss.split(X): \n",
    "    print(i, '番目のデータセット')\n",
    "    print(train_index)\n",
    "    print(test_index)\n",
    "    print()\n",
    "    i += 1"
   ]
  },
  {
   "cell_type": "code",
   "execution_count": 9,
   "metadata": {
    "ExecuteTime": {
     "end_time": "2017-06-22T08:21:06.182882Z",
     "start_time": "2017-06-22T08:21:06.165488Z"
    }
   },
   "outputs": [
    {
     "name": "stdout",
     "output_type": "stream",
     "text": [
      "[ 0.84        0.93333333  0.90666667  1.          0.90666667  0.93333333\n",
      "  0.94666667  1.          0.90666667  0.88      ]\n"
     ]
    }
   ],
   "source": [
    "ss = ShuffleSplit(n_splits=10,     # 分割を10個生成\n",
    "                  train_size=0.5,  # 学習は半分\n",
    "                  test_size =0.5,  # テストも半分\n",
    "                  random_state=0)  # 乱数種（再現用）\n",
    "\n",
    "scores = []\n",
    "for train_index, test_index in ss.split(X): # 学習データとテストデータのインデックスを作成\n",
    "    \n",
    "    X_train, X_test = X[train_index], X[test_index] # 学習データ，テストデータ\n",
    "    y_train, y_test = y[train_index], y[test_index] # 学習データのラベル，テストデータのラベル\n",
    "\n",
    "    clf.fit(X_train, y_train)         # 識別器の学習\n",
    "    score = clf.score(X_test, y_test) # テストデータの精度\n",
    "    scores.append(score)\n",
    "\n",
    "scores = np.array(scores)\n",
    "print(scores)"
   ]
  },
  {
   "cell_type": "code",
   "execution_count": 21,
   "metadata": {
    "ExecuteTime": {
     "end_time": "2017-06-22T08:21:06.192387Z",
     "start_time": "2017-06-22T08:21:06.184412Z"
    }
   },
   "outputs": [
    {
     "data": {
      "text/plain": [
       "0.92533333333333334"
      ]
     },
     "execution_count": 21,
     "metadata": {},
     "output_type": "execute_result"
    }
   ],
   "source": [
    "scores.mean()"
   ]
  },
  {
   "cell_type": "code",
   "execution_count": 22,
   "metadata": {
    "ExecuteTime": {
     "end_time": "2017-06-22T08:21:06.197024Z",
     "start_time": "2017-06-22T08:21:06.193483Z"
    }
   },
   "outputs": [
    {
     "data": {
      "text/plain": [
       "0.047027178902795737"
      ]
     },
     "execution_count": 22,
     "metadata": {},
     "output_type": "execute_result"
    }
   ],
   "source": [
    "scores.std()"
   ]
  },
  {
   "cell_type": "code",
   "execution_count": 23,
   "metadata": {
    "ExecuteTime": {
     "end_time": "2017-06-22T08:21:06.201201Z",
     "start_time": "2017-06-22T08:21:06.198116Z"
    }
   },
   "outputs": [
    {
     "name": "stdout",
     "output_type": "stream",
     "text": [
      "0.9253333333333333 +/- 0.04702717890279574\n"
     ]
    }
   ],
   "source": [
    "print(\"{0} +/- {1}\".format(scores.mean(), scores.std()))"
   ]
  },
  {
   "cell_type": "code",
   "execution_count": 33,
   "metadata": {
    "ExecuteTime": {
     "end_time": "2017-06-22T08:21:06.205724Z",
     "start_time": "2017-06-22T08:21:06.202476Z"
    }
   },
   "outputs": [
    {
     "name": "stdout",
     "output_type": "stream",
     "text": [
      " 92.53% +/-  4.70% \n"
     ]
    }
   ],
   "source": [
    "# print(\"{0:4.2f} +/- {1:4.2f} %\".format(scores.mean() * 100, scores.std() * 100))\n",
    "print(\"{0: .2%} +/- {1: .2%} \".format(scores.mean() , scores.std()))"
   ]
  },
  {
   "cell_type": "code",
   "execution_count": 34,
   "metadata": {
    "ExecuteTime": {
     "end_time": "2017-06-22T08:21:06.390271Z",
     "start_time": "2017-06-22T08:21:06.206939Z"
    },
    "collapsed": true
   },
   "outputs": [],
   "source": [
    "# matplotlibの準備\n",
    "import matplotlib.pyplot as plt\n",
    "%matplotlib inline"
   ]
  },
  {
   "cell_type": "code",
   "execution_count": 35,
   "metadata": {
    "ExecuteTime": {
     "end_time": "2017-06-22T08:21:06.393719Z",
     "start_time": "2017-06-22T08:21:06.391321Z"
    },
    "collapsed": true
   },
   "outputs": [],
   "source": [
    "# 学習データの分量を0.1, 0.2, ..., 0.9に\n",
    "train_sizes = np.arange(0.1, 1.0, 0.1)"
   ]
  },
  {
   "cell_type": "code",
   "execution_count": 42,
   "metadata": {
    "ExecuteTime": {
     "end_time": "2017-06-22T08:21:06.851702Z",
     "start_time": "2017-06-22T08:21:06.395085Z"
    }
   },
   "outputs": [
    {
     "name": "stdout",
     "output_type": "stream",
     "text": [
      "train_size 10%: 74.77 +/- 10.97 %\n",
      "train_size 20%: 83.70 +/- 10.56 %\n",
      "train_size 30%: 89.55 +/- 5.82 %\n",
      "train_size 40%: 92.22 +/- 5.14 %\n",
      "train_size 50%: 93.20 +/- 4.24 %\n",
      "train_size 60%: 94.22 +/- 3.47 %\n",
      "train_size 70%: 94.91 +/- 3.24 %\n",
      "train_size 80%: 94.37 +/- 4.41 %\n",
      "train_size 90%: 94.47 +/- 5.58 %\n"
     ]
    }
   ],
   "source": [
    "all_mean = []\n",
    "all_std  = []\n",
    "\n",
    "for train_size in train_sizes:\n",
    "\n",
    "    ss = ShuffleSplit(n_splits=100,\n",
    "                      train_size=train_size,\n",
    "                      test_size=1-train_size)\n",
    "\n",
    "    scores = []\n",
    "    for train_index, test_index in ss.split(X):\n",
    "\n",
    "        X_train, X_test = X[train_index], X[test_index]\n",
    "        y_train, y_test = y[train_index], y[test_index]\n",
    "\n",
    "        clf.fit(X_train, y_train)\n",
    "        score = clf.score(X_test, y_test)\n",
    "        scores.append(score)\n",
    "\n",
    "    scores = np.array(scores)\n",
    "    print(\"train_size {0:.0f}%: {1:4.2f} +/- {2:4.2f} %\".format(train_size    * 100, \n",
    "                                                                scores.mean() * 100, \n",
    "                                                                scores.std()  * 100))\n",
    "    all_mean.append(scores.mean() * 100)\n",
    "    all_std.append(scores.std() * 100)"
   ]
  },
  {
   "cell_type": "code",
   "execution_count": 43,
   "metadata": {
    "ExecuteTime": {
     "end_time": "2017-06-22T08:21:06.971377Z",
     "start_time": "2017-06-22T08:21:06.853099Z"
    }
   },
   "outputs": [
    {
     "data": {
      "text/plain": [
       "[<matplotlib.lines.Line2D at 0x1138fa320>]"
      ]
     },
     "execution_count": 43,
     "metadata": {},
     "output_type": "execute_result"
    },
    {
     "data": {
      "image/png": "[encoded data removed]",
      "text/plain": [
       "<matplotlib.figure.Figure at 0x11381e978>"
      ]
     },
     "metadata": {},
     "output_type": "display_data"
    }
   ],
   "source": [
    "plt.plot(train_sizes, all_mean, marker='o')"
   ]
  },
  {
   "cell_type": "code",
   "execution_count": 44,
   "metadata": {
    "ExecuteTime": {
     "end_time": "2017-06-22T08:21:07.077305Z",
     "start_time": "2017-06-22T08:21:06.972727Z"
    }
   },
   "outputs": [
    {
     "data": {
      "text/plain": [
       "(0, 1)"
      ]
     },
     "execution_count": 44,
     "metadata": {},
     "output_type": "execute_result"
    },
    {
     "data": {
      "image/png": "[encoded data removed]",
      "text/plain": [
       "<matplotlib.figure.Figure at 0x113920198>"
      ]
     },
     "metadata": {},
     "output_type": "display_data"
    }
   ],
   "source": [
    "plt.plot(train_sizes, all_mean)\n",
    "plt.ylim(70,100)\n",
    "plt.xlim(0,1)"
   ]
  },
  {
   "cell_type": "code",
   "execution_count": 48,
   "metadata": {
    "ExecuteTime": {
     "end_time": "2017-06-22T08:21:07.229120Z",
     "start_time": "2017-06-22T08:21:07.078399Z"
    }
   },
   "outputs": [
    {
     "data": {
      "text/plain": [
       "<matplotlib.text.Text at 0x113da1780>"
      ]
     },
     "execution_count": 48,
     "metadata": {},
     "output_type": "execute_result"
    },
    {
     "data": {
      "image/png": "[encoded data removed]",
      "text/plain": [
       "<matplotlib.figure.Figure at 0x113cd9c18>"
      ]
     },
     "metadata": {},
     "output_type": "display_data"
    }
   ],
   "source": [
    "#plt.plot(train_sizes, all_mean, marker='o')\n",
    "plt.ylim(70,100)\n",
    "plt.xlim(0,1)\n",
    "plt.errorbar(train_sizes, all_mean, yerr=all_std, marker='o')\n",
    "plt.xlabel(\"training size [%]\")\n",
    "plt.ylabel(\"recognition rate\")\n",
    "plt.title(\"Average of 10 hold-out tests for different training size\")"
   ]
  },
  {
   "cell_type": "code",
   "execution_count": null,
   "metadata": {
    "collapsed": true
   },
   "outputs": [],
   "source": []
  }
 ],
 "metadata": {
  "anaconda-cloud": {},
  "kernelspec": {
   "display_name": "Python 3",
   "language": "python",
   "name": "python3"
  },
  "language_info": {
   "codemirror_mode": {
    "name": "ipython",
    "version": 3
   },
   "file_extension": ".py",
   "mimetype": "text/x-python",
   "name": "python",
   "nbconvert_exporter": "python",
   "pygments_lexer": "ipython3",
   "version": "3.5.4"
  },
  "toc": {
   "colors": {
    "hover_highlight": "#DAA520",
    "running_highlight": "#FF0000",
    "selected_highlight": "#FFD700"
   },
   "moveMenuLeft": true,
   "nav_menu": {
    "height": "12px",
    "width": "252px"
   },
   "navigate_menu": true,
   "number_sections": true,
   "sideBar": true,
   "threshold": 4,
   "toc_cell": false,
   "toc_section_display": "block",
   "toc_window_display": false,
   "widenNotebook": false
  }
 },
 "nbformat": 4,
 "nbformat_minor": 1
}
