{
 "cells": [
  {
   "cell_type": "code",
   "execution_count": 17,
   "metadata": {
    "ExecuteTime": {
     "end_time": "2017-06-22T08:23:44.227417Z",
     "start_time": "2017-06-22T08:23:43.714151Z"
    },
    "collapsed": true
   },
   "outputs": [],
   "source": [
    "import numpy as np\n",
    "\n",
    "from sklearn.datasets import load_breast_cancer\n",
    "\n",
    "data = load_breast_cancer()\n",
    "\n",
    "X = data.data\n",
    "y = data.target"
   ]
  },
  {
   "cell_type": "code",
   "execution_count": 18,
   "metadata": {
    "ExecuteTime": {
     "end_time": "2017-06-22T08:23:44.252388Z",
     "start_time": "2017-06-22T08:23:44.228374Z"
    },
    "collapsed": true
   },
   "outputs": [],
   "source": [
    "from sklearn.model_selection import ShuffleSplit\n",
    "ss = ShuffleSplit(n_splits=1, \n",
    "                  train_size=0.8, \n",
    "                  test_size=0.2, \n",
    "                  random_state=0)\n",
    "\n",
    "train_index, test_index = next(ss.split(X, y))\n",
    "\n",
    "X_train, X_test = X[train_index], X[test_index]\n",
    "y_train, y_test = y[train_index], y[test_index]"
   ]
  },
  {
   "cell_type": "code",
   "execution_count": 19,
   "metadata": {
    "ExecuteTime": {
     "end_time": "2017-06-22T08:23:44.262365Z",
     "start_time": "2017-06-22T08:23:44.253343Z"
    }
   },
   "outputs": [
    {
     "data": {
      "text/plain": [
       "array(['mean radius', 'mean texture', 'mean perimeter', 'mean area',\n",
       "       'mean smoothness', 'mean compactness', 'mean concavity',\n",
       "       'mean concave points', 'mean symmetry', 'mean fractal dimension',\n",
       "       'radius error', 'texture error', 'perimeter error', 'area error',\n",
       "       'smoothness error', 'compactness error', 'concavity error',\n",
       "       'concave points error', 'symmetry error', 'fractal dimension error',\n",
       "       'worst radius', 'worst texture', 'worst perimeter', 'worst area',\n",
       "       'worst smoothness', 'worst compactness', 'worst concavity',\n",
       "       'worst concave points', 'worst symmetry', 'worst fractal dimension'],\n",
       "      dtype='<U23')"
      ]
     },
     "execution_count": 19,
     "metadata": {},
     "output_type": "execute_result"
    }
   ],
   "source": [
    "data.feature_names"
   ]
  },
  {
   "cell_type": "code",
   "execution_count": 20,
   "metadata": {
    "ExecuteTime": {
     "end_time": "2017-06-22T08:23:44.280302Z",
     "start_time": "2017-06-22T08:23:44.263839Z"
    },
    "collapsed": true
   },
   "outputs": [],
   "source": [
    "from sklearn.feature_selection import SelectKBest # 特徴として良いものの上位Kこ取り出す。\n",
    "from sklearn.feature_selection import chi2 # 基準となるのがカイ２乗"
   ]
  },
  {
   "cell_type": "code",
   "execution_count": 21,
   "metadata": {
    "ExecuteTime": {
     "end_time": "2017-06-22T08:23:44.283467Z",
     "start_time": "2017-06-22T08:23:44.281422Z"
    },
    "collapsed": true
   },
   "outputs": [],
   "source": [
    "skb = SelectKBest(chi2, k=20)  # chi2基準で上位20個取り出す、インスタンスを作る。"
   ]
  },
  {
   "cell_type": "code",
   "execution_count": 22,
   "metadata": {
    "ExecuteTime": {
     "end_time": "2017-06-22T08:23:44.372359Z",
     "start_time": "2017-06-22T08:23:44.285053Z"
    }
   },
   "outputs": [
    {
     "data": {
      "text/plain": [
       "SelectKBest(k=20, score_func=<function chi2 at 0x110c741e0>)"
      ]
     },
     "execution_count": 22,
     "metadata": {},
     "output_type": "execute_result"
    }
   ],
   "source": [
    "skb.fit(X_train, y_train)"
   ]
  },
  {
   "cell_type": "code",
   "execution_count": 23,
   "metadata": {
    "ExecuteTime": {
     "end_time": "2017-06-22T08:23:44.376377Z",
     "start_time": "2017-06-22T08:23:44.373813Z"
    },
    "collapsed": true
   },
   "outputs": [],
   "source": [
    "X_train_new = skb.transform(X_train)"
   ]
  },
  {
   "cell_type": "code",
   "execution_count": 24,
   "metadata": {
    "ExecuteTime": {
     "end_time": "2017-06-22T08:23:44.380791Z",
     "start_time": "2017-06-22T08:23:44.377791Z"
    }
   },
   "outputs": [
    {
     "data": {
      "text/plain": [
       "((455, 20), (455, 30))"
      ]
     },
     "execution_count": 24,
     "metadata": {},
     "output_type": "execute_result"
    }
   ],
   "source": [
    "X_train_new.shape, X_train.shape"
   ]
  },
  {
   "cell_type": "code",
   "execution_count": 25,
   "metadata": {
    "ExecuteTime": {
     "end_time": "2017-06-22T08:23:44.385435Z",
     "start_time": "2017-06-22T08:23:44.381938Z"
    }
   },
   "outputs": [
    {
     "data": {
      "text/plain": [
       "array([ True,  True,  True,  True, False,  True,  True,  True, False,\n",
       "       False,  True, False,  True,  True, False,  True,  True, False,\n",
       "       False, False,  True,  True,  True,  True, False,  True,  True,\n",
       "        True,  True, False], dtype=bool)"
      ]
     },
     "execution_count": 25,
     "metadata": {},
     "output_type": "execute_result"
    }
   ],
   "source": [
    "skb.get_support()# どの特徴量を使ったのかがboolでわかる。"
   ]
  },
  {
   "cell_type": "code",
   "execution_count": 26,
   "metadata": {
    "ExecuteTime": {
     "end_time": "2017-06-22T08:23:44.390943Z",
     "start_time": "2017-06-22T08:23:44.386867Z"
    }
   },
   "outputs": [
    {
     "data": {
      "text/plain": [
       "array(['mean radius', 'mean texture', 'mean perimeter', 'mean area',\n",
       "       'mean compactness', 'mean concavity', 'mean concave points',\n",
       "       'radius error', 'perimeter error', 'area error',\n",
       "       'compactness error', 'concavity error', 'worst radius',\n",
       "       'worst texture', 'worst perimeter', 'worst area',\n",
       "       'worst compactness', 'worst concavity', 'worst concave points',\n",
       "       'worst symmetry'],\n",
       "      dtype='<U23')"
      ]
     },
     "execution_count": 26,
     "metadata": {},
     "output_type": "execute_result"
    }
   ],
   "source": [
    "data.feature_names[skb.get_support()] # 使った特徴量"
   ]
  },
  {
   "cell_type": "code",
   "execution_count": 27,
   "metadata": {
    "ExecuteTime": {
     "end_time": "2017-06-22T08:23:44.396173Z",
     "start_time": "2017-06-22T08:23:44.392116Z"
    }
   },
   "outputs": [
    {
     "data": {
      "text/plain": [
       "array(['mean smoothness', 'mean symmetry', 'mean fractal dimension',\n",
       "       'texture error', 'smoothness error', 'concave points error',\n",
       "       'symmetry error', 'fractal dimension error', 'worst smoothness',\n",
       "       'worst fractal dimension'],\n",
       "      dtype='<U23')"
      ]
     },
     "execution_count": 27,
     "metadata": {},
     "output_type": "execute_result"
    }
   ],
   "source": [
    "data.feature_names[~skb.get_support()] # 使わなかった特徴量"
   ]
  },
  {
   "cell_type": "code",
   "execution_count": 28,
   "metadata": {
    "ExecuteTime": {
     "end_time": "2017-06-22T08:23:44.426843Z",
     "start_time": "2017-06-22T08:23:44.397566Z"
    },
    "collapsed": true
   },
   "outputs": [],
   "source": [
    "from sklearn import linear_model\n",
    "clf = linear_model.LogisticRegression()"
   ]
  },
  {
   "cell_type": "code",
   "execution_count": 52,
   "metadata": {
    "ExecuteTime": {
     "end_time": "2017-06-22T08:23:45.336197Z",
     "start_time": "2017-06-22T08:23:44.428444Z"
    },
    "collapsed": true
   },
   "outputs": [],
   "source": [
    "from sklearn.model_selection import StratifiedKFold\n",
    "\n",
    "k_range = np.arange(1, 31)\n",
    "scores = []\n",
    "std = []\n",
    "\n",
    "for k in k_range:\n",
    "\n",
    "    ss = StratifiedKFold(n_splits=10, \n",
    "                         shuffle=True, \n",
    "                         random_state=2)\n",
    "    score = []\n",
    "    for train_index, val_index in ss.split(X_train,\n",
    "                                           y_train):\n",
    "\n",
    "        X_train2, X_val = X[train_index], X[val_index]\n",
    "        y_train2, y_val = y[train_index], y[val_index]\n",
    "\n",
    "        skb = SelectKBest(chi2, k=k)\n",
    "        skb.fit(X_train2, y_train2) # X_train2, y_train2を使うのに注意!!　\n",
    "        \n",
    "        X_new_train2 = skb.transform(X_train2)\n",
    "        X_new_val    = skb.transform(X_val) # X_train2, y_train2を用いて特徴選択したインスタンスを使うのに注意!!\n",
    "        \n",
    "        clf.fit(X_new_train2, y_train2)\n",
    "        score.append( clf.score(X_new_val, y_val) )\n",
    "\n",
    "    scores.append( np.array(score).mean() )\n",
    "    std.append( np.array(score).std() )\n",
    "    \n",
    "scores = np.array(scores)\n",
    "std = np.array(std)"
   ]
  },
  {
   "cell_type": "code",
   "execution_count": 53,
   "metadata": {
    "ExecuteTime": {
     "end_time": "2017-06-22T08:23:45.341219Z",
     "start_time": "2017-06-22T08:23:45.337205Z"
    }
   },
   "outputs": [
    {
     "data": {
      "text/plain": [
       "array([ 0.90777778,  0.93198068,  0.9231401 ,  0.91879227,  0.9342029 ,\n",
       "        0.9384058 ,  0.94280193,  0.94497585,  0.95164251,  0.95830918,\n",
       "        0.95613527,  0.95613527,  0.95826087,  0.95391304,  0.95391304,\n",
       "        0.95391304,  0.95391304,  0.95608696,  0.95608696,  0.95391304,\n",
       "        0.95608696,  0.95608696,  0.95391304,  0.95608696,  0.95608696,\n",
       "        0.962657  ,  0.962657  ,  0.962657  ,  0.962657  ,  0.962657  ])"
      ]
     },
     "execution_count": 53,
     "metadata": {},
     "output_type": "execute_result"
    }
   ],
   "source": [
    "scores"
   ]
  },
  {
   "cell_type": "code",
   "execution_count": 54,
   "metadata": {
    "ExecuteTime": {
     "end_time": "2017-06-22T08:23:45.617030Z",
     "start_time": "2017-06-22T08:23:45.342863Z"
    },
    "scrolled": false
   },
   "outputs": [
    {
     "data": {
      "text/plain": [
       "<matplotlib.text.Text at 0x11111dc18>"
      ]
     },
     "execution_count": 54,
     "metadata": {},
     "output_type": "execute_result"
    },
    {
     "data": {
      "image/png": "[encoded data removed]",
      "text/plain": [
       "<matplotlib.figure.Figure at 0x1114c82e8>"
      ]
     },
     "metadata": {},
     "output_type": "display_data"
    }
   ],
   "source": [
    "import matplotlib.pyplot as plt\n",
    "%matplotlib inline \n",
    "\n",
    "#plt.plot(k_range, scores)\n",
    "plt.errorbar(k_range, scores, yerr=std)\n",
    "plt.ylabel(\"accuracy\")"
   ]
  },
  {
   "cell_type": "code",
   "execution_count": 55,
   "metadata": {
    "ExecuteTime": {
     "end_time": "2017-06-22T08:23:45.811874Z",
     "start_time": "2017-06-22T08:23:45.618501Z"
    }
   },
   "outputs": [
    {
     "data": {
      "text/plain": [
       "<matplotlib.text.Text at 0x1122ebc18>"
      ]
     },
     "execution_count": 55,
     "metadata": {},
     "output_type": "execute_result"
    },
    {
     "data": {
      "image/png": "[encoded data removed]",
      "text/plain": [
       "<matplotlib.figure.Figure at 0x1110ace80>"
      ]
     },
     "metadata": {},
     "output_type": "display_data"
    }
   ],
   "source": [
    "plt.bar(k_range, 1-scores, yerr=[np.zeros(std.shape), std]) # yerr=[a(iterable), b(iterable)] で　下がa, 上がbのエラーバーが出来上がる。\n",
    "plt.ylabel(\"error rate\")"
   ]
  },
  {
   "cell_type": "code",
   "execution_count": 56,
   "metadata": {
    "ExecuteTime": {
     "end_time": "2017-06-22T08:23:45.816871Z",
     "start_time": "2017-06-22T08:23:45.813203Z"
    }
   },
   "outputs": [
    {
     "name": "stdout",
     "output_type": "stream",
     "text": [
      "[ 1  2  3  4  5  6  7  8  9 10 11 12 13 14 15 16 17 18 19 20 21 22 23 24 25\n",
      " 26 27 28 29 30] <class 'numpy.ndarray'>\n"
     ]
    },
    {
     "data": {
      "text/plain": [
       "26"
      ]
     },
     "execution_count": 56,
     "metadata": {},
     "output_type": "execute_result"
    }
   ],
   "source": [
    "best_k = k_range[np.argmax(scores)]\n",
    "print(k_range, type(k_range))\n",
    "best_k"
   ]
  },
  {
   "cell_type": "code",
   "execution_count": 57,
   "metadata": {
    "ExecuteTime": {
     "end_time": "2017-06-22T08:23:45.820045Z",
     "start_time": "2017-06-22T08:23:45.818086Z"
    },
    "collapsed": true
   },
   "outputs": [],
   "source": [
    "skb = SelectKBest(chi2, k=best_k)"
   ]
  },
  {
   "cell_type": "code",
   "execution_count": 58,
   "metadata": {
    "ExecuteTime": {
     "end_time": "2017-06-22T08:23:45.827300Z",
     "start_time": "2017-06-22T08:23:45.821415Z"
    }
   },
   "outputs": [
    {
     "data": {
      "text/plain": [
       "SelectKBest(k=26, score_func=<function chi2 at 0x110c741e0>)"
      ]
     },
     "execution_count": 58,
     "metadata": {},
     "output_type": "execute_result"
    }
   ],
   "source": [
    "skb.fit(X_train, y_train) # 今度はX_trainとy_trainを使う"
   ]
  },
  {
   "cell_type": "code",
   "execution_count": 59,
   "metadata": {
    "ExecuteTime": {
     "end_time": "2017-06-22T08:23:45.832415Z",
     "start_time": "2017-06-22T08:23:45.828950Z"
    },
    "collapsed": true
   },
   "outputs": [],
   "source": [
    "X_train_best = skb.transform(X_train)\n",
    "X_test_best  = skb.transform(X_test)"
   ]
  },
  {
   "cell_type": "code",
   "execution_count": 60,
   "metadata": {
    "ExecuteTime": {
     "end_time": "2017-06-22T08:23:45.842666Z",
     "start_time": "2017-06-22T08:23:45.833653Z"
    }
   },
   "outputs": [
    {
     "data": {
      "text/plain": [
       "LogisticRegression(C=1.0, class_weight=None, dual=False, fit_intercept=True,\n",
       "          intercept_scaling=1, max_iter=100, multi_class='ovr', n_jobs=1,\n",
       "          penalty='l2', random_state=None, solver='liblinear', tol=0.0001,\n",
       "          verbose=0, warm_start=False)"
      ]
     },
     "execution_count": 60,
     "metadata": {},
     "output_type": "execute_result"
    }
   ],
   "source": [
    "clf.fit(X_train_best, y_train)"
   ]
  },
  {
   "cell_type": "code",
   "execution_count": 61,
   "metadata": {
    "ExecuteTime": {
     "end_time": "2017-06-22T08:23:45.848392Z",
     "start_time": "2017-06-22T08:23:45.843999Z"
    }
   },
   "outputs": [
    {
     "data": {
      "text/plain": [
       "0.95614035087719296"
      ]
     },
     "execution_count": 61,
     "metadata": {},
     "output_type": "execute_result"
    }
   ],
   "source": [
    "clf.score(X_test_best, y_test)"
   ]
  },
  {
   "cell_type": "code",
   "execution_count": null,
   "metadata": {
    "collapsed": true
   },
   "outputs": [],
   "source": []
  },
  {
   "cell_type": "code",
   "execution_count": 62,
   "metadata": {
    "ExecuteTime": {
     "end_time": "2017-06-22T08:23:45.857229Z",
     "start_time": "2017-06-22T08:23:45.849675Z"
    },
    "collapsed": true
   },
   "outputs": [],
   "source": [
    "clf.fit(X_train, y_train);"
   ]
  },
  {
   "cell_type": "code",
   "execution_count": 63,
   "metadata": {
    "ExecuteTime": {
     "end_time": "2017-06-22T08:23:45.863430Z",
     "start_time": "2017-06-22T08:23:45.858938Z"
    }
   },
   "outputs": [
    {
     "data": {
      "text/plain": [
       "0.95614035087719296"
      ]
     },
     "execution_count": 63,
     "metadata": {},
     "output_type": "execute_result"
    }
   ],
   "source": [
    "clf.score(X_test, y_test)"
   ]
  },
  {
   "cell_type": "code",
   "execution_count": null,
   "metadata": {
    "collapsed": true
   },
   "outputs": [],
   "source": []
  },
  {
   "cell_type": "code",
   "execution_count": null,
   "metadata": {
    "collapsed": true
   },
   "outputs": [],
   "source": []
  },
  {
   "cell_type": "code",
   "execution_count": 30,
   "metadata": {
    "collapsed": true
   },
   "outputs": [],
   "source": [
    "from sklearn.model_selection import StratifiedKFold"
   ]
  },
  {
   "cell_type": "code",
   "execution_count": 51,
   "metadata": {},
   "outputs": [
    {
     "name": "stdout",
     "output_type": "stream",
     "text": [
      "[  0   1   2   4   5   6   8   9  10  11  12  13  14  17  18  19  20  21\n",
      "  22  24  25  26  27  28  29  30  32  33  34  35  36  39  40  41  42  43\n",
      "  44  45  46  48  50  52  53  54  55  56  58  59  60  61  62  63  64  65\n",
      "  66  67  68  69  70  71  72  73  74  75  76  77  78  79  80  82  83  84\n",
      "  85  86  87  88  89  90  91  92  93  94  95  97  98  99 100 101 102 103\n",
      " 104 105 106 107 108 109 110 111 112 113 114 115 116 117 118 119 120 121\n",
      " 122 123 124 125 126 127 128 130 133 135 136 137 138 139 140 141 142 143\n",
      " 144 146 147 148 149 150 151 152 153 154 155 156 157 158 159 160 161 162\n",
      " 163 164 165 167 168 169 170 171 172 173 174 175 176 177 178 179 180 181\n",
      " 182 183 184 185 186 187 188 189 190 192 193 195 196 198 199 200 201 202\n",
      " 203 204 205 206 207 208 209 210 211 212 213 214 215 216 217 218 219 220\n",
      " 221 222 223 224 225 226 227 228 229 230 231 232 233 234 235 236 237 239\n",
      " 240 241 242 243 244 245 246 247 248 249 250 252 253 254 255 256 258 259\n",
      " 260 261 262 263 265 266 267 268 269 270 271 272 274 276 277 278 279 280\n",
      " 281 282 283 284 285 287 288 289 290 291 292 293 294 295 296 297 298 300\n",
      " 301 302 303 304 305 306 307 308 309 310 312 313 314 315 316 317 318 319\n",
      " 320 321 322 323 324 326 327 328 330 331 332 333 334 335 336 337 338 339\n",
      " 340 341 342 343 344 345 347 348 349 350 351 353 354 355 356 357 358 359\n",
      " 360 361 362 363 365 366 367 368 369 370 371 372 373 375 376 377 378 379\n",
      " 380 381 382 383 384 385 386 387 388 389 390 391 392 393 394 395 396 397\n",
      " 398 399 400 402 403 404 405 406 407 408 411 412 413 414 415 416 418 419\n",
      " 420 421 422 424 425 426 427 428 429 430 431 433 435 436 437 438 439 440\n",
      " 442 443 444 445 446 447 448 449 450 451 452 453 454]\n",
      "\n",
      "[  0   1   2   3   4   5   6   7   8   9  10  11  14  15  16  17  18  19\n",
      "  20  21  22  23  24  25  26  27  30  31  32  33  34  35  36  37  38  39\n",
      "  40  41  42  43  44  45  46  47  48  49  50  51  52  53  54  55  56  57\n",
      "  58  59  60  61  62  63  64  65  66  67  68  69  70  71  72  74  75  76\n",
      "  77  78  79  80  81  83  84  86  87  88  89  90  91  92  93  96  97  98\n",
      "  99 100 101 102 103 104 105 106 107 108 110 111 114 115 116 117 118 119\n",
      " 120 121 123 124 125 126 127 128 129 130 131 132 133 134 136 137 138 141\n",
      " 142 143 144 145 146 147 148 149 150 151 152 153 154 155 156 157 159 160\n",
      " 161 163 164 165 166 168 170 171 173 174 175 176 177 178 179 180 181 182\n",
      " 183 184 185 186 187 188 190 191 192 194 195 196 197 198 199 200 201 203\n",
      " 204 205 206 207 208 209 211 212 213 214 215 216 217 218 219 220 221 222\n",
      " 223 224 225 226 228 229 230 231 232 233 234 235 236 237 238 239 241 242\n",
      " 244 246 247 248 249 250 251 252 253 254 255 256 257 258 259 260 261 262\n",
      " 263 264 265 266 267 268 269 270 271 272 273 274 275 277 278 279 280 281\n",
      " 282 283 284 285 286 287 288 290 291 292 295 296 297 298 299 300 301 302\n",
      " 303 304 305 307 308 309 310 311 312 313 314 315 316 317 318 320 322 323\n",
      " 324 325 326 327 328 329 330 332 333 334 335 336 337 338 339 340 341 342\n",
      " 343 344 345 346 347 348 349 350 351 352 354 355 356 357 358 359 360 361\n",
      " 362 363 364 365 366 367 368 369 370 371 372 373 374 375 376 377 378 379\n",
      " 380 381 382 385 386 387 388 389 390 391 392 394 395 396 397 398 400 401\n",
      " 402 404 405 406 407 408 409 410 411 412 413 414 415 416 417 418 419 420\n",
      " 421 422 423 424 425 426 427 428 429 430 431 432 434 435 438 439 440 441\n",
      " 442 443 444 445 446 447 448 449 450 451 452 453 454]\n",
      "\n",
      "[  0   1   2   3   5   6   7   8   9  10  11  12  13  14  15  16  18  19\n",
      "  20  22  23  24  26  27  28  29  31  32  33  34  35  37  38  39  40  41\n",
      "  42  43  44  45  46  47  48  49  50  51  53  54  55  56  57  58  59  60\n",
      "  61  62  63  64  65  66  67  68  69  70  71  72  73  74  76  77  78  79\n",
      "  80  81  82  83  84  85  86  87  88  89  90  91  92  94  95  96  97  98\n",
      "  99 100 101 102 104 105 106 107 108 109 110 111 112 113 114 115 116 117\n",
      " 118 119 120 121 122 123 125 126 127 128 129 130 131 132 133 134 135 136\n",
      " 137 138 139 140 141 142 143 144 145 146 147 148 149 152 153 154 155 156\n",
      " 157 158 159 160 161 162 163 164 165 166 167 168 169 170 171 172 173 174\n",
      " 175 176 177 178 179 180 181 182 183 184 185 186 187 189 190 191 192 193\n",
      " 194 195 196 197 198 199 200 201 202 204 205 206 207 208 210 211 212 214\n",
      " 215 216 217 218 219 220 221 222 223 224 225 226 227 228 230 232 233 234\n",
      " 237 238 239 240 241 242 243 244 245 246 247 248 249 250 251 252 253 255\n",
      " 256 257 258 259 260 261 262 263 264 265 267 269 270 271 272 273 274 275\n",
      " 276 277 279 280 281 283 284 286 287 288 289 290 291 292 293 294 295 296\n",
      " 297 298 299 300 302 303 305 306 307 308 309 310 311 312 313 314 315 316\n",
      " 317 318 319 321 322 323 324 325 326 327 329 330 331 332 333 334 335 336\n",
      " 337 338 339 340 341 342 343 344 346 347 348 349 350 352 353 354 355 356\n",
      " 357 358 359 360 362 363 364 365 366 367 368 369 370 371 373 374 375 377\n",
      " 378 380 381 382 383 384 386 387 388 389 390 392 393 395 396 397 398 399\n",
      " 400 401 402 403 404 405 407 408 409 410 411 412 413 414 415 416 417 418\n",
      " 419 420 421 422 423 424 427 429 430 431 432 433 434 436 437 438 440 441\n",
      " 442 443 444 445 446 447 448 449 450 451 452 453 454]\n",
      "\n",
      "[  0   1   3   4   7   9  10  11  12  13  15  16  17  18  19  20  21  22\n",
      "  23  24  25  26  27  28  29  30  31  33  34  35  36  37  38  39  40  41\n",
      "  42  43  44  45  47  48  49  50  51  52  53  54  55  56  57  58  59  60\n",
      "  62  63  64  65  66  67  68  69  70  71  72  73  75  76  77  78  79  80\n",
      "  81  82  83  84  85  86  87  88  91  92  93  94  95  96  98 100 101 102\n",
      " 103 104 105 106 107 108 109 110 111 112 113 114 117 118 119 120 121 122\n",
      " 123 124 125 126 127 128 129 130 131 132 133 134 135 136 137 138 139 140\n",
      " 141 142 144 145 146 147 148 149 150 151 152 154 155 156 157 158 159 160\n",
      " 161 162 163 164 166 167 168 169 170 171 172 174 175 177 178 179 180 181\n",
      " 182 183 184 185 186 187 188 189 190 191 192 193 194 195 196 197 199 200\n",
      " 201 202 203 204 205 206 208 209 210 211 212 213 214 215 216 217 219 220\n",
      " 222 223 224 225 226 227 228 229 231 233 234 235 236 237 238 240 241 242\n",
      " 243 244 245 246 247 249 250 251 252 253 254 256 257 259 260 261 263 264\n",
      " 265 266 267 268 269 270 271 272 273 275 276 278 279 280 281 282 283 284\n",
      " 285 286 287 288 289 290 292 293 294 295 296 297 298 299 300 301 302 303\n",
      " 304 305 306 307 308 309 310 311 313 314 315 316 317 318 319 320 321 322\n",
      " 323 324 325 326 328 329 330 331 332 333 334 335 336 337 339 340 341 342\n",
      " 343 344 345 346 347 348 349 350 351 352 353 354 355 356 357 358 359 360\n",
      " 361 364 367 368 369 371 372 373 374 375 376 377 378 379 380 381 382 383\n",
      " 384 385 386 387 388 389 390 391 392 393 394 395 396 398 399 401 402 403\n",
      " 404 405 406 408 409 410 411 412 413 414 415 416 417 418 419 420 421 422\n",
      " 423 424 425 426 427 428 429 430 431 432 433 434 435 436 437 438 439 440\n",
      " 441 442 443 444 445 447 448 449 450 451 452 453 454]\n",
      "\n",
      "[  0   1   2   3   4   5   6   7   8   9  10  12  13  14  15  16  17  18\n",
      "  19  20  21  22  23  24  25  26  27  28  29  30  31  32  33  34  35  36\n",
      "  37  38  39  40  41  42  43  44  45  46  47  48  49  51  52  53  54  55\n",
      "  56  57  59  61  63  64  65  66  68  69  70  71  72  73  74  75  76  78\n",
      "  79  81  82  83  84  85  86  87  88  89  90  91  92  93  94  95  96  97\n",
      "  98  99 101 102 103 104 105 106 107 108 109 110 111 112 113 114 115 116\n",
      " 117 118 119 120 121 122 123 124 125 126 127 128 129 130 131 132 133 134\n",
      " 135 136 138 139 140 141 142 143 144 145 146 147 148 149 150 151 152 153\n",
      " 154 157 158 159 160 161 162 163 164 165 166 167 169 170 171 172 173 175\n",
      " 176 177 178 179 180 183 184 185 186 187 188 189 190 191 192 193 194 195\n",
      " 196 197 198 200 201 202 203 204 205 206 207 208 209 210 211 212 213 214\n",
      " 215 216 217 218 219 220 221 222 223 225 226 227 228 229 230 231 232 235\n",
      " 236 237 238 239 240 241 242 243 244 245 246 247 248 249 251 252 253 254\n",
      " 255 256 257 258 259 261 262 264 265 266 268 270 271 273 274 275 276 277\n",
      " 278 279 280 281 282 284 285 286 287 289 290 291 292 293 294 295 296 297\n",
      " 298 299 300 301 302 303 304 305 306 307 308 309 310 311 312 313 314 316\n",
      " 317 318 319 320 321 322 323 324 325 326 327 328 329 330 331 332 334 336\n",
      " 337 338 339 341 342 343 344 345 346 348 349 350 351 352 353 354 355 356\n",
      " 357 358 359 361 362 363 364 365 366 367 368 370 371 372 373 374 375 376\n",
      " 377 378 379 381 382 383 384 385 386 387 388 389 390 391 392 393 394 395\n",
      " 396 397 398 399 400 401 403 404 406 407 409 410 411 414 415 416 417 418\n",
      " 419 420 421 422 423 424 425 426 427 428 429 431 432 433 434 435 436 437\n",
      " 438 439 440 441 442 443 444 446 447 449 451 453 454]\n",
      "\n",
      "[  0   2   3   4   5   6   7   8  11  12  13  14  15  16  17  18  19  20\n",
      "  21  22  23  24  25  27  28  29  30  31  32  33  34  35  36  37  38  39\n",
      "  40  41  42  44  45  46  47  48  49  50  51  52  53  54  55  56  57  58\n",
      "  59  60  61  62  64  65  67  68  70  71  72  73  74  75  76  77  78  79\n",
      "  80  81  82  83  84  85  86  87  88  89  90  91  92  93  94  95  96  97\n",
      "  98  99 100 101 102 103 104 105 106 107 109 110 111 112 113 115 116 117\n",
      " 118 119 121 122 123 124 125 126 127 128 129 130 131 132 133 134 135 136\n",
      " 137 138 139 140 141 142 143 144 145 146 147 148 149 150 151 152 153 154\n",
      " 155 156 157 158 161 162 163 165 166 167 168 169 170 171 172 173 174 176\n",
      " 178 179 180 181 182 184 185 187 188 189 190 191 192 193 194 195 196 197\n",
      " 198 199 201 202 203 204 205 207 208 209 210 212 213 214 215 217 218 219\n",
      " 220 221 222 223 224 225 226 227 228 229 230 231 232 233 234 235 236 237\n",
      " 238 239 240 241 243 244 245 247 248 249 250 251 252 253 254 255 257 258\n",
      " 259 260 261 262 263 264 265 266 267 268 269 270 271 272 273 274 275 276\n",
      " 277 278 279 280 282 283 284 285 286 287 288 289 291 292 293 294 296 297\n",
      " 298 299 300 301 302 303 304 305 306 307 308 310 311 312 313 314 315 316\n",
      " 317 318 319 320 321 323 324 325 326 327 328 329 330 331 332 333 335 336\n",
      " 337 338 339 340 341 342 344 345 346 347 349 350 351 352 353 354 355 357\n",
      " 358 359 360 361 362 363 364 365 366 367 368 369 370 371 372 374 375 376\n",
      " 377 378 379 380 382 383 384 385 386 388 390 391 393 394 395 396 397 399\n",
      " 400 401 402 403 404 405 406 407 408 409 410 411 412 413 414 415 417 418\n",
      " 420 421 422 423 425 426 428 429 430 431 432 433 434 435 436 437 438 439\n",
      " 440 441 442 443 445 446 447 448 449 450 451 452 453 454]\n",
      "\n",
      "[  1   2   3   4   5   6   7   8   9  10  11  12  13  14  15  16  17  18\n",
      "  21  22  23  24  25  26  27  28  29  30  31  32  33  34  36  37  38  39\n",
      "  40  41  42  43  44  46  47  49  50  51  52  53  54  55  56  57  58  59\n",
      "  60  61  62  63  64  65  66  67  68  69  70  71  72  73  74  75  77  78\n",
      "  79  80  81  82  83  85  86  87  89  90  92  93  94  95  96  97  98  99\n",
      " 100 101 102 103 105 106 107 108 109 110 111 112 113 114 115 116 117 118\n",
      " 119 120 121 122 123 124 125 126 128 129 130 131 132 133 134 135 136 137\n",
      " 138 139 140 142 143 144 145 146 147 148 149 150 151 153 154 155 156 157\n",
      " 158 159 160 161 162 163 164 165 166 167 168 169 170 171 172 173 174 175\n",
      " 176 177 178 180 181 182 183 185 186 187 188 189 191 192 193 194 195 196\n",
      " 197 198 199 200 201 202 203 204 205 206 207 208 209 210 211 213 214 215\n",
      " 216 217 218 221 222 224 225 226 227 229 230 231 232 233 234 235 236 238\n",
      " 239 240 241 242 243 244 245 246 248 250 251 252 253 254 255 256 257 258\n",
      " 259 260 262 263 264 265 266 267 268 269 271 272 273 274 275 276 277 278\n",
      " 279 281 282 283 284 285 286 288 289 290 291 292 293 294 295 296 297 298\n",
      " 299 300 301 302 303 304 305 306 308 309 310 311 312 315 316 317 319 320\n",
      " 321 322 323 324 325 326 327 328 329 331 332 333 334 335 337 338 340 341\n",
      " 342 343 345 346 347 348 349 350 351 352 353 354 356 357 358 359 360 361\n",
      " 362 363 364 365 366 367 368 369 370 371 372 373 374 375 376 377 379 380\n",
      " 381 382 383 384 385 386 387 388 389 391 392 393 394 395 396 397 398 399\n",
      " 400 401 402 403 404 405 406 407 408 409 410 411 412 413 414 415 416 417\n",
      " 419 420 421 423 424 425 426 427 428 429 430 431 432 433 434 435 436 437\n",
      " 438 439 440 441 444 445 446 447 448 450 451 452 453 454]\n",
      "\n",
      "[  0   1   2   3   4   5   6   7   8   9  10  11  12  13  14  15  16  17\n",
      "  18  19  20  21  23  24  25  26  27  28  29  30  31  32  33  35  36  37\n",
      "  38  39  42  43  45  46  47  48  49  50  51  52  53  54  55  57  58  59\n",
      "  60  61  62  63  64  66  67  68  69  70  71  72  73  74  75  76  77  78\n",
      "  80  81  82  83  84  85  88  89  90  91  92  93  94  95  96  97  99 100\n",
      " 102 103 104 105 106 107 108 109 110 112 113 114 115 116 117 119 120 121\n",
      " 122 123 124 127 129 130 131 132 133 134 135 136 137 138 139 140 141 143\n",
      " 145 146 147 148 150 151 152 153 154 155 156 157 158 159 160 162 163 164\n",
      " 165 166 167 168 169 170 171 172 173 174 175 176 177 178 179 180 181 182\n",
      " 183 184 185 186 188 189 190 191 193 194 195 196 197 198 199 200 201 202\n",
      " 203 206 207 208 209 210 211 212 213 214 215 216 218 219 220 221 222 223\n",
      " 224 225 226 227 228 229 230 231 232 233 234 235 236 237 238 239 240 242\n",
      " 243 244 245 246 247 248 249 250 251 252 253 254 255 256 257 258 259 260\n",
      " 261 262 263 264 265 266 267 268 269 270 271 272 273 274 275 276 277 278\n",
      " 279 280 281 282 283 284 285 286 287 288 289 290 291 292 293 294 295 296\n",
      " 297 298 299 301 302 303 304 306 307 308 309 311 312 313 314 315 317 318\n",
      " 319 320 321 322 324 325 326 327 328 329 330 331 332 333 334 335 336 337\n",
      " 338 339 340 341 343 344 345 346 347 348 351 352 353 354 355 356 358 360\n",
      " 361 362 363 364 365 366 368 369 370 371 372 373 374 376 378 379 380 381\n",
      " 383 384 385 386 387 388 389 390 391 392 393 394 395 396 397 398 399 400\n",
      " 401 402 403 404 405 406 407 408 409 410 411 412 413 414 415 416 417 418\n",
      " 419 420 422 423 424 425 426 427 428 430 431 432 433 434 435 436 437 438\n",
      " 439 440 441 442 443 444 445 446 447 448 449 450 452 453]\n",
      "\n",
      "[  0   1   2   3   4   5   6   7   8   9  10  11  12  13  14  15  16  17\n",
      "  18  19  20  21  22  23  25  26  27  28  29  30  31  32  33  34  35  36\n",
      "  37  38  39  40  41  42  43  44  45  46  47  48  49  50  51  52  53  54\n",
      "  56  57  58  60  61  62  63  64  65  66  67  69  71  73  74  75  76  77\n",
      "  78  79  80  81  82  83  84  85  86  87  88  89  90  91  93  94  95  96\n",
      "  97  98  99 100 101 102 103 104 105 108 109 110 111 112 113 114 115 116\n",
      " 117 118 119 120 122 124 125 126 127 128 129 130 131 132 133 134 135 137\n",
      " 138 139 140 141 142 143 144 145 146 149 150 151 152 153 154 155 156 158\n",
      " 159 160 161 162 164 165 166 167 168 169 170 172 173 174 175 176 177 178\n",
      " 179 181 182 183 184 185 186 187 188 189 190 191 192 193 194 196 197 198\n",
      " 199 200 202 203 204 205 206 207 209 210 211 212 213 216 217 218 219 220\n",
      " 221 222 223 224 226 227 228 229 230 231 232 233 234 235 236 237 238 239\n",
      " 240 241 242 243 244 245 246 247 248 249 250 251 252 253 254 255 256 257\n",
      " 258 260 261 262 263 264 266 267 268 269 270 272 273 274 275 276 277 278\n",
      " 279 280 281 282 283 285 286 287 288 289 290 291 293 294 295 298 299 300\n",
      " 301 302 303 304 305 306 307 309 310 311 312 313 314 315 316 318 319 320\n",
      " 321 322 323 324 325 326 327 328 329 330 331 332 333 334 335 336 337 338\n",
      " 339 340 342 343 344 345 346 347 348 349 350 351 352 353 354 355 356 357\n",
      " 359 360 361 362 363 364 365 366 367 369 370 372 373 374 375 376 377 378\n",
      " 379 380 381 382 383 384 385 387 389 390 391 392 393 394 395 397 398 399\n",
      " 400 401 402 403 404 405 406 407 408 409 410 411 412 413 414 416 417 418\n",
      " 419 421 422 423 424 425 426 427 428 429 430 432 433 434 435 436 437 439\n",
      " 440 441 442 443 444 445 446 447 448 449 450 451 452 454]\n",
      "\n",
      "[  0   1   2   3   4   5   6   7   8   9  10  11  12  13  14  15  16  17\n",
      "  19  20  21  22  23  24  25  26  28  29  30  31  32  34  35  36  37  38\n",
      "  40  41  43  44  45  46  47  48  49  50  51  52  55  56  57  58  59  60\n",
      "  61  62  63  65  66  67  68  69  70  72  73  74  75  76  77  79  80  81\n",
      "  82  84  85  86  87  88  89  90  91  92  93  94  95  96  97  98  99 100\n",
      " 101 103 104 106 107 108 109 111 112 113 114 115 116 118 120 121 122 123\n",
      " 124 125 126 127 128 129 131 132 134 135 136 137 139 140 141 142 143 144\n",
      " 145 147 148 149 150 151 152 153 155 156 157 158 159 160 161 162 163 164\n",
      " 165 166 167 168 169 171 172 173 174 175 176 177 179 180 181 182 183 184\n",
      " 186 187 188 189 190 191 192 193 194 195 197 198 199 200 201 202 203 204\n",
      " 205 206 207 208 209 210 211 212 213 214 215 216 217 218 219 220 221 223\n",
      " 224 225 227 228 229 230 231 232 233 234 235 236 237 238 239 240 241 242\n",
      " 243 245 246 247 248 249 250 251 254 255 256 257 258 259 260 261 262 263\n",
      " 264 265 266 267 268 269 270 271 272 273 274 275 276 277 278 280 281 282\n",
      " 283 284 285 286 287 288 289 290 291 292 293 294 295 296 297 299 300 301\n",
      " 304 305 306 307 308 309 310 311 312 313 314 315 316 317 318 319 320 321\n",
      " 322 323 325 327 328 329 330 331 333 334 335 336 338 339 340 341 342 343\n",
      " 344 345 346 347 348 349 350 351 352 353 355 356 357 358 359 360 361 362\n",
      " 363 364 365 366 367 368 369 370 371 372 373 374 375 376 377 378 379 380\n",
      " 381 382 383 384 385 386 387 388 389 390 391 392 393 394 396 397 398 399\n",
      " 400 401 402 403 405 406 407 408 409 410 412 413 415 416 417 418 419 420\n",
      " 421 422 423 424 425 426 427 428 429 430 431 432 433 434 435 436 437 438\n",
      " 439 441 442 443 444 445 446 448 449 450 451 452 453 454]\n",
      "\n"
     ]
    }
   ],
   "source": [
    "ss = StratifiedKFold(n_splits=10, shuffle=True, random_state=2)\n",
    "score = []\n",
    "for train_index, val_index in ss.split(X_train, y_train):\n",
    "    print(train_index)\n",
    "    print()"
   ]
  }
 ],
 "metadata": {
  "anaconda-cloud": {},
  "kernelspec": {
   "display_name": "Python 3",
   "language": "python",
   "name": "python3"
  },
  "language_info": {
   "codemirror_mode": {
    "name": "ipython",
    "version": 3
   },
   "file_extension": ".py",
   "mimetype": "text/x-python",
   "name": "python",
   "nbconvert_exporter": "python",
   "pygments_lexer": "ipython3",
   "version": "3.5.4"
  },
  "toc": {
   "colors": {
    "hover_highlight": "#DAA520",
    "running_highlight": "#FF0000",
    "selected_highlight": "#FFD700"
   },
   "moveMenuLeft": true,
   "nav_menu": {
    "height": "12px",
    "width": "252px"
   },
   "navigate_menu": true,
   "number_sections": true,
   "sideBar": true,
   "threshold": 4,
   "toc_cell": false,
   "toc_section_display": "block",
   "toc_window_display": false,
   "widenNotebook": false
  }
 },
 "nbformat": 4,
 "nbformat_minor": 1
}
