{
 "cells": [
  {
   "cell_type": "markdown",
   "metadata": {},
   "source": [
    "Linear_SVMはデータの数大きい時に有効である．"
   ]
  },
  {
   "cell_type": "code",
   "execution_count": 1,
   "metadata": {
    "ExecuteTime": {
     "end_time": "2017-06-22T08:35:01.663565Z",
     "start_time": "2017-06-22T08:35:01.245471Z"
    },
    "collapsed": true
   },
   "outputs": [],
   "source": [
    "import numpy as np\n",
    "\n",
    "import matplotlib.pyplot as plt\n",
    "%matplotlib inline"
   ]
  },
  {
   "cell_type": "code",
   "execution_count": 2,
   "metadata": {
    "ExecuteTime": {
     "end_time": "2017-06-22T08:35:01.955691Z",
     "start_time": "2017-06-22T08:35:01.665001Z"
    },
    "collapsed": true
   },
   "outputs": [],
   "source": [
    "from sklearn.datasets import load_breast_cancer\n",
    "data = load_breast_cancer()\n",
    "X = data.data\n",
    "y = data.target"
   ]
  },
  {
   "cell_type": "code",
   "execution_count": 3,
   "metadata": {
    "ExecuteTime": {
     "end_time": "2017-06-22T08:35:01.986452Z",
     "start_time": "2017-06-22T08:35:01.956745Z"
    },
    "collapsed": true
   },
   "outputs": [],
   "source": [
    "from sklearn.model_selection import ShuffleSplit\n",
    "ss = ShuffleSplit(n_splits=1, \n",
    "                  train_size=0.8, \n",
    "                  test_size=0.2, \n",
    "                  random_state=0)\n",
    "\n",
    "train_index, test_index = next(ss.split(X, y))\n",
    "\n",
    "X_train, X_test = X[train_index], X[test_index]\n",
    "y_train, y_test = y[train_index], y[test_index]"
   ]
  },
  {
   "cell_type": "code",
   "execution_count": 4,
   "metadata": {
    "ExecuteTime": {
     "end_time": "2017-06-22T08:35:01.992369Z",
     "start_time": "2017-06-22T08:35:01.987936Z"
    },
    "collapsed": true
   },
   "outputs": [],
   "source": [
    "from sklearn.preprocessing import MinMaxScaler\n",
    "scaler = MinMaxScaler()\n",
    "scaler.fit(X_train)\n",
    "X_train = scaler.transform(X_train)\n",
    "X_test  = scaler.transform(X_test)"
   ]
  },
  {
   "cell_type": "code",
   "execution_count": 5,
   "metadata": {
    "ExecuteTime": {
     "end_time": "2017-06-22T08:35:01.996123Z",
     "start_time": "2017-06-22T08:35:01.994127Z"
    },
    "collapsed": true
   },
   "outputs": [],
   "source": [
    "import time"
   ]
  },
  {
   "cell_type": "code",
   "execution_count": 6,
   "metadata": {
    "ExecuteTime": {
     "end_time": "2017-06-22T08:35:02.039730Z",
     "start_time": "2017-06-22T08:35:01.997479Z"
    },
    "collapsed": true
   },
   "outputs": [],
   "source": [
    "from sklearn.svm import SVC\n",
    "\n",
    "clf = SVC(kernel='linear')"
   ]
  },
  {
   "cell_type": "code",
   "execution_count": 7,
   "metadata": {
    "ExecuteTime": {
     "end_time": "2017-06-22T08:35:02.050684Z",
     "start_time": "2017-06-22T08:35:02.040918Z"
    }
   },
   "outputs": [
    {
     "name": "stdout",
     "output_type": "stream",
     "text": [
      "4.271030426025391 [ms]\n"
     ]
    },
    {
     "data": {
      "text/plain": [
       "0.96491228070175439"
      ]
     },
     "execution_count": 7,
     "metadata": {},
     "output_type": "execute_result"
    }
   ],
   "source": [
    "clf.set_params(C=1)\n",
    "\n",
    "st = time.time()\n",
    "clf.fit(X_train, y_train)\n",
    "print(1000 * (time.time() - st), \"[ms]\")\n",
    "\n",
    "clf.score(X_test, y_test)"
   ]
  },
  {
   "cell_type": "code",
   "execution_count": 11,
   "metadata": {
    "ExecuteTime": {
     "end_time": "2017-06-22T08:35:02.245921Z",
     "start_time": "2017-06-22T08:35:02.051591Z"
    }
   },
   "outputs": [
    {
     "name": "stdout",
     "output_type": "stream",
     "text": [
      "255.82504272460938 [ms]\n"
     ]
    },
    {
     "data": {
      "text/plain": [
       "0.95614035087719296"
      ]
     },
     "execution_count": 11,
     "metadata": {},
     "output_type": "execute_result"
    }
   ],
   "source": [
    "clf.set_params(C=1e+20)\n",
    "\n",
    "st = time.time()\n",
    "clf.fit(X_train, y_train)\n",
    "print(1000 * (time.time() - st), \"[ms]\")\n",
    "\n",
    "clf.score(X_test, y_test)"
   ]
  },
  {
   "cell_type": "code",
   "execution_count": 13,
   "metadata": {
    "ExecuteTime": {
     "end_time": "2017-06-22T08:35:03.877603Z",
     "start_time": "2017-06-22T08:35:02.247067Z"
    }
   },
   "outputs": [
    {
     "name": "stdout",
     "output_type": "stream",
     "text": [
      "Fitting 3 folds for each of 36 candidates, totalling 108 fits\n"
     ]
    },
    {
     "name": "stderr",
     "output_type": "stream",
     "text": [
      "[Parallel(n_jobs=1)]: Done 108 out of 108 | elapsed:    2.1s finished\n"
     ]
    },
    {
     "data": {
      "text/plain": [
       "GridSearchCV(cv=3, error_score='raise',\n",
       "       estimator=SVC(C=1e+20, cache_size=200, class_weight=None, coef0=0.0,\n",
       "  decision_function_shape='ovr', degree=3, gamma='auto', kernel='linear',\n",
       "  max_iter=-1, probability=False, random_state=None, shrinking=True,\n",
       "  tol=0.001, verbose=False),\n",
       "       fit_params=None, iid=True, n_jobs=1,\n",
       "       param_grid={'C': array([  1.00000e-15,   1.00000e-14,   1.00000e-13,   1.00000e-12,\n",
       "         1.00000e-11,   1.00000e-10,   1.00000e-09,   1.00000e-08,\n",
       "         1.00000e-07,   1.00000e-06,   1.00000e-05,   1.00000e-04,\n",
       "         1.00000e-03,   1.00000e-02,   1.00000e-01,   1.00000e+00,\n",
       "         1.0000...,   1.00000e+15,   1.00000e+16,\n",
       "         1.00000e+17,   1.00000e+18,   1.00000e+19,   1.00000e+20])},\n",
       "       pre_dispatch='2*n_jobs', refit=True, return_train_score=True,\n",
       "       scoring=None, verbose=1)"
      ]
     },
     "execution_count": 13,
     "metadata": {},
     "output_type": "execute_result"
    }
   ],
   "source": [
    "from sklearn.model_selection import GridSearchCV\n",
    "\n",
    "param = {'C': 10**np.arange(-15.0,21.0)}\n",
    "\n",
    "gs = GridSearchCV(clf, param, verbose=1, cv=3)\n",
    "gs.fit(X_train, y_train)"
   ]
  },
  {
   "cell_type": "code",
   "execution_count": 18,
   "metadata": {},
   "outputs": [
    {
     "data": {
      "text/plain": [
       "array([1.0000000000000001e-15, 1e-14, 1e-13, 9.9999999999999998e-13,\n",
       "       9.9999999999999994e-12, 1e-10, 1.0000000000000001e-09, 1e-08,\n",
       "       9.9999999999999995e-08, 9.9999999999999995e-07,\n",
       "       1.0000000000000001e-05, 0.0001, 0.001, 0.01, 0.10000000000000001,\n",
       "       1.0, 10.0, 100.0, 1000.0, 10000.0, 100000.0, 1000000.0, 10000000.0,\n",
       "       100000000.0, 1000000000.0, 10000000000.0, 100000000000.0,\n",
       "       1000000000000.0, 10000000000000.0, 100000000000000.0,\n",
       "       1000000000000000.0, 10000000000000000.0, 1e+17, 1e+18, 1e+19, 1e+20], dtype=object)"
      ]
     },
     "execution_count": 18,
     "metadata": {},
     "output_type": "execute_result"
    }
   ],
   "source": [
    "# gs.cv_results_['param_C'] はディクショナリなので，キーでアクセスできる．\n",
    "gs.cv_results_['param_C'].data"
   ]
  },
  {
   "cell_type": "code",
   "execution_count": 19,
   "metadata": {
    "ExecuteTime": {
     "end_time": "2017-06-22T08:35:04.389471Z",
     "start_time": "2017-06-22T08:35:03.878671Z"
    }
   },
   "outputs": [
    {
     "data": {
      "image/png": "[encoded data removed]",
      "text/plain": [
       "<matplotlib.figure.Figure at 0x114eeab70>"
      ]
     },
     "metadata": {},
     "output_type": "display_data"
    }
   ],
   "source": [
    "plt.plot(gs.cv_results_['param_C'].data, \n",
    "         gs.cv_results_['mean_fit_time'], \n",
    "         label=\"training\")\n",
    "\n",
    "plt.plot(gs.cv_results_['param_C'].data,\n",
    "         gs.cv_results_['mean_score_time'], \n",
    "         label=\"test(val)\")\n",
    "\n",
    "plt.ylim(0,)\n",
    "plt.xscale(\"log\")\n",
    "plt.xlabel(\"C\")\n",
    "plt.ylabel(\"computation time [sec]\")\n",
    "plt.legend(loc=\"best\");\n",
    "plt.title(\"SVM with linear kernel\");"
   ]
  },
  {
   "cell_type": "code",
   "execution_count": null,
   "metadata": {
    "collapsed": true
   },
   "outputs": [],
   "source": []
  },
  {
   "cell_type": "code",
   "execution_count": null,
   "metadata": {
    "collapsed": true
   },
   "outputs": [],
   "source": []
  },
  {
   "cell_type": "code",
   "execution_count": null,
   "metadata": {
    "collapsed": true
   },
   "outputs": [],
   "source": []
  },
  {
   "cell_type": "markdown",
   "metadata": {},
   "source": [
    "`LinearSVC`と\n",
    "```python\n",
    "SVC(kernel=\"linear\")\n",
    "```\n",
    "は意味は同じだが，中身の数式や実装法が異なり別物．\n",
    "\n",
    " __LinearSVC__の方が早いので，線形サポートベクトルマシンを使う場合，こちらの方が大抵良い．"
   ]
  },
  {
   "cell_type": "code",
   "execution_count": 20,
   "metadata": {
    "ExecuteTime": {
     "end_time": "2017-06-22T08:35:04.393238Z",
     "start_time": "2017-06-22T08:35:04.390693Z"
    },
    "collapsed": true
   },
   "outputs": [],
   "source": [
    "from sklearn.svm import LinearSVC\n",
    "\n",
    "clf = LinearSVC()"
   ]
  },
  {
   "cell_type": "code",
   "execution_count": 21,
   "metadata": {
    "ExecuteTime": {
     "end_time": "2017-06-22T08:35:04.403106Z",
     "start_time": "2017-06-22T08:35:04.394849Z"
    }
   },
   "outputs": [
    {
     "name": "stdout",
     "output_type": "stream",
     "text": [
      "6.049156188964844 [ms]\n"
     ]
    },
    {
     "data": {
      "text/plain": [
       "0.96491228070175439"
      ]
     },
     "execution_count": 21,
     "metadata": {},
     "output_type": "execute_result"
    }
   ],
   "source": [
    "clf.C = 1\n",
    "\n",
    "st = time.time()\n",
    "clf.fit(X_train, y_train)\n",
    "print(1000 * (time.time() - st), \"[ms]\")\n",
    "\n",
    "clf.score(X_test, y_test)"
   ]
  },
  {
   "cell_type": "code",
   "execution_count": 22,
   "metadata": {
    "ExecuteTime": {
     "end_time": "2017-06-22T08:35:04.417084Z",
     "start_time": "2017-06-22T08:35:04.404465Z"
    }
   },
   "outputs": [
    {
     "name": "stdout",
     "output_type": "stream",
     "text": [
      "11.94000244140625 [ms]\n"
     ]
    },
    {
     "data": {
      "text/plain": [
       "0.95614035087719296"
      ]
     },
     "execution_count": 22,
     "metadata": {},
     "output_type": "execute_result"
    }
   ],
   "source": [
    "clf.C = 1e20\n",
    "\n",
    "st = time.time()\n",
    "clf.fit(X_train, y_train)\n",
    "print(1000 * (time.time() - st), \"[ms]\")\n",
    "\n",
    "clf.score(X_test, y_test)"
   ]
  },
  {
   "cell_type": "code",
   "execution_count": 23,
   "metadata": {
    "ExecuteTime": {
     "end_time": "2017-06-22T08:35:04.781187Z",
     "start_time": "2017-06-22T08:35:04.418397Z"
    },
    "scrolled": false
   },
   "outputs": [
    {
     "name": "stdout",
     "output_type": "stream",
     "text": [
      "Fitting 3 folds for each of 36 candidates, totalling 108 fits\n"
     ]
    },
    {
     "name": "stderr",
     "output_type": "stream",
     "text": [
      "[Parallel(n_jobs=1)]: Done 108 out of 108 | elapsed:    0.5s finished\n"
     ]
    },
    {
     "data": {
      "text/plain": [
       "GridSearchCV(cv=None, error_score='raise',\n",
       "       estimator=LinearSVC(C=1e+20, class_weight=None, dual=True, fit_intercept=True,\n",
       "     intercept_scaling=1, loss='squared_hinge', max_iter=1000,\n",
       "     multi_class='ovr', penalty='l2', random_state=None, tol=0.0001,\n",
       "     verbose=0),\n",
       "       fit_params=None, iid=True, n_jobs=1,\n",
       "       param_grid={'C': array([  1.00000e-15,   1.00000e-14,   1.00000e-13,   1.00000e-12,\n",
       "         1.00000e-11,   1.00000e-10,   1.00000e-09,   1.00000e-08,\n",
       "         1.00000e-07,   1.00000e-06,   1.00000e-05,   1.00000e-04,\n",
       "         1.00000e-03,   1.00000e-02,   1.00000e-01,   1.00000e+00,\n",
       "         1.0000...,   1.00000e+15,   1.00000e+16,\n",
       "         1.00000e+17,   1.00000e+18,   1.00000e+19,   1.00000e+20])},\n",
       "       pre_dispatch='2*n_jobs', refit=True, return_train_score=True,\n",
       "       scoring=None, verbose=1)"
      ]
     },
     "execution_count": 23,
     "metadata": {},
     "output_type": "execute_result"
    }
   ],
   "source": [
    "from sklearn.model_selection import GridSearchCV\n",
    "\n",
    "param = {'C': 10**np.arange(-15.0,21.0)}\n",
    "\n",
    "gs2 = GridSearchCV(clf, param, verbose=1)\n",
    "gs2.fit(X_train, y_train)"
   ]
  },
  {
   "cell_type": "code",
   "execution_count": 24,
   "metadata": {
    "ExecuteTime": {
     "end_time": "2017-06-22T08:35:05.136684Z",
     "start_time": "2017-06-22T08:35:04.782313Z"
    }
   },
   "outputs": [
    {
     "data": {
      "image/png": "[encoded data removed]",
      "text/plain": [
       "<matplotlib.figure.Figure at 0x118647f98>"
      ]
     },
     "metadata": {},
     "output_type": "display_data"
    }
   ],
   "source": [
    "plt.plot(gs2.cv_results_['param_C'].data, \n",
    "         gs2.cv_results_['mean_fit_time'], \n",
    "         label=\"training\")\n",
    "\n",
    "plt.plot(gs2.cv_results_['param_C'].data,\n",
    "         gs2.cv_results_['mean_score_time'], \n",
    "         label=\"test(val)\")\n",
    "\n",
    "plt.ylim(0,)\n",
    "plt.xscale(\"log\")\n",
    "plt.xlabel(\"C\")\n",
    "plt.ylabel(\"computation time [sec]\")\n",
    "plt.legend(loc=\"best\")\n",
    "plt.title(\"LinearSVM\");"
   ]
  },
  {
   "cell_type": "code",
   "execution_count": null,
   "metadata": {
    "collapsed": true
   },
   "outputs": [],
   "source": []
  },
  {
   "cell_type": "code",
   "execution_count": 25,
   "metadata": {
    "ExecuteTime": {
     "end_time": "2017-06-22T08:35:05.429331Z",
     "start_time": "2017-06-22T08:35:05.137748Z"
    }
   },
   "outputs": [
    {
     "data": {
      "image/png": "[encoded data removed]",
      "text/plain": [
       "<matplotlib.figure.Figure at 0x118645470>"
      ]
     },
     "metadata": {},
     "output_type": "display_data"
    }
   ],
   "source": [
    "plt.plot(gs.cv_results_['param_C'].data, \n",
    "         gs.cv_results_['mean_fit_time'], \n",
    "         label=\"training SVM (linear kernel)\")\n",
    "\n",
    "plt.plot(gs2.cv_results_['param_C'].data, \n",
    "         gs2.cv_results_['mean_fit_time'], \n",
    "         label=\"training LinearSVM\")\n",
    "\n",
    "plt.ylim(0,)\n",
    "plt.xscale(\"log\")\n",
    "plt.xlabel(\"C\")\n",
    "plt.ylabel(\"computation time [sec]\")\n",
    "plt.legend(loc=\"best\");"
   ]
  },
  {
   "cell_type": "code",
   "execution_count": null,
   "metadata": {
    "collapsed": true
   },
   "outputs": [],
   "source": []
  },
  {
   "cell_type": "code",
   "execution_count": null,
   "metadata": {
    "collapsed": true
   },
   "outputs": [],
   "source": []
  },
  {
   "cell_type": "code",
   "execution_count": 26,
   "metadata": {
    "ExecuteTime": {
     "end_time": "2017-06-22T08:35:05.436120Z",
     "start_time": "2017-06-22T08:35:05.430374Z"
    },
    "collapsed": true
   },
   "outputs": [],
   "source": [
    "from sklearn.preprocessing import MinMaxScaler\n",
    "from sklearn.pipeline import Pipeline\n",
    "\n",
    "estimators = [('scaler', MinMaxScaler()), \n",
    "              ('clf', LinearSVC())]\n",
    "\n",
    "pipe = Pipeline(estimators)"
   ]
  },
  {
   "cell_type": "code",
   "execution_count": 28,
   "metadata": {
    "ExecuteTime": {
     "end_time": "2017-06-22T08:35:05.833356Z",
     "start_time": "2017-06-22T08:35:05.437206Z"
    }
   },
   "outputs": [
    {
     "name": "stdout",
     "output_type": "stream",
     "text": [
      "Fitting 3 folds for each of 36 candidates, totalling 108 fits\n"
     ]
    },
    {
     "name": "stderr",
     "output_type": "stream",
     "text": [
      "[Parallel(n_jobs=-1)]: Done 108 out of 108 | elapsed:    0.3s finished\n"
     ]
    },
    {
     "data": {
      "text/plain": [
       "GridSearchCV(cv=None, error_score='raise',\n",
       "       estimator=Pipeline(memory=None,\n",
       "     steps=[('scaler', MinMaxScaler(copy=True, feature_range=(0, 1))), ('clf', LinearSVC(C=1.0, class_weight=None, dual=True, fit_intercept=True,\n",
       "     intercept_scaling=1, loss='squared_hinge', max_iter=1000,\n",
       "     multi_class='ovr', penalty='l2', random_state=None, tol=0.0001,\n",
       "     verbose=0))]),\n",
       "       fit_params=None, iid=True, n_jobs=-1,\n",
       "       param_grid={'clf__C': array([  1.00000e-15,   1.00000e-14,   1.00000e-13,   1.00000e-12,\n",
       "         1.00000e-11,   1.00000e-10,   1.00000e-09,   1.00000e-08,\n",
       "         1.00000e-07,   1.00000e-06,   1.00000e-05,   1.00000e-04,\n",
       "         1.00000e-03,   1.00000e-02,   1.00000e-01,   1.00000e+00,\n",
       "         1...,   1.00000e+15,   1.00000e+16,\n",
       "         1.00000e+17,   1.00000e+18,   1.00000e+19,   1.00000e+20])},\n",
       "       pre_dispatch='2*n_jobs', refit=True, return_train_score=True,\n",
       "       scoring=None, verbose=1)"
      ]
     },
     "execution_count": 28,
     "metadata": {},
     "output_type": "execute_result"
    }
   ],
   "source": [
    "from sklearn.model_selection import GridSearchCV\n",
    "\n",
    "param = {'clf__C': 10**np.arange(-15.0,21.0)}\n",
    "\n",
    "gs = GridSearchCV(estimator=pipe, param_grid=param, verbose=1, n_jobs=-1)\n",
    "gs.fit(X_train, y_train)"
   ]
  },
  {
   "cell_type": "code",
   "execution_count": 33,
   "metadata": {
    "ExecuteTime": {
     "end_time": "2017-06-22T08:35:06.248121Z",
     "start_time": "2017-06-22T08:35:05.834579Z"
    }
   },
   "outputs": [
    {
     "data": {
      "text/plain": [
       "<matplotlib.text.Text at 0x118cbaa58>"
      ]
     },
     "execution_count": 33,
     "metadata": {},
     "output_type": "execute_result"
    },
    {
     "data": {
      "image/png": "[encoded data removed]",
      "text/plain": [
       "<matplotlib.figure.Figure at 0x118bdaa20>"
      ]
     },
     "metadata": {},
     "output_type": "display_data"
    }
   ],
   "source": [
    "plt.plot(gs.cv_results_['param_clf__C'].data, \n",
    "         gs.cv_results_['mean_fit_time'], \n",
    "         label=\"training\")\n",
    "\n",
    "plt.plot(gs.cv_results_['param_clf__C'].data,\n",
    "         gs.cv_results_['mean_score_time'], \n",
    "         label=\"test(val)\")\n",
    "plt.ylabel(\"computation time [sec]\")\n",
    "plt.ylim(0,)\n",
    "plt.xscale(\"log\")\n",
    "plt.xlabel(\"C\")\n",
    "plt.legend(loc=\"upper left\");\n",
    "\n",
    "plt.twinx() #  x軸を共有して異なるスケールのものが一つの図にかける．\n",
    "\n",
    "plt.plot(gs.cv_results_['param_clf__C'].data, \n",
    "         gs.cv_results_['mean_train_score'], \n",
    "         linestyle=\"--\",\n",
    "         label=\"training\")\n",
    "\n",
    "plt.plot(gs.cv_results_['param_clf__C'].data,\n",
    "         gs.cv_results_['mean_test_score'], \n",
    "         linestyle=\"--\",\n",
    "         label=\"test(val)\")\n",
    "plt.ylabel(\"accuracy\")\n",
    "plt.legend(loc=\"lower right\");\n",
    "\n",
    "plt.title(\"LinearSVM\")"
   ]
  },
  {
   "cell_type": "markdown",
   "metadata": {
    "collapsed": true
   },
   "source": [
    "plt.twinx()はx軸を共有して異なるスケールのものが一つの図にかけるようにする．\n",
    "\n",
    "以下参照\n",
    "\n",
    "[api example code: two_scales.py](https://matplotlib.org/examples/api/two_scales.html)\n",
    "\n",
    "[matplotlib.axes.Axes.twinx](https://matplotlib.org/api/_as_gen/matplotlib.axes.Axes.twinx.html)"
   ]
  },
  {
   "cell_type": "code",
   "execution_count": null,
   "metadata": {
    "collapsed": true
   },
   "outputs": [],
   "source": []
  },
  {
   "cell_type": "code",
   "execution_count": null,
   "metadata": {
    "collapsed": true
   },
   "outputs": [],
   "source": []
  },
  {
   "cell_type": "code",
   "execution_count": 34,
   "metadata": {
    "ExecuteTime": {
     "end_time": "2017-06-22T08:35:06.253549Z",
     "start_time": "2017-06-22T08:35:06.249500Z"
    },
    "collapsed": true
   },
   "outputs": [],
   "source": [
    "from sklearn.preprocessing import MinMaxScaler\n",
    "\n",
    "estimators = [('scaler', MinMaxScaler()), \n",
    "              ('clf', SVC(kernel='linear'))]\n",
    "\n",
    "pipe = Pipeline(estimators)"
   ]
  },
  {
   "cell_type": "code",
   "execution_count": 36,
   "metadata": {
    "ExecuteTime": {
     "end_time": "2017-06-22T08:35:08.177143Z",
     "start_time": "2017-06-22T08:35:06.255150Z"
    }
   },
   "outputs": [
    {
     "name": "stdout",
     "output_type": "stream",
     "text": [
      "Fitting 3 folds for each of 36 candidates, totalling 108 fits\n"
     ]
    },
    {
     "name": "stderr",
     "output_type": "stream",
     "text": [
      "[Parallel(n_jobs=-1)]: Done 108 out of 108 | elapsed:    1.4s finished\n"
     ]
    },
    {
     "data": {
      "text/plain": [
       "GridSearchCV(cv=None, error_score='raise',\n",
       "       estimator=Pipeline(memory=None,\n",
       "     steps=[('scaler', MinMaxScaler(copy=True, feature_range=(0, 1))), ('clf', SVC(C=1.0, cache_size=200, class_weight=None, coef0=0.0,\n",
       "  decision_function_shape='ovr', degree=3, gamma='auto', kernel='linear',\n",
       "  max_iter=-1, probability=False, random_state=None, shrinking=True,\n",
       "  tol=0.001, verbose=False))]),\n",
       "       fit_params=None, iid=True, n_jobs=-1,\n",
       "       param_grid={'clf__C': array([  1.00000e-15,   1.00000e-14,   1.00000e-13,   1.00000e-12,\n",
       "         1.00000e-11,   1.00000e-10,   1.00000e-09,   1.00000e-08,\n",
       "         1.00000e-07,   1.00000e-06,   1.00000e-05,   1.00000e-04,\n",
       "         1.00000e-03,   1.00000e-02,   1.00000e-01,   1.00000e+00,\n",
       "         1...,   1.00000e+15,   1.00000e+16,\n",
       "         1.00000e+17,   1.00000e+18,   1.00000e+19,   1.00000e+20])},\n",
       "       pre_dispatch='2*n_jobs', refit=True, return_train_score=True,\n",
       "       scoring=None, verbose=1)"
      ]
     },
     "execution_count": 36,
     "metadata": {},
     "output_type": "execute_result"
    }
   ],
   "source": [
    "from sklearn.model_selection import GridSearchCV\n",
    "\n",
    "param = {'clf__C': 10**np.arange(-15.0,21.0)}\n",
    "\n",
    "gs = GridSearchCV(estimator=pipe, param_grid=param, verbose=1, n_jobs=-1)\n",
    "gs.fit(X_train, y_train)"
   ]
  },
  {
   "cell_type": "code",
   "execution_count": 37,
   "metadata": {
    "ExecuteTime": {
     "end_time": "2017-06-22T08:35:08.591170Z",
     "start_time": "2017-06-22T08:35:08.178354Z"
    }
   },
   "outputs": [
    {
     "data": {
      "image/png": "[encoded data removed]",
      "text/plain": [
       "<matplotlib.figure.Figure at 0x118cda9b0>"
      ]
     },
     "metadata": {},
     "output_type": "display_data"
    }
   ],
   "source": [
    "plt.plot(gs.cv_results_['param_clf__C'].data, \n",
    "         gs.cv_results_['mean_fit_time'], \n",
    "         label=\"training\")\n",
    "\n",
    "plt.plot(gs.cv_results_['param_clf__C'].data,\n",
    "         gs.cv_results_['mean_score_time'], \n",
    "         label=\"test(val)\")\n",
    "plt.ylabel(\"computation time [sec]\")\n",
    "plt.ylim(0,)\n",
    "plt.xscale(\"log\")\n",
    "plt.xlabel(\"C\")\n",
    "plt.legend(loc=\"upper left\");\n",
    "\n",
    "plt.twinx() # x軸を共有．\n",
    "\n",
    "plt.plot(gs.cv_results_['param_clf__C'].data, \n",
    "         gs.cv_results_['mean_train_score'], \n",
    "         linestyle=\"--\",\n",
    "         label=\"training\")\n",
    "\n",
    "plt.plot(gs.cv_results_['param_clf__C'].data,\n",
    "         gs.cv_results_['mean_test_score'], \n",
    "         linestyle=\"--\",\n",
    "         label=\"test(val)\")\n",
    "plt.ylabel(\"accuracy\")\n",
    "plt.legend(loc=\"lower right\");\n",
    "\n",
    "plt.title(\"SVM with linear kernel\");"
   ]
  },
  {
   "cell_type": "code",
   "execution_count": null,
   "metadata": {
    "collapsed": true
   },
   "outputs": [],
   "source": []
  },
  {
   "cell_type": "code",
   "execution_count": null,
   "metadata": {
    "collapsed": true
   },
   "outputs": [],
   "source": []
  },
  {
   "cell_type": "code",
   "execution_count": null,
   "metadata": {
    "collapsed": true
   },
   "outputs": [],
   "source": []
  },
  {
   "cell_type": "code",
   "execution_count": null,
   "metadata": {
    "collapsed": true
   },
   "outputs": [],
   "source": []
  },
  {
   "cell_type": "code",
   "execution_count": 38,
   "metadata": {
    "ExecuteTime": {
     "end_time": "2017-06-22T08:35:08.953576Z",
     "start_time": "2017-06-22T08:35:08.592262Z"
    },
    "collapsed": true
   },
   "outputs": [],
   "source": [
    "from sklearn.datasets import fetch_mldata\n",
    "mnist = fetch_mldata('MNIST original')\n",
    "\n",
    "# MNISTの場合，60000が学習，10000がテスト，と決まっている\n",
    "# http://yann.lecun.com/exdb/mnist/\n",
    "\n",
    "X_train, X_test = mnist.data[:60000]/255., mnist.data[60000:]/255.\n",
    "y_train, y_test = mnist.target[:60000], mnist.target[60000:]"
   ]
  },
  {
   "cell_type": "code",
   "execution_count": 39,
   "metadata": {
    "ExecuteTime": {
     "end_time": "2017-06-22T08:35:08.958086Z",
     "start_time": "2017-06-22T08:35:08.954634Z"
    }
   },
   "outputs": [
    {
     "data": {
      "text/plain": [
       "((60000, 784), (10000, 784))"
      ]
     },
     "execution_count": 39,
     "metadata": {},
     "output_type": "execute_result"
    }
   ],
   "source": [
    "X_train.shape, X_test.shape"
   ]
  },
  {
   "cell_type": "code",
   "execution_count": 40,
   "metadata": {
    "ExecuteTime": {
     "end_time": "2017-06-22T08:35:08.961820Z",
     "start_time": "2017-06-22T08:35:08.959451Z"
    },
    "collapsed": true
   },
   "outputs": [],
   "source": [
    "clf = SVC(kernel='linear')"
   ]
  },
  {
   "cell_type": "code",
   "execution_count": 41,
   "metadata": {
    "ExecuteTime": {
     "end_time": "2017-06-22T08:35:09.142663Z",
     "start_time": "2017-06-22T08:35:08.963253Z"
    }
   },
   "outputs": [
    {
     "name": "stdout",
     "output_type": "stream",
     "text": [
      "243.88885498046875 [ms]\n"
     ]
    }
   ],
   "source": [
    "st = time.time()\n",
    "clf.fit(X_train[::100], y_train[::100])\n",
    "print(1000 * (time.time() - st), \"[ms]\")"
   ]
  },
  {
   "cell_type": "code",
   "execution_count": 42,
   "metadata": {
    "ExecuteTime": {
     "end_time": "2017-06-22T08:36:12.584523Z",
     "start_time": "2017-06-22T08:35:09.143738Z"
    }
   },
   "outputs": [
    {
     "name": "stdout",
     "output_type": "stream",
     "text": [
      "0.24 sec, size 600, accuracy 0.89\n",
      "0.65 sec, size 1200, accuracy 0.9\n",
      "7.17 sec, size 6000, accuracy 0.905\n",
      "21.68 sec, size 12000, accuracy 0.917\n",
      "31.45 sec, size 15000, accuracy 0.9164\n"
     ]
    }
   ],
   "source": [
    "for thin in [100, 50, 10, 5, 4]: # > 1 min...\n",
    "    st = time.time()\n",
    "    clf.fit(X_train[::thin], y_train[::thin])\n",
    "    et = time.time() - st\n",
    "    score = clf.score(X_test[::thin], y_test[::thin])\n",
    "    print(\"{0:.2f} sec, size {1}, accuracy {2}\".format(et, \n",
    "                                                       y_train[::thin].size,\n",
    "                                                       score))"
   ]
  },
  {
   "cell_type": "code",
   "execution_count": 43,
   "metadata": {
    "ExecuteTime": {
     "end_time": "2017-06-22T08:36:12.592541Z",
     "start_time": "2017-06-22T08:36:12.586128Z"
    },
    "collapsed": true
   },
   "outputs": [],
   "source": [
    "clf = LinearSVC() # dual"
   ]
  },
  {
   "cell_type": "markdown",
   "metadata": {},
   "source": [
    "defaultで\n",
    "```python\n",
    "LinearSVC(dual=True)\n",
    "```\n",
    "となっている．\n",
    "\n",
    "これは，solverがdualということを意味しており, dual は特徴数がとても多い時に早くなる．"
   ]
  },
  {
   "cell_type": "code",
   "execution_count": 44,
   "metadata": {
    "ExecuteTime": {
     "end_time": "2017-06-22T08:36:35.684962Z",
     "start_time": "2017-06-22T08:36:12.593985Z"
    }
   },
   "outputs": [
    {
     "name": "stdout",
     "output_type": "stream",
     "text": [
      "0.14 sec, size 600, accuracy 0.91\n",
      "0.45 sec, size 1200, accuracy 0.865\n",
      "2.80 sec, size 6000, accuracy 0.866\n",
      "8.15 sec, size 12000, accuracy 0.894\n",
      "11.40 sec, size 15000, accuracy 0.8952\n"
     ]
    }
   ],
   "source": [
    "for thin in [100, 50, 10, 5, 4]:\n",
    "    st = time.time()\n",
    "    clf.fit(X_train[::thin], y_train[::thin])\n",
    "    et = time.time() - st\n",
    "    score = clf.score(X_test[::thin], y_test[::thin])\n",
    "    print(\"{0:.2f} sec, size {1}, accuracy {2}\".format(et, \n",
    "                                                       y_train[::thin].size,\n",
    "                                                       score))"
   ]
  },
  {
   "cell_type": "code",
   "execution_count": 45,
   "metadata": {
    "ExecuteTime": {
     "end_time": "2017-06-22T08:36:35.689233Z",
     "start_time": "2017-06-22T08:36:35.686506Z"
    },
    "collapsed": true
   },
   "outputs": [],
   "source": [
    "clf = LinearSVC(dual=False) # primal"
   ]
  },
  {
   "cell_type": "markdown",
   "metadata": {},
   "source": [
    "```python\n",
    "LinearSVC(dual=False)\n",
    "```\n",
    "だとsolverはdualではなくprimalを使用する．\n",
    "\n",
    "primal は特徴数よりもデータ数がとても多い時に早くなる．"
   ]
  },
  {
   "cell_type": "code",
   "execution_count": 46,
   "metadata": {
    "ExecuteTime": {
     "end_time": "2017-06-22T08:36:45.802903Z",
     "start_time": "2017-06-22T08:36:35.691074Z"
    }
   },
   "outputs": [
    {
     "name": "stdout",
     "output_type": "stream",
     "text": [
      "0.17 sec, size 600, accuracy 0.91\n",
      "0.26 sec, size 1200, accuracy 0.87\n",
      "1.28 sec, size 6000, accuracy 0.865\n",
      "3.52 sec, size 12000, accuracy 0.894\n",
      "5.01 sec, size 15000, accuracy 0.8956\n"
     ]
    }
   ],
   "source": [
    "for thin in [100, 50, 10, 5, 4]:\n",
    "    st = time.time()\n",
    "    clf.fit(X_train[::thin], y_train[::thin])\n",
    "    et = time.time() - st\n",
    "    score = clf.score(X_test[::thin], y_test[::thin])\n",
    "    print(\"{0:.2f} sec, size {1}, accuracy {2}\".format(et, \n",
    "                                                       y_train[::thin].size,\n",
    "                                                       score))"
   ]
  },
  {
   "cell_type": "markdown",
   "metadata": {},
   "source": [
    "np.array[::数字]　はその配列を数字ぶんだけ飛ばす．\n",
    "\n",
    "[NumPy配列のスライシング機能の使い方](https://deepage.net/features/numpy-slicing.html)"
   ]
  },
  {
   "cell_type": "code",
   "execution_count": 55,
   "metadata": {},
   "outputs": [
    {
     "data": {
      "text/plain": [
       "array([0, 1, 2, 3, 4, 5, 6, 7, 8, 9])"
      ]
     },
     "execution_count": 55,
     "metadata": {},
     "output_type": "execute_result"
    }
   ],
   "source": [
    "a = np.arange(10)\n",
    "a[::1]"
   ]
  },
  {
   "cell_type": "code",
   "execution_count": 57,
   "metadata": {},
   "outputs": [
    {
     "data": {
      "text/plain": [
       "(array([0, 2, 4, 6, 8]), array([0, 3, 6, 9]))"
      ]
     },
     "execution_count": 57,
     "metadata": {},
     "output_type": "execute_result"
    }
   ],
   "source": [
    "a[::2], a[::3]"
   ]
  },
  {
   "cell_type": "code",
   "execution_count": 58,
   "metadata": {},
   "outputs": [
    {
     "data": {
      "text/plain": [
       "array([9, 8, 7, 6, 5, 4, 3, 2, 1, 0])"
      ]
     },
     "execution_count": 58,
     "metadata": {},
     "output_type": "execute_result"
    }
   ],
   "source": [
    "a[::-1]"
   ]
  },
  {
   "cell_type": "code",
   "execution_count": null,
   "metadata": {
    "collapsed": true
   },
   "outputs": [],
   "source": []
  },
  {
   "cell_type": "code",
   "execution_count": 47,
   "metadata": {
    "ExecuteTime": {
     "end_time": "2017-06-22T08:38:04.803113Z",
     "start_time": "2017-06-22T08:36:45.804653Z"
    }
   },
   "outputs": [
    {
     "data": {
      "image/png": "[encoded data removed]",
      "text/plain": [
       "<matplotlib.figure.Figure at 0x118e15c18>"
      ]
     },
     "metadata": {},
     "output_type": "display_data"
    }
   ],
   "source": [
    "for clf in [SVC(kernel='linear'), \n",
    "            LinearSVC(), \n",
    "            LinearSVC(dual=False)]:\n",
    "    times = []\n",
    "    sizes = []\n",
    "    for thin in [100, 50, 10, 5, 4]:\n",
    "        st = time.time()\n",
    "        clf.fit(X_train[::thin], y_train[::thin])\n",
    "        times.append(time.time() - st)\n",
    "        sizes.append(y_train[::thin].size)\n",
    "    plt.plot(sizes, times, label=clf.__class__.__name__)\n",
    "\n",
    "plt.legend(loc=\"best\")\n",
    "plt.show()"
   ]
  },
  {
   "cell_type": "markdown",
   "metadata": {
    "collapsed": true
   },
   "source": [
    "どのくらい時間がかかるのか，あたりをつけてから全てのデータで学習するべきである．"
   ]
  },
  {
   "cell_type": "code",
   "execution_count": null,
   "metadata": {
    "collapsed": true
   },
   "outputs": [],
   "source": []
  },
  {
   "cell_type": "code",
   "execution_count": 59,
   "metadata": {
    "ExecuteTime": {
     "end_time": "2017-06-22T09:00:37.978808Z",
     "start_time": "2017-06-22T08:38:04.804494Z"
    },
    "scrolled": false
   },
   "outputs": [
    {
     "name": "stdout",
     "output_type": "stream",
     "text": [
      "Fitting 3 folds for each of 15 candidates, totalling 45 fits\n",
      "[CV] clf__C=1e-05 ....................................................\n",
      "[CV] clf__C=1e-05 ....................................................\n",
      "[CV] clf__C=1e-05 ....................................................\n",
      "[CV] clf__C=0.0001 ...................................................\n"
     ]
    },
    {
     "ename": "KeyboardInterrupt",
     "evalue": "",
     "output_type": "error",
     "traceback": [
      "\u001b[0;31m---------------------------------------------------------------------------\u001b[0m",
      "\u001b[0;31mKeyboardInterrupt\u001b[0m                         Traceback (most recent call last)",
      "\u001b[0;32m<ipython-input-59-024ba21d65e2>\u001b[0m in \u001b[0;36m<module>\u001b[0;34m()\u001b[0m\n\u001b[1;32m      7\u001b[0m \u001b[0;34m\u001b[0m\u001b[0m\n\u001b[1;32m      8\u001b[0m \u001b[0mgs\u001b[0m \u001b[0;34m=\u001b[0m \u001b[0mGridSearchCV\u001b[0m\u001b[0;34m(\u001b[0m\u001b[0mpipe\u001b[0m\u001b[0;34m,\u001b[0m \u001b[0mparam\u001b[0m\u001b[0;34m,\u001b[0m \u001b[0mn_jobs\u001b[0m\u001b[0;34m=\u001b[0m\u001b[0;34m-\u001b[0m\u001b[0;36m1\u001b[0m\u001b[0;34m,\u001b[0m \u001b[0mverbose\u001b[0m\u001b[0;34m=\u001b[0m\u001b[0;36m2\u001b[0m\u001b[0;34m)\u001b[0m\u001b[0;34m\u001b[0m\u001b[0m\n\u001b[0;32m----> 9\u001b[0;31m \u001b[0mgs\u001b[0m\u001b[0;34m.\u001b[0m\u001b[0mfit\u001b[0m\u001b[0;34m(\u001b[0m\u001b[0mX_train\u001b[0m\u001b[0;34m,\u001b[0m \u001b[0my_train\u001b[0m\u001b[0;34m)\u001b[0m \u001b[0;31m# about 30min...\u001b[0m\u001b[0;34m\u001b[0m\u001b[0m\n\u001b[0m",
      "\u001b[0;32m~/anaconda/lib/python3.5/site-packages/sklearn/model_selection/_search.py\u001b[0m in \u001b[0;36mfit\u001b[0;34m(self, X, y, groups, **fit_params)\u001b[0m\n\u001b[1;32m    636\u001b[0m                                   error_score=self.error_score)\n\u001b[1;32m    637\u001b[0m           for parameters, (train, test) in product(candidate_params,\n\u001b[0;32m--> 638\u001b[0;31m                                                    cv.split(X, y, groups)))\n\u001b[0m\u001b[1;32m    639\u001b[0m \u001b[0;34m\u001b[0m\u001b[0m\n\u001b[1;32m    640\u001b[0m         \u001b[0;31m# if one choose to see train score, \"out\" will contain train score info\u001b[0m\u001b[0;34m\u001b[0m\u001b[0;34m\u001b[0m\u001b[0m\n",
      "\u001b[0;32m~/anaconda/lib/python3.5/site-packages/sklearn/externals/joblib/parallel.py\u001b[0m in \u001b[0;36m__call__\u001b[0;34m(self, iterable)\u001b[0m\n\u001b[1;32m    787\u001b[0m                 \u001b[0;31m# consumption.\u001b[0m\u001b[0;34m\u001b[0m\u001b[0;34m\u001b[0m\u001b[0m\n\u001b[1;32m    788\u001b[0m                 \u001b[0mself\u001b[0m\u001b[0;34m.\u001b[0m\u001b[0m_iterating\u001b[0m \u001b[0;34m=\u001b[0m \u001b[0;32mFalse\u001b[0m\u001b[0;34m\u001b[0m\u001b[0m\n\u001b[0;32m--> 789\u001b[0;31m             \u001b[0mself\u001b[0m\u001b[0;34m.\u001b[0m\u001b[0mretrieve\u001b[0m\u001b[0;34m(\u001b[0m\u001b[0;34m)\u001b[0m\u001b[0;34m\u001b[0m\u001b[0m\n\u001b[0m\u001b[1;32m    790\u001b[0m             \u001b[0;31m# Make sure that we get a last message telling us we are done\u001b[0m\u001b[0;34m\u001b[0m\u001b[0;34m\u001b[0m\u001b[0m\n\u001b[1;32m    791\u001b[0m             \u001b[0melapsed_time\u001b[0m \u001b[0;34m=\u001b[0m \u001b[0mtime\u001b[0m\u001b[0;34m.\u001b[0m\u001b[0mtime\u001b[0m\u001b[0;34m(\u001b[0m\u001b[0;34m)\u001b[0m \u001b[0;34m-\u001b[0m \u001b[0mself\u001b[0m\u001b[0;34m.\u001b[0m\u001b[0m_start_time\u001b[0m\u001b[0;34m\u001b[0m\u001b[0m\n",
      "\u001b[0;32m~/anaconda/lib/python3.5/site-packages/sklearn/externals/joblib/parallel.py\u001b[0m in \u001b[0;36mretrieve\u001b[0;34m(self)\u001b[0m\n\u001b[1;32m    697\u001b[0m             \u001b[0;32mtry\u001b[0m\u001b[0;34m:\u001b[0m\u001b[0;34m\u001b[0m\u001b[0m\n\u001b[1;32m    698\u001b[0m                 \u001b[0;32mif\u001b[0m \u001b[0mgetattr\u001b[0m\u001b[0;34m(\u001b[0m\u001b[0mself\u001b[0m\u001b[0;34m.\u001b[0m\u001b[0m_backend\u001b[0m\u001b[0;34m,\u001b[0m \u001b[0;34m'supports_timeout'\u001b[0m\u001b[0;34m,\u001b[0m \u001b[0;32mFalse\u001b[0m\u001b[0;34m)\u001b[0m\u001b[0;34m:\u001b[0m\u001b[0;34m\u001b[0m\u001b[0m\n\u001b[0;32m--> 699\u001b[0;31m                     \u001b[0mself\u001b[0m\u001b[0;34m.\u001b[0m\u001b[0m_output\u001b[0m\u001b[0;34m.\u001b[0m\u001b[0mextend\u001b[0m\u001b[0;34m(\u001b[0m\u001b[0mjob\u001b[0m\u001b[0;34m.\u001b[0m\u001b[0mget\u001b[0m\u001b[0;34m(\u001b[0m\u001b[0mtimeout\u001b[0m\u001b[0;34m=\u001b[0m\u001b[0mself\u001b[0m\u001b[0;34m.\u001b[0m\u001b[0mtimeout\u001b[0m\u001b[0;34m)\u001b[0m\u001b[0;34m)\u001b[0m\u001b[0;34m\u001b[0m\u001b[0m\n\u001b[0m\u001b[1;32m    700\u001b[0m                 \u001b[0;32melse\u001b[0m\u001b[0;34m:\u001b[0m\u001b[0;34m\u001b[0m\u001b[0m\n\u001b[1;32m    701\u001b[0m                     \u001b[0mself\u001b[0m\u001b[0;34m.\u001b[0m\u001b[0m_output\u001b[0m\u001b[0;34m.\u001b[0m\u001b[0mextend\u001b[0m\u001b[0;34m(\u001b[0m\u001b[0mjob\u001b[0m\u001b[0;34m.\u001b[0m\u001b[0mget\u001b[0m\u001b[0;34m(\u001b[0m\u001b[0;34m)\u001b[0m\u001b[0;34m)\u001b[0m\u001b[0;34m\u001b[0m\u001b[0m\n",
      "\u001b[0;32m~/anaconda/lib/python3.5/multiprocessing/pool.py\u001b[0m in \u001b[0;36mget\u001b[0;34m(self, timeout)\u001b[0m\n\u001b[1;32m    636\u001b[0m \u001b[0;34m\u001b[0m\u001b[0m\n\u001b[1;32m    637\u001b[0m     \u001b[0;32mdef\u001b[0m \u001b[0mget\u001b[0m\u001b[0;34m(\u001b[0m\u001b[0mself\u001b[0m\u001b[0;34m,\u001b[0m \u001b[0mtimeout\u001b[0m\u001b[0;34m=\u001b[0m\u001b[0;32mNone\u001b[0m\u001b[0;34m)\u001b[0m\u001b[0;34m:\u001b[0m\u001b[0;34m\u001b[0m\u001b[0m\n\u001b[0;32m--> 638\u001b[0;31m         \u001b[0mself\u001b[0m\u001b[0;34m.\u001b[0m\u001b[0mwait\u001b[0m\u001b[0;34m(\u001b[0m\u001b[0mtimeout\u001b[0m\u001b[0;34m)\u001b[0m\u001b[0;34m\u001b[0m\u001b[0m\n\u001b[0m\u001b[1;32m    639\u001b[0m         \u001b[0;32mif\u001b[0m \u001b[0;32mnot\u001b[0m \u001b[0mself\u001b[0m\u001b[0;34m.\u001b[0m\u001b[0mready\u001b[0m\u001b[0;34m(\u001b[0m\u001b[0;34m)\u001b[0m\u001b[0;34m:\u001b[0m\u001b[0;34m\u001b[0m\u001b[0m\n\u001b[1;32m    640\u001b[0m             \u001b[0;32mraise\u001b[0m \u001b[0mTimeoutError\u001b[0m\u001b[0;34m\u001b[0m\u001b[0m\n",
      "\u001b[0;32m~/anaconda/lib/python3.5/multiprocessing/pool.py\u001b[0m in \u001b[0;36mwait\u001b[0;34m(self, timeout)\u001b[0m\n\u001b[1;32m    633\u001b[0m \u001b[0;34m\u001b[0m\u001b[0m\n\u001b[1;32m    634\u001b[0m     \u001b[0;32mdef\u001b[0m \u001b[0mwait\u001b[0m\u001b[0;34m(\u001b[0m\u001b[0mself\u001b[0m\u001b[0;34m,\u001b[0m \u001b[0mtimeout\u001b[0m\u001b[0;34m=\u001b[0m\u001b[0;32mNone\u001b[0m\u001b[0;34m)\u001b[0m\u001b[0;34m:\u001b[0m\u001b[0;34m\u001b[0m\u001b[0m\n\u001b[0;32m--> 635\u001b[0;31m         \u001b[0mself\u001b[0m\u001b[0;34m.\u001b[0m\u001b[0m_event\u001b[0m\u001b[0;34m.\u001b[0m\u001b[0mwait\u001b[0m\u001b[0;34m(\u001b[0m\u001b[0mtimeout\u001b[0m\u001b[0;34m)\u001b[0m\u001b[0;34m\u001b[0m\u001b[0m\n\u001b[0m\u001b[1;32m    636\u001b[0m \u001b[0;34m\u001b[0m\u001b[0m\n\u001b[1;32m    637\u001b[0m     \u001b[0;32mdef\u001b[0m \u001b[0mget\u001b[0m\u001b[0;34m(\u001b[0m\u001b[0mself\u001b[0m\u001b[0;34m,\u001b[0m \u001b[0mtimeout\u001b[0m\u001b[0;34m=\u001b[0m\u001b[0;32mNone\u001b[0m\u001b[0;34m)\u001b[0m\u001b[0;34m:\u001b[0m\u001b[0;34m\u001b[0m\u001b[0m\n",
      "\u001b[0;32m~/anaconda/lib/python3.5/threading.py\u001b[0m in \u001b[0;36mwait\u001b[0;34m(self, timeout)\u001b[0m\n\u001b[1;32m    547\u001b[0m             \u001b[0msignaled\u001b[0m \u001b[0;34m=\u001b[0m \u001b[0mself\u001b[0m\u001b[0;34m.\u001b[0m\u001b[0m_flag\u001b[0m\u001b[0;34m\u001b[0m\u001b[0m\n\u001b[1;32m    548\u001b[0m             \u001b[0;32mif\u001b[0m \u001b[0;32mnot\u001b[0m \u001b[0msignaled\u001b[0m\u001b[0;34m:\u001b[0m\u001b[0;34m\u001b[0m\u001b[0m\n\u001b[0;32m--> 549\u001b[0;31m                 \u001b[0msignaled\u001b[0m \u001b[0;34m=\u001b[0m \u001b[0mself\u001b[0m\u001b[0;34m.\u001b[0m\u001b[0m_cond\u001b[0m\u001b[0;34m.\u001b[0m\u001b[0mwait\u001b[0m\u001b[0;34m(\u001b[0m\u001b[0mtimeout\u001b[0m\u001b[0;34m)\u001b[0m\u001b[0;34m\u001b[0m\u001b[0m\n\u001b[0m\u001b[1;32m    550\u001b[0m             \u001b[0;32mreturn\u001b[0m \u001b[0msignaled\u001b[0m\u001b[0;34m\u001b[0m\u001b[0m\n\u001b[1;32m    551\u001b[0m \u001b[0;34m\u001b[0m\u001b[0m\n",
      "\u001b[0;32m~/anaconda/lib/python3.5/threading.py\u001b[0m in \u001b[0;36mwait\u001b[0;34m(self, timeout)\u001b[0m\n\u001b[1;32m    291\u001b[0m         \u001b[0;32mtry\u001b[0m\u001b[0;34m:\u001b[0m    \u001b[0;31m# restore state no matter what (e.g., KeyboardInterrupt)\u001b[0m\u001b[0;34m\u001b[0m\u001b[0m\n\u001b[1;32m    292\u001b[0m             \u001b[0;32mif\u001b[0m \u001b[0mtimeout\u001b[0m \u001b[0;32mis\u001b[0m \u001b[0;32mNone\u001b[0m\u001b[0;34m:\u001b[0m\u001b[0;34m\u001b[0m\u001b[0m\n\u001b[0;32m--> 293\u001b[0;31m                 \u001b[0mwaiter\u001b[0m\u001b[0;34m.\u001b[0m\u001b[0macquire\u001b[0m\u001b[0;34m(\u001b[0m\u001b[0;34m)\u001b[0m\u001b[0;34m\u001b[0m\u001b[0m\n\u001b[0m\u001b[1;32m    294\u001b[0m                 \u001b[0mgotit\u001b[0m \u001b[0;34m=\u001b[0m \u001b[0;32mTrue\u001b[0m\u001b[0;34m\u001b[0m\u001b[0m\n\u001b[1;32m    295\u001b[0m             \u001b[0;32melse\u001b[0m\u001b[0;34m:\u001b[0m\u001b[0;34m\u001b[0m\u001b[0m\n",
      "\u001b[0;31mKeyboardInterrupt\u001b[0m: "
     ]
    }
   ],
   "source": [
    "estimators = [('scaler', MinMaxScaler()), \n",
    "              ('clf', LinearSVC(dual=False))]\n",
    "\n",
    "pipe = Pipeline(estimators)\n",
    "\n",
    "param = {'clf__C': 10**np.arange(-5.0,10.0)}\n",
    "\n",
    "gs = GridSearchCV(pipe, param, n_jobs=-1, verbose=2)\n",
    "gs.fit(X_train, y_train) # about 30min..."
   ]
  },
  {
   "cell_type": "code",
   "execution_count": null,
   "metadata": {
    "ExecuteTime": {
     "start_time": "2017-06-22T08:35:01.334Z"
    },
    "collapsed": true,
    "scrolled": false
   },
   "outputs": [],
   "source": [
    "estimators = [('scaler', MinMaxScaler()), \n",
    "              ('clf', LinearSVC(dual=True))]\n",
    "\n",
    "pipe = Pipeline(estimators)\n",
    "\n",
    "param = {'clf__C': 10**np.arange(-5.0,10.0)}\n",
    "\n",
    "gs = GridSearchCV(pipe, param, n_jobs=-1, verbose=2)\n",
    "gs.fit(X_train, y_train) # 1 hour ?"
   ]
  },
  {
   "cell_type": "code",
   "execution_count": null,
   "metadata": {
    "ExecuteTime": {
     "start_time": "2017-06-22T08:35:01.337Z"
    },
    "collapsed": true
   },
   "outputs": [],
   "source": [
    "estimators = [('scaler', MinMaxScaler()), \n",
    "              ('clf', SVC(kernel='linear'))]\n",
    "\n",
    "pipe = Pipeline(estimators)\n",
    "\n",
    "param = {'clf__C': 10**np.arange(-5.0,10.0)}\n",
    "\n",
    "gs = GridSearchCV(pipe, param, n_jobs=-1, verbose=2)\n",
    "gs.fit(X_train, y_train) # 2 hours ?"
   ]
  },
  {
   "cell_type": "code",
   "execution_count": null,
   "metadata": {
    "collapsed": true
   },
   "outputs": [],
   "source": []
  }
 ],
 "metadata": {
  "anaconda-cloud": {},
  "kernelspec": {
   "display_name": "Python 3",
   "language": "python",
   "name": "python3"
  },
  "language_info": {
   "codemirror_mode": {
    "name": "ipython",
    "version": 3
   },
   "file_extension": ".py",
   "mimetype": "text/x-python",
   "name": "python",
   "nbconvert_exporter": "python",
   "pygments_lexer": "ipython3",
   "version": "3.5.4"
  },
  "toc": {
   "colors": {
    "hover_highlight": "#DAA520",
    "running_highlight": "#FF0000",
    "selected_highlight": "#FFD700"
   },
   "moveMenuLeft": true,
   "nav_menu": {
    "height": "12px",
    "width": "252px"
   },
   "navigate_menu": true,
   "number_sections": true,
   "sideBar": true,
   "threshold": 4,
   "toc_cell": false,
   "toc_section_display": "block",
   "toc_window_display": false,
   "widenNotebook": false
  }
 },
 "nbformat": 4,
 "nbformat_minor": 1
}
