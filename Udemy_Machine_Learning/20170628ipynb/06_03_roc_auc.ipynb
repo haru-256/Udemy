{
 "cells": [
  {
   "cell_type": "code",
   "execution_count": 5,
   "metadata": {
    "ExecuteTime": {
     "end_time": "2017-06-22T08:27:08.806294Z",
     "start_time": "2017-06-22T08:27:08.253929Z"
    },
    "collapsed": true
   },
   "outputs": [],
   "source": [
    "import numpy as np\n",
    "\n",
    "from sklearn.datasets import load_breast_cancer\n",
    "\n",
    "data = load_breast_cancer()\n",
    "\n",
    "X = data.data\n",
    "y = data.target"
   ]
  },
  {
   "cell_type": "code",
   "execution_count": 6,
   "metadata": {},
   "outputs": [
    {
     "name": "stdout",
     "output_type": "stream",
     "text": [
      "Breast Cancer Wisconsin (Diagnostic) Database\n",
      "=============================================\n",
      "\n",
      "Notes\n",
      "-----\n",
      "Data Set Characteristics:\n",
      "    :Number of Instances: 569\n",
      "\n",
      "    :Number of Attributes: 30 numeric, predictive attributes and the class\n",
      "\n",
      "    :Attribute Information:\n",
      "        - radius (mean of distances from center to points on the perimeter)\n",
      "        - texture (standard deviation of gray-scale values)\n",
      "        - perimeter\n",
      "        - area\n",
      "        - smoothness (local variation in radius lengths)\n",
      "        - compactness (perimeter^2 / area - 1.0)\n",
      "        - concavity (severity of concave portions of the contour)\n",
      "        - concave points (number of concave portions of the contour)\n",
      "        - symmetry \n",
      "        - fractal dimension (\"coastline approximation\" - 1)\n",
      "\n",
      "        The mean, standard error, and \"worst\" or largest (mean of the three\n",
      "        largest values) of these features were computed for each image,\n",
      "        resulting in 30 features.  For instance, field 3 is Mean Radius, field\n",
      "        13 is Radius SE, field 23 is Worst Radius.\n",
      "\n",
      "        - class:\n",
      "                - WDBC-Malignant\n",
      "                - WDBC-Benign\n",
      "\n",
      "    :Summary Statistics:\n",
      "\n",
      "    ===================================== ====== ======\n",
      "                                           Min    Max\n",
      "    ===================================== ====== ======\n",
      "    radius (mean):                        6.981  28.11\n",
      "    texture (mean):                       9.71   39.28\n",
      "    perimeter (mean):                     43.79  188.5\n",
      "    area (mean):                          143.5  2501.0\n",
      "    smoothness (mean):                    0.053  0.163\n",
      "    compactness (mean):                   0.019  0.345\n",
      "    concavity (mean):                     0.0    0.427\n",
      "    concave points (mean):                0.0    0.201\n",
      "    symmetry (mean):                      0.106  0.304\n",
      "    fractal dimension (mean):             0.05   0.097\n",
      "    radius (standard error):              0.112  2.873\n",
      "    texture (standard error):             0.36   4.885\n",
      "    perimeter (standard error):           0.757  21.98\n",
      "    area (standard error):                6.802  542.2\n",
      "    smoothness (standard error):          0.002  0.031\n",
      "    compactness (standard error):         0.002  0.135\n",
      "    concavity (standard error):           0.0    0.396\n",
      "    concave points (standard error):      0.0    0.053\n",
      "    symmetry (standard error):            0.008  0.079\n",
      "    fractal dimension (standard error):   0.001  0.03\n",
      "    radius (worst):                       7.93   36.04\n",
      "    texture (worst):                      12.02  49.54\n",
      "    perimeter (worst):                    50.41  251.2\n",
      "    area (worst):                         185.2  4254.0\n",
      "    smoothness (worst):                   0.071  0.223\n",
      "    compactness (worst):                  0.027  1.058\n",
      "    concavity (worst):                    0.0    1.252\n",
      "    concave points (worst):               0.0    0.291\n",
      "    symmetry (worst):                     0.156  0.664\n",
      "    fractal dimension (worst):            0.055  0.208\n",
      "    ===================================== ====== ======\n",
      "\n",
      "    :Missing Attribute Values: None\n",
      "\n",
      "    :Class Distribution: 212 - Malignant, 357 - Benign\n",
      "\n",
      "    :Creator:  Dr. William H. Wolberg, W. Nick Street, Olvi L. Mangasarian\n",
      "\n",
      "    :Donor: Nick Street\n",
      "\n",
      "    :Date: November, 1995\n",
      "\n",
      "This is a copy of UCI ML Breast Cancer Wisconsin (Diagnostic) datasets.\n",
      "https://goo.gl/U2Uwz2\n",
      "\n",
      "Features are computed from a digitized image of a fine needle\n",
      "aspirate (FNA) of a breast mass.  They describe\n",
      "characteristics of the cell nuclei present in the image.\n",
      "\n",
      "Separating plane described above was obtained using\n",
      "Multisurface Method-Tree (MSM-T) [K. P. Bennett, \"Decision Tree\n",
      "Construction Via Linear Programming.\" Proceedings of the 4th\n",
      "Midwest Artificial Intelligence and Cognitive Science Society,\n",
      "pp. 97-101, 1992], a classification method which uses linear\n",
      "programming to construct a decision tree.  Relevant features\n",
      "were selected using an exhaustive search in the space of 1-4\n",
      "features and 1-3 separating planes.\n",
      "\n",
      "The actual linear program used to obtain the separating plane\n",
      "in the 3-dimensional space is that described in:\n",
      "[K. P. Bennett and O. L. Mangasarian: \"Robust Linear\n",
      "Programming Discrimination of Two Linearly Inseparable Sets\",\n",
      "Optimization Methods and Software 1, 1992, 23-34].\n",
      "\n",
      "This database is also available through the UW CS ftp server:\n",
      "\n",
      "ftp ftp.cs.wisc.edu\n",
      "cd math-prog/cpo-dataset/machine-learn/WDBC/\n",
      "\n",
      "References\n",
      "----------\n",
      "   - W.N. Street, W.H. Wolberg and O.L. Mangasarian. Nuclear feature extraction \n",
      "     for breast tumor diagnosis. IS&T/SPIE 1993 International Symposium on \n",
      "     Electronic Imaging: Science and Technology, volume 1905, pages 861-870,\n",
      "     San Jose, CA, 1993.\n",
      "   - O.L. Mangasarian, W.N. Street and W.H. Wolberg. Breast cancer diagnosis and \n",
      "     prognosis via linear programming. Operations Research, 43(4), pages 570-577, \n",
      "     July-August 1995.\n",
      "   - W.H. Wolberg, W.N. Street, and O.L. Mangasarian. Machine learning techniques\n",
      "     to diagnose breast cancer from fine-needle aspirates. Cancer Letters 77 (1994) \n",
      "     163-171.\n",
      "\n"
     ]
    }
   ],
   "source": [
    "print(data.DESCR)"
   ]
  },
  {
   "cell_type": "code",
   "execution_count": 7,
   "metadata": {
    "ExecuteTime": {
     "end_time": "2017-06-22T08:27:08.832281Z",
     "start_time": "2017-06-22T08:27:08.807269Z"
    },
    "collapsed": true
   },
   "outputs": [],
   "source": [
    "from sklearn.model_selection import ShuffleSplit\n",
    "ss = ShuffleSplit(n_splits=1, \n",
    "                  train_size=0.8,\n",
    "                  test_size=0.2, \n",
    "                  random_state=0)\n",
    "\n",
    "train_index, test_index = next(ss.split(X, y))\n",
    "\n",
    "X_train, X_test = X[train_index], X[test_index]\n",
    "y_train, y_test = y[train_index], y[test_index]"
   ]
  },
  {
   "cell_type": "code",
   "execution_count": 8,
   "metadata": {
    "ExecuteTime": {
     "end_time": "2017-06-22T08:27:08.874847Z",
     "start_time": "2017-06-22T08:27:08.833292Z"
    },
    "collapsed": true
   },
   "outputs": [],
   "source": [
    "from sklearn import linear_model\n",
    "clf = linear_model.LogisticRegression()"
   ]
  },
  {
   "cell_type": "code",
   "execution_count": 9,
   "metadata": {
    "ExecuteTime": {
     "end_time": "2017-06-22T08:27:08.910522Z",
     "start_time": "2017-06-22T08:27:08.876155Z"
    }
   },
   "outputs": [
    {
     "data": {
      "text/plain": [
       "LogisticRegression(C=1.0, class_weight=None, dual=False, fit_intercept=True,\n",
       "          intercept_scaling=1, max_iter=100, multi_class='ovr', n_jobs=1,\n",
       "          penalty='l2', random_state=None, solver='liblinear', tol=0.0001,\n",
       "          verbose=0, warm_start=False)"
      ]
     },
     "execution_count": 9,
     "metadata": {},
     "output_type": "execute_result"
    }
   ],
   "source": [
    "clf.fit(X_train, y_train)"
   ]
  },
  {
   "cell_type": "code",
   "execution_count": 10,
   "metadata": {
    "ExecuteTime": {
     "end_time": "2017-06-22T08:27:08.915860Z",
     "start_time": "2017-06-22T08:27:08.911666Z"
    },
    "scrolled": true
   },
   "outputs": [
    {
     "data": {
      "text/plain": [
       "0.95614035087719296"
      ]
     },
     "execution_count": 10,
     "metadata": {},
     "output_type": "execute_result"
    }
   ],
   "source": [
    "clf.score(X_test, y_test)"
   ]
  },
  {
   "cell_type": "code",
   "execution_count": 11,
   "metadata": {
    "ExecuteTime": {
     "end_time": "2017-06-22T08:27:08.919297Z",
     "start_time": "2017-06-22T08:27:08.916951Z"
    },
    "collapsed": true
   },
   "outputs": [],
   "source": [
    "y_pred = clf.predict(X_test)"
   ]
  },
  {
   "cell_type": "code",
   "execution_count": 12,
   "metadata": {
    "ExecuteTime": {
     "end_time": "2017-06-22T08:27:08.923047Z",
     "start_time": "2017-06-22T08:27:08.920650Z"
    },
    "collapsed": true
   },
   "outputs": [],
   "source": [
    "from sklearn.metrics import accuracy_score\n",
    "from sklearn.metrics import confusion_matrix"
   ]
  },
  {
   "cell_type": "code",
   "execution_count": 13,
   "metadata": {
    "ExecuteTime": {
     "end_time": "2017-06-22T08:27:08.928672Z",
     "start_time": "2017-06-22T08:27:08.924822Z"
    }
   },
   "outputs": [
    {
     "data": {
      "text/plain": [
       "0.95614035087719296"
      ]
     },
     "execution_count": 13,
     "metadata": {},
     "output_type": "execute_result"
    }
   ],
   "source": [
    "accuracy_score(y_test, y_pred)"
   ]
  },
  {
   "cell_type": "code",
   "execution_count": 14,
   "metadata": {
    "ExecuteTime": {
     "end_time": "2017-06-22T08:27:08.934602Z",
     "start_time": "2017-06-22T08:27:08.929949Z"
    }
   },
   "outputs": [
    {
     "data": {
      "text/plain": [
       "array([[46,  1],\n",
       "       [ 4, 63]])"
      ]
     },
     "execution_count": 14,
     "metadata": {},
     "output_type": "execute_result"
    }
   ],
   "source": [
    "cmat = confusion_matrix(y_test, y_pred)\n",
    "cmat"
   ]
  },
  {
   "cell_type": "code",
   "execution_count": 15,
   "metadata": {
    "ExecuteTime": {
     "end_time": "2017-06-22T08:27:08.939527Z",
     "start_time": "2017-06-22T08:27:08.935746Z"
    }
   },
   "outputs": [
    {
     "data": {
      "text/plain": [
       "array([ 5.5217715 , -1.16447765,  1.4061065 ])"
      ]
     },
     "execution_count": 15,
     "metadata": {},
     "output_type": "execute_result"
    }
   ],
   "source": [
    "clf.decision_function(X_test[12:15]) # 識別器にかけた時の生の値 正負でクラスを判定できる。\n",
    "#  識別境界(w.T * x + b = 0)との距離 w.T * x 　を表す?"
   ]
  },
  {
   "cell_type": "code",
   "execution_count": 16,
   "metadata": {},
   "outputs": [
    {
     "data": {
      "text/plain": [
       "array([[ 0.00398283,  0.99601717],\n",
       "       [ 0.76214537,  0.23785463],\n",
       "       [ 0.19684889,  0.80315111]])"
      ]
     },
     "execution_count": 16,
     "metadata": {},
     "output_type": "execute_result"
    }
   ],
   "source": [
    "clf.predict_proba(X_test[12:15])  # 識別器にかけた時,その値がどのクラスに属するかが確率的解釈でできる。shape=(n_sample , クラス数)\n",
    "# ロジスティック関数の出力 ? "
   ]
  },
  {
   "cell_type": "code",
   "execution_count": 17,
   "metadata": {
    "ExecuteTime": {
     "end_time": "2017-06-22T08:27:08.944770Z",
     "start_time": "2017-06-22T08:27:08.940724Z"
    }
   },
   "outputs": [
    {
     "data": {
      "text/plain": [
       "array([1, 0, 1])"
      ]
     },
     "execution_count": 17,
     "metadata": {},
     "output_type": "execute_result"
    }
   ],
   "source": [
    "clf.predict(X_test[12:15])"
   ]
  },
  {
   "cell_type": "code",
   "execution_count": 18,
   "metadata": {
    "ExecuteTime": {
     "end_time": "2017-06-22T08:27:08.950156Z",
     "start_time": "2017-06-22T08:27:08.945897Z"
    }
   },
   "outputs": [
    {
     "data": {
      "text/plain": [
       "array([1, 0, 1])"
      ]
     },
     "execution_count": 18,
     "metadata": {},
     "output_type": "execute_result"
    }
   ],
   "source": [
    "(clf.decision_function(X_test[12:15]) > 0).astype(int)"
   ]
  },
  {
   "cell_type": "code",
   "execution_count": 19,
   "metadata": {},
   "outputs": [
    {
     "data": {
      "text/plain": [
       "array([1, 0])"
      ]
     },
     "execution_count": 19,
     "metadata": {},
     "output_type": "execute_result"
    }
   ],
   "source": [
    "np.array([True, False]).astype(int)"
   ]
  },
  {
   "cell_type": "code",
   "execution_count": 20,
   "metadata": {
    "ExecuteTime": {
     "end_time": "2017-06-22T08:27:08.955488Z",
     "start_time": "2017-06-22T08:27:08.951447Z"
    }
   },
   "outputs": [
    {
     "data": {
      "text/plain": [
       "array([ 1, -1,  1])"
      ]
     },
     "execution_count": 20,
     "metadata": {},
     "output_type": "execute_result"
    }
   ],
   "source": [
    "(clf.decision_function(X_test[12:15]) > 0.5).astype(int) * 2 - 1  # threshold 閾値を色々と変化させることができる。"
   ]
  },
  {
   "cell_type": "code",
   "execution_count": 21,
   "metadata": {
    "ExecuteTime": {
     "end_time": "2017-06-22T08:27:08.960813Z",
     "start_time": "2017-06-22T08:27:08.956600Z"
    },
    "scrolled": true
   },
   "outputs": [
    {
     "data": {
      "text/plain": [
       "array([1, 1, 1])"
      ]
     },
     "execution_count": 21,
     "metadata": {},
     "output_type": "execute_result"
    }
   ],
   "source": [
    "y_test[12:15]"
   ]
  },
  {
   "cell_type": "code",
   "execution_count": 22,
   "metadata": {
    "ExecuteTime": {
     "end_time": "2017-06-22T08:27:08.965559Z",
     "start_time": "2017-06-22T08:27:08.961851Z"
    }
   },
   "outputs": [
    {
     "data": {
      "text/plain": [
       "array([1, 1, 1])"
      ]
     },
     "execution_count": 22,
     "metadata": {},
     "output_type": "execute_result"
    }
   ],
   "source": [
    "(clf.decision_function(X_test[12:15]) > -2).astype(int) # threshold=-2"
   ]
  },
  {
   "cell_type": "code",
   "execution_count": 23,
   "metadata": {
    "ExecuteTime": {
     "end_time": "2017-06-22T08:27:08.970529Z",
     "start_time": "2017-06-22T08:27:08.966500Z"
    }
   },
   "outputs": [
    {
     "data": {
      "text/plain": [
       "array([1, 0, 0])"
      ]
     },
     "execution_count": 23,
     "metadata": {},
     "output_type": "execute_result"
    }
   ],
   "source": [
    "(clf.decision_function(X_test[12:15]) > 2).astype(int) # threshold=2"
   ]
  },
  {
   "cell_type": "code",
   "execution_count": 24,
   "metadata": {
    "ExecuteTime": {
     "end_time": "2017-06-22T08:27:08.979182Z",
     "start_time": "2017-06-22T08:27:08.971902Z"
    }
   },
   "outputs": [
    {
     "name": "stdout",
     "output_type": "stream",
     "text": [
      "-3 [1 1 1]\n",
      "-2 [1 1 1]\n",
      "-1 [1 0 1]\n",
      "0 [1 0 1]\n",
      "1 [1 0 1]\n",
      "2 [1 0 0]\n",
      "3 [1 0 0]\n",
      "4 [1 0 0]\n",
      "5 [1 0 0]\n",
      "6 [0 0 0]\n"
     ]
    }
   ],
   "source": [
    "for th in range(-3,7): # thresholdを -3~7 まで変化させる\n",
    "    print(th, (clf.decision_function(X_test[12:15]) > th).astype(int))"
   ]
  },
  {
   "cell_type": "markdown",
   "metadata": {},
   "source": [
    "threshold を変化させても識別結果に変化のないのが良い識別器と言える"
   ]
  },
  {
   "cell_type": "code",
   "execution_count": 25,
   "metadata": {
    "ExecuteTime": {
     "end_time": "2017-06-22T08:27:09.157847Z",
     "start_time": "2017-06-22T08:27:08.980427Z"
    },
    "collapsed": true
   },
   "outputs": [],
   "source": [
    "from sklearn.metrics import roc_curve, auc, average_precision_score, precision_recall_curve, roc_auc_score\n",
    "\n",
    "import matplotlib.pyplot as plt\n",
    "%matplotlib inline"
   ]
  },
  {
   "cell_type": "code",
   "execution_count": 26,
   "metadata": {
    "ExecuteTime": {
     "end_time": "2017-06-22T08:27:09.279288Z",
     "start_time": "2017-06-22T08:27:09.159116Z"
    }
   },
   "outputs": [
    {
     "name": "stdout",
     "output_type": "stream",
     "text": [
      "AUC =  0.994283899651\n",
      "AUC =  0.994283899651\n"
     ]
    },
    {
     "data": {
      "image/png": "[encoded data removed]",
      "text/plain": [
       "<matplotlib.figure.Figure at 0x1a126de2b0>"
      ]
     },
     "metadata": {},
     "output_type": "display_data"
    }
   ],
   "source": [
    "test_score = clf.decision_function(X_test)\n",
    "\n",
    "fpr, tpr, thresholds = roc_curve(y_test, test_score) #  偽陽性率, 真陽性率, それらでのthreshold　が返される。\n",
    "\n",
    "plt.plot(fpr, tpr)\n",
    "print(\"AUC = \", auc(fpr, tpr)) # Area Under Curve : ROC曲線の下側の面積を計算する。\n",
    "print(\"AUC = \", roc_auc_score(y_test, test_score)) # 上の関数と同様　引数が異なる。 真のクラスラベルと予測ラベルを渡すことができる。\n",
    "plt.plot([0, 1], [0, 1], linestyle='--')\n",
    "plt.xlim([-0.01, 1.01])\n",
    "plt.ylim([0.0, 1.01])\n",
    "plt.ylabel('True Positive Rate (recall)')\n",
    "plt.xlabel('False Positive Rate (1-specificity)');"
   ]
  },
  {
   "cell_type": "code",
   "execution_count": 27,
   "metadata": {},
   "outputs": [
    {
     "data": {
      "text/plain": [
       "array([  9.46715683,   2.04035426,   1.78199897,  -0.54241801,\n",
       "        -0.70758966,  -1.16447765,  -2.33577584,  -2.64194225, -41.54830105])"
      ]
     },
     "execution_count": 27,
     "metadata": {},
     "output_type": "execute_result"
    }
   ],
   "source": [
    "thresholds # decision_functionのしきい値(threshold)を減少させていくリスト"
   ]
  },
  {
   "cell_type": "code",
   "execution_count": 28,
   "metadata": {
    "ExecuteTime": {
     "end_time": "2017-06-22T08:27:09.395965Z",
     "start_time": "2017-06-22T08:27:09.280558Z"
    }
   },
   "outputs": [
    {
     "data": {
      "text/plain": [
       "Text(0,0.5,'Precision')"
      ]
     },
     "execution_count": 28,
     "metadata": {},
     "output_type": "execute_result"
    },
    {
     "data": {
      "image/png": "[encoded data removed]",
      "text/plain": [
       "<matplotlib.figure.Figure at 0x1a12772d30>"
      ]
     },
     "metadata": {},
     "output_type": "display_data"
    }
   ],
   "source": [
    "test_score = clf.decision_function(X_test)\n",
    "\n",
    "precision, recall, thresholds = precision_recall_curve(y_test, test_score) # 適合率と再現率のトレードオフ関係をplotする。\n",
    "# 適合率, 再現率, それぞれでのthresholds　が返される。\n",
    "plt.plot(recall, precision)\n",
    "\n",
    "plt.xlim([-0.01, 1.01])\n",
    "plt.ylim([0.0, 1.01])\n",
    "plt.xlabel('Recall')\n",
    "plt.ylabel('Precision')"
   ]
  },
  {
   "cell_type": "code",
   "execution_count": 29,
   "metadata": {},
   "outputs": [
    {
     "data": {
      "text/plain": [
       "array([-2.64194225, -2.33577584, -1.56454756, -1.55685536, -1.39088753,\n",
       "       -1.21993165, -1.16447765, -0.70758966, -0.54241801, -0.3003642 ,\n",
       "        0.44554447,  0.5339188 ,  1.4061065 ,  1.45199757,  1.50021432,\n",
       "        1.66215989,  1.6644532 ,  1.78199897,  2.04035426,  2.08767243,\n",
       "        2.15729308,  2.50811154,  3.34665151,  3.47348456,  3.48775689,\n",
       "        3.54862805,  3.64378803,  3.76381495,  3.95479504,  4.08853736,\n",
       "        4.18941011,  4.19958431,  4.20162762,  4.42372201,  4.499354  ,\n",
       "        4.58426235,  4.60510863,  4.63652908,  4.76608898,  4.91800594,\n",
       "        4.94330155,  5.0158041 ,  5.04499103,  5.25274754,  5.27213389,\n",
       "        5.3688467 ,  5.45614481,  5.48161342,  5.48651178,  5.5217715 ,\n",
       "        5.74124607,  5.82906072,  5.85135324,  5.91674641,  5.95377087,\n",
       "        6.17257661,  6.18418221,  6.30547123,  6.34482014,  6.3840731 ,\n",
       "        6.40564902,  6.42941449,  6.52075113,  6.74217562,  6.98870391,\n",
       "        7.05356876,  7.2401315 ,  7.9644985 ,  8.021093  ,  8.11563386,\n",
       "        8.1214728 ,  8.49634635,  8.588156  ,  9.46715683])"
      ]
     },
     "execution_count": 29,
     "metadata": {},
     "output_type": "execute_result"
    }
   ],
   "source": [
    "thresholds # precisionとrecallを計算するために使用される決定関数のしきい値を上げるリスト"
   ]
  },
  {
   "cell_type": "code",
   "execution_count": 30,
   "metadata": {},
   "outputs": [
    {
     "data": {
      "text/plain": [
       "array([ 0.417022  ,  0.72032449])"
      ]
     },
     "execution_count": 30,
     "metadata": {},
     "output_type": "execute_result"
    }
   ],
   "source": [
    "seed = np.random.RandomState(1)\n",
    "seed.uniform(size=2)"
   ]
  },
  {
   "cell_type": "code",
   "execution_count": 31,
   "metadata": {
    "ExecuteTime": {
     "end_time": "2017-06-22T08:27:09.581120Z",
     "start_time": "2017-06-22T08:27:09.397336Z"
    }
   },
   "outputs": [
    {
     "name": "stdout",
     "output_type": "stream",
     "text": [
      "result AUC =  0.994283899651\n",
      "chance AUC =  0.52746903779\n",
      "perfect AUC =  1.0\n"
     ]
    },
    {
     "data": {
      "image/png": "[encoded data removed]",
      "text/plain": [
       "<matplotlib.figure.Figure at 0x1a15c26208>"
      ]
     },
     "metadata": {},
     "output_type": "display_data"
    }
   ],
   "source": [
    "test_score = clf.decision_function(X_test)\n",
    "# test_score = clf.predict_proba(X_test)[:,1] でもできる これは　第一列(class 1 )を陽性と考えているということ?\n",
    "fpr, tpr, thresholds1 = roc_curve(y_test, test_score)  \n",
    "# pos_label引数は  Label considered as positive and others are considered negative. ということ\n",
    "# つまり、pos_label引数でどれを陽性クラスとするのかが指定できる。 defalutは　1クラスを陽性と思う。\n",
    "\n",
    "plt.plot(fpr, tpr, label=\"result\")\n",
    "print(\"result AUC = \", auc(fpr, tpr))\n",
    "\n",
    "test_score = seed.uniform(size=y_test.size)# もしまったくランダムなら 常に正の値を出力する識別器\n",
    "fpr, tpr, thresholds2 = roc_curve(y_test, test_score)\n",
    "plt.plot(fpr, tpr, label=\"random / chance\")\n",
    "print(\"chance AUC = \", auc(fpr, tpr))\n",
    "\n",
    "fpr, tpr, thresholds3 = roc_curve(y_test, y_test) # 完璧なら\n",
    "plt.plot(fpr, tpr, label=\"perfect\")\n",
    "print(\"perfect AUC = \", auc(fpr, tpr))\n",
    "\n",
    "plt.plot([0, 1], [0, 1], linestyle='--')\n",
    "plt.legend(loc=\"best\")\n",
    "plt.xlim([-0.01, 1.01])\n",
    "plt.ylim([0.0, 1.01])\n",
    "plt.ylabel('True Positive Rate (recall)')\n",
    "plt.xlabel('False Positive Rate (1-specificity)');"
   ]
  },
  {
   "cell_type": "code",
   "execution_count": 32,
   "metadata": {},
   "outputs": [
    {
     "data": {
      "text/plain": [
       "array([ 0.75387619,  0.92302454,  0.71152476,  0.12427096,  0.01988013,\n",
       "        0.02621099,  0.02830649,  0.24621107,  0.86002795,  0.53883106,\n",
       "        0.55282198,  0.84203089,  0.12417332,  0.27918368,  0.58575927,\n",
       "        0.96959575,  0.56103022,  0.01864729,  0.80063267,  0.23297427,\n",
       "        0.8071052 ,  0.38786064,  0.86354185,  0.74712164,  0.55624023,\n",
       "        0.13645523,  0.05991769,  0.12134346,  0.04455188,  0.10749413,\n",
       "        0.22570934,  0.71298898,  0.55971698,  0.01255598,  0.07197428,\n",
       "        0.96727633,  0.56810046,  0.20329323,  0.25232574,  0.74382585,\n",
       "        0.19542948,  0.58135893,  0.97001999,  0.8468288 ,  0.23984776,\n",
       "        0.49376971,  0.61995572,  0.8289809 ,  0.15679139,  0.0185762 ,\n",
       "        0.07002214,  0.48634511,  0.60632946,  0.56885144,  0.31736241,\n",
       "        0.98861615,  0.57974522,  0.38014117,  0.55094822,  0.74533443,\n",
       "        0.66923289,  0.26491956,  0.06633483,  0.3700842 ,  0.62971751,\n",
       "        0.21017401,  0.75275555,  0.06653648,  0.2603151 ,  0.80475456,\n",
       "        0.19343428,  0.63946088,  0.52467031,  0.92480797,  0.26329677,\n",
       "        0.06596109,  0.73506596,  0.77217803,  0.90781585,  0.93197207,\n",
       "        0.01395157,  0.23436209,  0.61677836,  0.94901632,  0.95017612,\n",
       "        0.55665319,  0.91560635,  0.64156621,  0.39000771,  0.48599067,\n",
       "        0.60431048,  0.54954792,  0.92618143,  0.91873344,  0.39487561,\n",
       "        0.96326253,  0.17395567,  0.12632952,  0.13507916,  0.50566217,\n",
       "        0.02152481,  0.94797021,  0.82711547,  0.01501898,  0.17619626,\n",
       "        0.33206357,  0.13099684,  0.80949069,  0.34473665,  0.94010748,\n",
       "        0.58201418,  0.87883198,  0.84473445,  0.90539232])"
      ]
     },
     "execution_count": 32,
     "metadata": {},
     "output_type": "execute_result"
    }
   ],
   "source": [
    "seed.uniform(size=y_test.size)"
   ]
  },
  {
   "cell_type": "code",
   "execution_count": 33,
   "metadata": {},
   "outputs": [
    {
     "data": {
      "text/plain": [
       "(array([  9.46715683,   2.04035426,   1.78199897,  -0.54241801,\n",
       "         -0.70758966,  -1.16447765,  -2.33577584,  -2.64194225, -41.54830105]),\n",
       " array([  9.97322850e-01,   9.88861089e-01,   9.68261576e-01,\n",
       "          9.57889530e-01,   9.44594756e-01,   9.29437234e-01,\n",
       "          9.27508580e-01,   9.08535151e-01,   9.03401915e-01,\n",
       "          8.83306091e-01,   8.78142503e-01,   8.76389152e-01,\n",
       "          8.00744569e-01,   7.55463053e-01,   7.50942434e-01,\n",
       "          7.50812103e-01,   7.48165654e-01,   6.99758360e-01,\n",
       "          6.92322616e-01,   6.91877114e-01,   6.90896918e-01,\n",
       "          6.85219500e-01,   6.78835533e-01,   6.70467510e-01,\n",
       "          6.63794645e-01,   5.89305537e-01,   5.78389614e-01,\n",
       "          5.73679487e-01,   5.58689828e-01,   5.35896406e-01,\n",
       "          5.33165285e-01,   5.14889112e-01,   4.91573159e-01,\n",
       "          4.47893526e-01,   4.21107625e-01,   4.17304802e-01,\n",
       "          4.14055988e-01,   3.57269760e-01,   3.48898342e-01,\n",
       "          3.26644902e-01,   3.13424178e-01,   3.02332573e-01,\n",
       "          2.93614148e-01,   2.87775339e-01,   2.11628116e-01,\n",
       "          2.04452250e-01,   1.98101489e-01,   1.86260211e-01,\n",
       "          1.72340508e-01,   1.69830420e-01,   1.65354197e-01,\n",
       "          1.37474704e-01,   1.37135750e-01,   1.30028572e-01,\n",
       "          1.03226007e-01,   9.23385948e-02,   6.60001727e-02,\n",
       "          1.82882773e-02,   1.14374817e-04]),\n",
       " array([1, 0]))"
      ]
     },
     "execution_count": 33,
     "metadata": {},
     "output_type": "execute_result"
    }
   ],
   "source": [
    "thresholds1, thresholds2, thresholds3"
   ]
  },
  {
   "cell_type": "code",
   "execution_count": 34,
   "metadata": {
    "ExecuteTime": {
     "end_time": "2017-06-22T08:27:09.724367Z",
     "start_time": "2017-06-22T08:27:09.582184Z"
    }
   },
   "outputs": [
    {
     "data": {
      "text/plain": [
       "Text(0,0.5,'Precision')"
      ]
     },
     "execution_count": 34,
     "metadata": {},
     "output_type": "execute_result"
    },
    {
     "data": {
      "image/png": "[encoded data removed]",
      "text/plain": [
       "<matplotlib.figure.Figure at 0x1a12865630>"
      ]
     },
     "metadata": {},
     "output_type": "display_data"
    }
   ],
   "source": [
    "# 同じことをprecision_recall_curve についてもやってみる。　これは右上に行けば行くほど良い識別器ということ\n",
    "test_score = clf.decision_function(X_test)\n",
    "precision, recall, _ = precision_recall_curve(y_test, test_score)\n",
    "plt.plot(recall, precision, label=\"result\")\n",
    "\n",
    "test_score = seed.uniform(size=y_test.size) # もしまったくランダムなら\n",
    "precision, recall, _ = precision_recall_curve(y_test, test_score)\n",
    "plt.plot(recall, precision, label=\"random\")\n",
    "\n",
    "precision, recall, _ = precision_recall_curve(y_test, y_test) # 完璧なら\n",
    "plt.plot(recall, precision, label=\"perfect\")\n",
    "\n",
    "plt.legend(loc=\"best\")\n",
    "plt.xlim([-0.01, 1.01])\n",
    "plt.ylim([0.0, 1.01])\n",
    "plt.xlabel('Recall')\n",
    "plt.ylabel('Precision')"
   ]
  },
  {
   "cell_type": "markdown",
   "metadata": {},
   "source": [
    "http://homepages.inf.ed.ac.uk/ckiw/postscript/ijcv_voc09.pdf for average precision and interpolation"
   ]
  },
  {
   "cell_type": "markdown",
   "metadata": {},
   "source": [
    "上のprecision_recall_curveで、ランダムなものが右上に近づいているかどうかがわからない場合、\n",
    "少し補間してやるとみやすくなる。"
   ]
  },
  {
   "cell_type": "code",
   "execution_count": 35,
   "metadata": {
    "ExecuteTime": {
     "end_time": "2017-06-22T08:27:09.729089Z",
     "start_time": "2017-06-22T08:27:09.725427Z"
    },
    "collapsed": true
   },
   "outputs": [],
   "source": [
    "test_score = np.random.uniform(size=y_test.size) # もしまったくランダムなら\n",
    "precision, recall, _ = precision_recall_curve(y_test, test_score)\n",
    "\n",
    "precision_interp = np.maximum.accumulate(precision) # 補間してやる。"
   ]
  },
  {
   "cell_type": "code",
   "execution_count": 36,
   "metadata": {},
   "outputs": [
    {
     "data": {
      "text/plain": [
       "array([ 0.0987434 ,  0.65130433,  0.70351699,  0.61024081,  0.79961526])"
      ]
     },
     "execution_count": 36,
     "metadata": {},
     "output_type": "execute_result"
    }
   ],
   "source": [
    "a = seed.uniform(size=5)\n",
    "a"
   ]
  },
  {
   "cell_type": "code",
   "execution_count": 37,
   "metadata": {},
   "outputs": [
    {
     "data": {
      "text/plain": [
       "array([ 0.0987434 ,  0.65130433,  0.70351699,  0.70351699,  0.79961526])"
      ]
     },
     "execution_count": 37,
     "metadata": {},
     "output_type": "execute_result"
    }
   ],
   "source": [
    "np.maximum.accumulate(a) # インデックスに沿ってマックスを累積値で取って来る。"
   ]
  },
  {
   "cell_type": "code",
   "execution_count": 38,
   "metadata": {},
   "outputs": [
    {
     "data": {
      "text/plain": [
       "array([ 0.5877193 ,  0.5840708 ,  0.58928571,  0.58558559,  0.58181818,\n",
       "        0.58715596,  0.58333333,  0.57943925,  0.5754717 ,  0.58095238,\n",
       "        0.57692308,  0.58252427,  0.57843137,  0.58415842,  0.58      ,\n",
       "        0.58585859,  0.58163265,  0.57731959,  0.57291667,  0.57894737,\n",
       "        0.57446809,  0.58064516,  0.58695652,  0.58241758,  0.57777778,\n",
       "        0.57303371,  0.56818182,  0.56321839,  0.55813953,  0.56470588,\n",
       "        0.57142857,  0.56626506,  0.57317073,  0.58024691,  0.575     ,\n",
       "        0.56962025,  0.56410256,  0.55844156,  0.55263158,  0.56      ,\n",
       "        0.55405405,  0.54794521,  0.54166667,  0.54929577,  0.55714286,\n",
       "        0.55072464,  0.54411765,  0.53731343,  0.54545455,  0.53846154,\n",
       "        0.53125   ,  0.53968254,  0.5483871 ,  0.54098361,  0.53333333,\n",
       "        0.52542373,  0.51724138,  0.50877193,  0.5       ,  0.50909091,\n",
       "        0.5       ,  0.49056604,  0.5       ,  0.50980392,  0.52      ,\n",
       "        0.53061224,  0.54166667,  0.53191489,  0.52173913,  0.51111111,\n",
       "        0.5       ,  0.48837209,  0.47619048,  0.46341463,  0.475     ,\n",
       "        0.48717949,  0.47368421,  0.45945946,  0.47222222,  0.48571429,\n",
       "        0.47058824,  0.45454545,  0.4375    ,  0.41935484,  0.43333333,\n",
       "        0.44827586,  0.42857143,  0.44444444,  0.42307692,  0.44      ,\n",
       "        0.45833333,  0.43478261,  0.45454545,  0.42857143,  0.45      ,\n",
       "        0.47368421,  0.5       ,  0.47058824,  0.4375    ,  0.4       ,\n",
       "        0.42857143,  0.46153846,  0.5       ,  0.54545455,  0.5       ,\n",
       "        0.44444444,  0.5       ,  0.57142857,  0.5       ,  0.6       ,\n",
       "        0.5       ,  0.33333333,  0.        ,  0.        ,  1.        ])"
      ]
     },
     "execution_count": 38,
     "metadata": {},
     "output_type": "execute_result"
    }
   ],
   "source": [
    "precision"
   ]
  },
  {
   "cell_type": "code",
   "execution_count": 39,
   "metadata": {},
   "outputs": [
    {
     "data": {
      "text/plain": [
       "array([ 0.5877193 ,  0.5877193 ,  0.58928571,  0.58928571,  0.58928571,\n",
       "        0.58928571,  0.58928571,  0.58928571,  0.58928571,  0.58928571,\n",
       "        0.58928571,  0.58928571,  0.58928571,  0.58928571,  0.58928571,\n",
       "        0.58928571,  0.58928571,  0.58928571,  0.58928571,  0.58928571,\n",
       "        0.58928571,  0.58928571,  0.58928571,  0.58928571,  0.58928571,\n",
       "        0.58928571,  0.58928571,  0.58928571,  0.58928571,  0.58928571,\n",
       "        0.58928571,  0.58928571,  0.58928571,  0.58928571,  0.58928571,\n",
       "        0.58928571,  0.58928571,  0.58928571,  0.58928571,  0.58928571,\n",
       "        0.58928571,  0.58928571,  0.58928571,  0.58928571,  0.58928571,\n",
       "        0.58928571,  0.58928571,  0.58928571,  0.58928571,  0.58928571,\n",
       "        0.58928571,  0.58928571,  0.58928571,  0.58928571,  0.58928571,\n",
       "        0.58928571,  0.58928571,  0.58928571,  0.58928571,  0.58928571,\n",
       "        0.58928571,  0.58928571,  0.58928571,  0.58928571,  0.58928571,\n",
       "        0.58928571,  0.58928571,  0.58928571,  0.58928571,  0.58928571,\n",
       "        0.58928571,  0.58928571,  0.58928571,  0.58928571,  0.58928571,\n",
       "        0.58928571,  0.58928571,  0.58928571,  0.58928571,  0.58928571,\n",
       "        0.58928571,  0.58928571,  0.58928571,  0.58928571,  0.58928571,\n",
       "        0.58928571,  0.58928571,  0.58928571,  0.58928571,  0.58928571,\n",
       "        0.58928571,  0.58928571,  0.58928571,  0.58928571,  0.58928571,\n",
       "        0.58928571,  0.58928571,  0.58928571,  0.58928571,  0.58928571,\n",
       "        0.58928571,  0.58928571,  0.58928571,  0.58928571,  0.58928571,\n",
       "        0.58928571,  0.58928571,  0.58928571,  0.58928571,  0.6       ,\n",
       "        0.6       ,  0.6       ,  0.6       ,  0.6       ,  1.        ])"
      ]
     },
     "execution_count": 39,
     "metadata": {},
     "output_type": "execute_result"
    }
   ],
   "source": [
    "precision_interp"
   ]
  },
  {
   "cell_type": "code",
   "execution_count": 40,
   "metadata": {},
   "outputs": [
    {
     "data": {
      "text/plain": [
       "array([ 1.        ,  0.98507463,  0.98507463,  0.97014925,  0.95522388,\n",
       "        0.95522388,  0.94029851,  0.92537313,  0.91044776,  0.91044776,\n",
       "        0.89552239,  0.89552239,  0.88059701,  0.88059701,  0.86567164,\n",
       "        0.86567164,  0.85074627,  0.8358209 ,  0.82089552,  0.82089552,\n",
       "        0.80597015,  0.80597015,  0.80597015,  0.79104478,  0.7761194 ,\n",
       "        0.76119403,  0.74626866,  0.73134328,  0.71641791,  0.71641791,\n",
       "        0.71641791,  0.70149254,  0.70149254,  0.70149254,  0.68656716,\n",
       "        0.67164179,  0.65671642,  0.64179104,  0.62686567,  0.62686567,\n",
       "        0.6119403 ,  0.59701493,  0.58208955,  0.58208955,  0.58208955,\n",
       "        0.56716418,  0.55223881,  0.53731343,  0.53731343,  0.52238806,\n",
       "        0.50746269,  0.50746269,  0.50746269,  0.49253731,  0.47761194,\n",
       "        0.46268657,  0.44776119,  0.43283582,  0.41791045,  0.41791045,\n",
       "        0.40298507,  0.3880597 ,  0.3880597 ,  0.3880597 ,  0.3880597 ,\n",
       "        0.3880597 ,  0.3880597 ,  0.37313433,  0.35820896,  0.34328358,\n",
       "        0.32835821,  0.31343284,  0.29850746,  0.28358209,  0.28358209,\n",
       "        0.28358209,  0.26865672,  0.25373134,  0.25373134,  0.25373134,\n",
       "        0.23880597,  0.2238806 ,  0.20895522,  0.19402985,  0.19402985,\n",
       "        0.19402985,  0.17910448,  0.17910448,  0.1641791 ,  0.1641791 ,\n",
       "        0.1641791 ,  0.14925373,  0.14925373,  0.13432836,  0.13432836,\n",
       "        0.13432836,  0.13432836,  0.11940299,  0.10447761,  0.08955224,\n",
       "        0.08955224,  0.08955224,  0.08955224,  0.08955224,  0.07462687,\n",
       "        0.05970149,  0.05970149,  0.05970149,  0.04477612,  0.04477612,\n",
       "        0.02985075,  0.01492537,  0.        ,  0.        ,  0.        ])"
      ]
     },
     "execution_count": 40,
     "metadata": {},
     "output_type": "execute_result"
    }
   ],
   "source": [
    "recall"
   ]
  },
  {
   "cell_type": "code",
   "execution_count": 41,
   "metadata": {
    "ExecuteTime": {
     "end_time": "2017-06-22T08:27:09.862346Z",
     "start_time": "2017-06-22T08:27:09.730369Z"
    }
   },
   "outputs": [
    {
     "data": {
      "text/plain": [
       "Text(0,0.5,'Precision')"
      ]
     },
     "execution_count": 41,
     "metadata": {},
     "output_type": "execute_result"
    },
    {
     "data": {
      "image/png": "[encoded data removed]",
      "text/plain": [
       "<matplotlib.figure.Figure at 0x1a12865828>"
      ]
     },
     "metadata": {},
     "output_type": "display_data"
    }
   ],
   "source": [
    "# plotしてやる\n",
    "plt.plot(recall, precision, marker=\".\", label=\"precision\")\n",
    "plt.plot(recall, precision_interp, marker=\".\", label=\"interpolated precision\") # 右からみていき、maxをとるようになっている。\n",
    "\n",
    "plt.legend(loc=\"best\")\n",
    "plt.xlim([-0.01, 1.01])\n",
    "plt.ylim([0.0, 1.01])\n",
    "plt.xlabel('Recall')\n",
    "plt.ylabel('Precision')"
   ]
  },
  {
   "cell_type": "code",
   "execution_count": 42,
   "metadata": {
    "ExecuteTime": {
     "end_time": "2017-06-22T08:27:09.868377Z",
     "start_time": "2017-06-22T08:27:09.863853Z"
    },
    "collapsed": true
   },
   "outputs": [],
   "source": [
    "# さらに線形補間したものの平均を取る。\n",
    "all_precision = np.interp(np.arange(0, 1.1, 0.1),\n",
    "                          recall[::-1],  # [::-1] は逆順をだす操作 , np.interp　ではx は０から始まっていないとだめ\n",
    "                          precision_interp[::-1]) # 0, 0.1, 0.2, 0.3, ..., 0.9 での線形補間をする\n",
    "AP = all_precision.mean() # 線形補間で得られた値の平均をとる。"
   ]
  },
  {
   "cell_type": "markdown",
   "metadata": {},
   "source": [
    "線形補間については以下参照\n",
    "\n",
    "https://ja.wikipedia.org/wiki/%E7%B7%9A%E5%BD%A2%E8%A3%9C%E9%96%93"
   ]
  },
  {
   "cell_type": "code",
   "execution_count": 43,
   "metadata": {
    "ExecuteTime": {
     "end_time": "2017-06-22T08:27:09.873998Z",
     "start_time": "2017-06-22T08:27:09.869817Z"
    },
    "scrolled": true
   },
   "outputs": [
    {
     "name": "stdout",
     "output_type": "stream",
     "text": [
      "[ 0.6         0.58928571  0.58928571  0.58928571  0.58928571  0.58928571\n",
      "  0.58928571  0.58928571  0.58928571  0.58928571  0.5877193 ]\n",
      "0.590117338802\n"
     ]
    }
   ],
   "source": [
    "print(all_precision)\n",
    "print(AP)"
   ]
  },
  {
   "cell_type": "code",
   "execution_count": 44,
   "metadata": {},
   "outputs": [
    {
     "data": {
      "text/plain": [
       "<matplotlib.legend.Legend at 0x1a15ec96d8>"
      ]
     },
     "execution_count": 44,
     "metadata": {},
     "output_type": "execute_result"
    },
    {
     "data": {
      "image/png": "[encoded data removed]",
      "text/plain": [
       "<matplotlib.figure.Figure at 0x1a15d9fba8>"
      ]
     },
     "metadata": {},
     "output_type": "display_data"
    }
   ],
   "source": [
    "plt.plot(recall, precision_interp, marker=\".\", label=\"interpolated precision\", alpha=0.2)\n",
    "plt.plot(np.arange(0, 1.1, 0.1), all_precision, label='線形補間後')\n",
    "\n",
    "plt.legend(loc=\"best\")\n",
    "plt.xlim([-0.01, 1.01])\n",
    "plt.ylim([0.0, 1.01])\n",
    "plt.xlabel('Recall')\n",
    "plt.ylabel('Precision')\n",
    "plt.legend()"
   ]
  },
  {
   "cell_type": "code",
   "execution_count": null,
   "metadata": {
    "collapsed": true
   },
   "outputs": [],
   "source": []
  },
  {
   "cell_type": "code",
   "execution_count": 45,
   "metadata": {
    "ExecuteTime": {
     "end_time": "2017-06-22T08:27:09.880371Z",
     "start_time": "2017-06-22T08:27:09.875431Z"
    },
    "collapsed": true
   },
   "outputs": [],
   "source": [
    "# average_precisionを計算する　（上でやったことを関数でやってみる。）\n",
    "def calc_AP(precision, recall):\n",
    "    precision_interp = np.maximum.accumulate(precision)\n",
    "    all_precision = np.interp(np.arange(0, 1.1, 0.1), recall[::-1], precision_interp[::-1])\n",
    "    AP = all_precision.mean()\n",
    "    return AP"
   ]
  },
  {
   "cell_type": "code",
   "execution_count": 46,
   "metadata": {
    "ExecuteTime": {
     "end_time": "2017-06-22T08:27:09.888144Z",
     "start_time": "2017-06-22T08:27:09.882406Z"
    }
   },
   "outputs": [
    {
     "data": {
      "text/plain": [
       "0.99002308093217184"
      ]
     },
     "execution_count": 46,
     "metadata": {},
     "output_type": "execute_result"
    }
   ],
   "source": [
    "test_score = clf.predict_proba(X_test)[:, 1]\n",
    "precision, recall, _ = precision_recall_curve(y_test, test_score)\n",
    "calc_AP(precision, recall)"
   ]
  },
  {
   "cell_type": "code",
   "execution_count": null,
   "metadata": {
    "collapsed": true
   },
   "outputs": [],
   "source": []
  },
  {
   "cell_type": "markdown",
   "metadata": {},
   "source": [
    "10 class problem 多クラス問題"
   ]
  },
  {
   "cell_type": "code",
   "execution_count": 47,
   "metadata": {
    "ExecuteTime": {
     "end_time": "2017-06-22T08:27:09.989979Z",
     "start_time": "2017-06-22T08:27:09.889545Z"
    },
    "collapsed": true
   },
   "outputs": [],
   "source": [
    "from sklearn.datasets import load_digits\n",
    "data = load_digits()\n",
    "\n",
    "X = data.data\n",
    "y = data.target"
   ]
  },
  {
   "cell_type": "code",
   "execution_count": 48,
   "metadata": {
    "ExecuteTime": {
     "end_time": "2017-06-22T08:27:09.996668Z",
     "start_time": "2017-06-22T08:27:09.991255Z"
    },
    "collapsed": true
   },
   "outputs": [],
   "source": [
    "from sklearn.model_selection import ShuffleSplit\n",
    "ss = ShuffleSplit(n_splits=1, \n",
    "                  train_size=0.8, \n",
    "                  test_size=0.2, \n",
    "                  random_state=0)\n",
    "\n",
    "train_index, test_index = next(ss.split(X, y))\n",
    "\n",
    "X_train, X_test = X[train_index], X[test_index]\n",
    "y_train, y_test = y[train_index], y[test_index]"
   ]
  },
  {
   "cell_type": "code",
   "execution_count": 49,
   "metadata": {
    "ExecuteTime": {
     "end_time": "2017-06-22T08:27:10.127465Z",
     "start_time": "2017-06-22T08:27:09.997968Z"
    }
   },
   "outputs": [
    {
     "data": {
      "text/plain": [
       "LogisticRegression(C=1.0, class_weight=None, dual=False, fit_intercept=True,\n",
       "          intercept_scaling=1, max_iter=100, multi_class='ovr', n_jobs=1,\n",
       "          penalty='l2', random_state=None, solver='liblinear', tol=0.0001,\n",
       "          verbose=0, warm_start=False)"
      ]
     },
     "execution_count": 49,
     "metadata": {},
     "output_type": "execute_result"
    }
   ],
   "source": [
    "clf.fit(X_train, y_train)"
   ]
  },
  {
   "cell_type": "code",
   "execution_count": 50,
   "metadata": {
    "ExecuteTime": {
     "end_time": "2017-06-22T08:27:10.132279Z",
     "start_time": "2017-06-22T08:27:10.128524Z"
    }
   },
   "outputs": [
    {
     "data": {
      "text/plain": [
       "array([[-21.29798835, -10.64086971, -17.67730727, -15.74398623,\n",
       "        -15.05613992, -26.00827198,  16.54581776, -34.89052264,\n",
       "         -2.02183789, -35.11720192],\n",
       "       [-32.02640132,   9.91580545, -30.30957077, -25.31044268,\n",
       "         -3.46439527, -18.44933836, -28.01457562, -28.27433   ,\n",
       "         -6.02059625, -17.87312975],\n",
       "       [ 16.02739527, -26.71673454, -11.77517932, -26.72774753,\n",
       "        -16.69276642, -26.48484624, -23.97201373,  -5.54928633,\n",
       "        -13.10250291, -14.6316392 ]])"
      ]
     },
     "execution_count": 50,
     "metadata": {},
     "output_type": "execute_result"
    }
   ],
   "source": [
    "test_score = clf.decision_function(X_test)\n",
    "test_score[15:18, :]"
   ]
  },
  {
   "cell_type": "markdown",
   "metadata": {},
   "source": [
    "正になっているところが所属するクラスと予測される。"
   ]
  },
  {
   "cell_type": "code",
   "execution_count": 51,
   "metadata": {},
   "outputs": [
    {
     "data": {
      "text/plain": [
       "array([0, 0, 1])"
      ]
     },
     "execution_count": 51,
     "metadata": {},
     "output_type": "execute_result"
    }
   ],
   "source": [
    "(y_test==0).astype(int)[15: 18]"
   ]
  },
  {
   "cell_type": "code",
   "execution_count": 52,
   "metadata": {
    "ExecuteTime": {
     "end_time": "2017-06-22T08:27:10.368557Z",
     "start_time": "2017-06-22T08:27:10.133555Z"
    }
   },
   "outputs": [
    {
     "data": {
      "image/png": "[encoded data removed]",
      "text/plain": [
       "<matplotlib.figure.Figure at 0x1a15ed8ef0>"
      ]
     },
     "metadata": {},
     "output_type": "display_data"
    }
   ],
   "source": [
    "for i in range(10):\n",
    "    fpr, tpr, _ = roc_curve((y_test == i).astype(int), test_score[:,i]) #  クラスi を陽性(1)と考える 。一対他　の方式を使えばMulticlassでもROC曲線がかける\n",
    "    plt.plot(fpr, tpr, label=\"{0}, {1:.2f}\".format(i, auc(fpr, tpr)))\n",
    "\n",
    "plt.plot([0, 1], [0, 1], linestyle='--')\n",
    "plt.legend(loc=\"best\", title=\"class, AUC\")\n",
    "plt.xlim([-0.01, 1.01])\n",
    "plt.ylim([0.0, 1.01])\n",
    "plt.ylabel('True Positive Rate (recall)')\n",
    "plt.xlabel('False Positive Rate (1-specificity)');"
   ]
  },
  {
   "cell_type": "code",
   "execution_count": 53,
   "metadata": {
    "ExecuteTime": {
     "end_time": "2017-06-22T08:27:10.573754Z",
     "start_time": "2017-06-22T08:27:10.370436Z"
    }
   },
   "outputs": [
    {
     "data": {
      "image/png": "[encoded data removed]",
      "text/plain": [
       "<matplotlib.figure.Figure at 0x1a1648d080>"
      ]
     },
     "metadata": {},
     "output_type": "display_data"
    }
   ],
   "source": [
    "# 左上を拡大してみる。\n",
    "for i in range(10):\n",
    "    fpr, tpr, _ = roc_curve((y_test == i).astype(int), \n",
    "                            test_score[:,i])\n",
    "    plt.plot(fpr, tpr, label=\"{0}, {1:.2f}\".format(i, auc(fpr, tpr)))\n",
    "\n",
    "plt.plot([0, 1], [0, 1], linestyle='--')\n",
    "plt.legend(loc=\"best\", title=\"class, AUC\")\n",
    "plt.xlim([-0.01, 0.2])\n",
    "plt.ylim([0.8, 1.01])\n",
    "plt.ylabel('True Positive Rate (recall)')\n",
    "plt.xlabel('False Positive Rate (1-specificity)');"
   ]
  },
  {
   "cell_type": "code",
   "execution_count": null,
   "metadata": {
    "collapsed": true
   },
   "outputs": [],
   "source": []
  },
  {
   "cell_type": "code",
   "execution_count": 54,
   "metadata": {
    "ExecuteTime": {
     "end_time": "2017-06-22T08:27:10.740417Z",
     "start_time": "2017-06-22T08:27:10.575071Z"
    }
   },
   "outputs": [
    {
     "data": {
      "text/plain": [
       "Text(0,0.5,'Precision')"
      ]
     },
     "execution_count": 54,
     "metadata": {},
     "output_type": "execute_result"
    },
    {
     "data": {
      "image/png": "[encoded data removed]",
      "text/plain": [
       "<matplotlib.figure.Figure at 0x1a15ed8d68>"
      ]
     },
     "metadata": {},
     "output_type": "display_data"
    }
   ],
   "source": [
    "# 同様のことを precision_recall_curve で行う。\n",
    "for i in range(10):\n",
    "    precision, recall, _ = precision_recall_curve((y_test == i).astype(int), \n",
    "                            test_score[:,i])\n",
    "    plt.plot(recall, precision, label=\"{0}\".format(i))\n",
    "             \n",
    "plt.legend(loc=\"best\")\n",
    "plt.xlim([-0.01, 1.01])\n",
    "plt.ylim([0.0, 1.01])\n",
    "plt.xlabel('Recall')\n",
    "plt.ylabel('Precision')"
   ]
  },
  {
   "cell_type": "code",
   "execution_count": null,
   "metadata": {
    "collapsed": true
   },
   "outputs": [],
   "source": []
  },
  {
   "cell_type": "code",
   "execution_count": 55,
   "metadata": {
    "ExecuteTime": {
     "end_time": "2017-06-22T08:27:10.753224Z",
     "start_time": "2017-06-22T08:27:10.741639Z"
    }
   },
   "outputs": [
    {
     "name": "stdout",
     "output_type": "stream",
     "text": [
      "[ 0.99675325  0.91181621  1.          0.97064701  0.99706745  0.97948718\n",
      "  0.98752228  0.96918336  0.88130281  0.94739345]\n",
      "mAP =  0.964117300155\n"
     ]
    }
   ],
   "source": [
    "# mAP of PASCAL VOC by http://homepages.inf.ed.ac.uk/ckiw/postscript/ijcv_voc09.pdf\n",
    "# mean average  precisionを計算する。\n",
    "APs = []\n",
    "for i in range(10):\n",
    "\n",
    "    precision, recall, _ = precision_recall_curve((y_test == i).astype(int), test_score[:,i])\n",
    "    APs.append( calc_AP(precision, recall) )\n",
    "    \n",
    "APs = np.array(APs)\n",
    "mAP = APs.mean()\n",
    "\n",
    "print(APs) # それぞれのクラスのaverage precision\n",
    "print(\"mAP = \", mAP) # 全てのクラスのaverage precisionの平均"
   ]
  },
  {
   "cell_type": "code",
   "execution_count": 56,
   "metadata": {
    "collapsed": true
   },
   "outputs": [],
   "source": [
    "def calc_AP(precision, recall):\n",
    "    precision_interp = np.maximum.accumulate(precision) # 補間(累積の最大値)\n",
    "    all_precision = np.interp(np.arange(0, 1.1, 0.1), recall[::-1], precision_interp[::-1]) # さらに線形補間\n",
    "    AP = all_precision.mean()\n",
    "    return AP"
   ]
  },
  {
   "cell_type": "code",
   "execution_count": null,
   "metadata": {
    "collapsed": true
   },
   "outputs": [],
   "source": []
  },
  {
   "cell_type": "code",
   "execution_count": 57,
   "metadata": {},
   "outputs": [
    {
     "data": {
      "text/plain": [
       "array([ 0.99730551,  0.91587987,  1.        ,  0.98147065,  0.99892473,\n",
       "        0.99039716,  0.9939846 ,  0.99065066,  0.88561015,  0.95913417])"
      ]
     },
     "execution_count": 57,
     "metadata": {},
     "output_type": "execute_result"
    }
   ],
   "source": [
    "from sklearn.metrics import average_precision_score\n",
    "from sklearn.preprocessing import LabelBinarizer\n",
    "\n",
    "avg_precision = []\n",
    "y_test_binary = LabelBinarizer().fit_transform(y_test)\n",
    "for i in range(10):\n",
    "    avg_precision.append(average_precision_score(y_test_binary[:, i], clf.decision_function(X_test)[:, i]) )\n",
    "# この関数で正確な平均適合率(average_percision) がわかる。　多クラス問題ではどこが陽性か指定しないと　mAP が帰って来る\n",
    "\n",
    "avg_precision = np.array(avg_precision)\n",
    "avg_precision.ravel()"
   ]
  },
  {
   "cell_type": "code",
   "execution_count": 58,
   "metadata": {},
   "outputs": [
    {
     "data": {
      "text/plain": [
       "0.97133575153056362"
      ]
     },
     "execution_count": 58,
     "metadata": {},
     "output_type": "execute_result"
    }
   ],
   "source": [
    "avg_precision.mean()"
   ]
  },
  {
   "cell_type": "code",
   "execution_count": 59,
   "metadata": {},
   "outputs": [
    {
     "data": {
      "text/plain": [
       "0.97133575153056362"
      ]
     },
     "execution_count": 59,
     "metadata": {},
     "output_type": "execute_result"
    }
   ],
   "source": [
    "import pandas as pd\n",
    "average_precision_score(pd.get_dummies(y_test).values, clf.decision_function(X_test))"
   ]
  },
  {
   "cell_type": "code",
   "execution_count": 60,
   "metadata": {
    "collapsed": true
   },
   "outputs": [],
   "source": [
    "from sklearn.preprocessing import LabelBinarizer"
   ]
  },
  {
   "cell_type": "code",
   "execution_count": 61,
   "metadata": {},
   "outputs": [
    {
     "data": {
      "text/plain": [
       "array([[0, 0, 1, ..., 0, 0, 0],\n",
       "       [0, 0, 0, ..., 0, 1, 0],\n",
       "       [0, 0, 1, ..., 0, 0, 0],\n",
       "       ..., \n",
       "       [0, 0, 0, ..., 0, 0, 0],\n",
       "       [0, 0, 0, ..., 0, 1, 0],\n",
       "       [0, 0, 0, ..., 0, 1, 0]])"
      ]
     },
     "execution_count": 61,
     "metadata": {},
     "output_type": "execute_result"
    }
   ],
   "source": [
    "LabelBinarizer().fit_transform(y_test)"
   ]
  },
  {
   "cell_type": "code",
   "execution_count": 62,
   "metadata": {},
   "outputs": [
    {
     "data": {
      "text/plain": [
       "array([[0, 0, 1, ..., 0, 0, 0],\n",
       "       [0, 0, 0, ..., 0, 1, 0],\n",
       "       [0, 0, 1, ..., 0, 0, 0],\n",
       "       ..., \n",
       "       [0, 0, 0, ..., 0, 0, 0],\n",
       "       [0, 0, 0, ..., 0, 1, 0],\n",
       "       [0, 0, 0, ..., 0, 1, 0]], dtype=uint8)"
      ]
     },
     "execution_count": 62,
     "metadata": {},
     "output_type": "execute_result"
    }
   ],
   "source": [
    "pd.get_dummies(y_test).values"
   ]
  },
  {
   "cell_type": "code",
   "execution_count": null,
   "metadata": {
    "collapsed": true
   },
   "outputs": [],
   "source": []
  },
  {
   "cell_type": "markdown",
   "metadata": {
    "collapsed": true
   },
   "source": [
    "[scikit-learnでMean Average Precisionを計算しようと思ったら混乱した話](http://sucrose.hatenablog.com/entry/2017/02/26/224559)"
   ]
  },
  {
   "cell_type": "code",
   "execution_count": 63,
   "metadata": {
    "collapsed": true
   },
   "outputs": [],
   "source": [
    "from sklearn.metrics import label_ranking_average_precision_score"
   ]
  },
  {
   "cell_type": "code",
   "execution_count": 70,
   "metadata": {},
   "outputs": [
    {
     "data": {
      "text/plain": [
       "0.97175925925925921"
      ]
     },
     "execution_count": 70,
     "metadata": {},
     "output_type": "execute_result"
    }
   ],
   "source": [
    "label_ranking_average_precision_score(y_true=y_test_binary, y_score=clf.predict_proba(X_test))"
   ]
  },
  {
   "cell_type": "code",
   "execution_count": null,
   "metadata": {
    "collapsed": true
   },
   "outputs": [],
   "source": []
  }
 ],
 "metadata": {
  "anaconda-cloud": {},
  "kernelspec": {
   "display_name": "Python 3",
   "language": "python",
   "name": "python3"
  },
  "language_info": {
   "codemirror_mode": {
    "name": "ipython",
    "version": 3
   },
   "file_extension": ".py",
   "mimetype": "text/x-python",
   "name": "python",
   "nbconvert_exporter": "python",
   "pygments_lexer": "ipython3",
   "version": "3.5.4"
  },
  "toc": {
   "nav_menu": {
    "height": "12px",
    "width": "252px"
   },
   "number_sections": true,
   "sideBar": true,
   "skip_h1_title": false,
   "toc_cell": false,
   "toc_position": {},
   "toc_section_display": "block",
   "toc_window_display": false
  }
 },
 "nbformat": 4,
 "nbformat_minor": 1
}
