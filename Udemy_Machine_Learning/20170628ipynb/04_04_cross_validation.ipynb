{
 "cells": [
  {
   "cell_type": "code",
   "execution_count": 1,
   "metadata": {
    "ExecuteTime": {
     "end_time": "2017-06-22T08:22:11.186554Z",
     "start_time": "2017-06-22T08:22:10.528322Z"
    }
   },
   "outputs": [
    {
     "name": "stdout",
     "output_type": "stream",
     "text": [
      "0.912280701754\n",
      "0.964912280702\n",
      "0.947368421053\n",
      "0.894736842105\n",
      "0.947368421053\n",
      "1.0\n",
      "0.964912280702\n",
      "0.982456140351\n",
      "0.947368421053\n",
      "0.964285714286\n"
     ]
    }
   ],
   "source": [
    "import numpy as np\n",
    "\n",
    "from sklearn.datasets import load_breast_cancer\n",
    "data = load_breast_cancer()\n",
    "\n",
    "X = data.data\n",
    "y = data.target\n",
    "\n",
    "from sklearn import linear_model\n",
    "clf = linear_model.LogisticRegression()\n",
    "\n",
    "from sklearn.model_selection import KFold # K-Folds cross-validator\n",
    "ss = KFold(n_splits=10, shuffle=True) # shuffle=True : Shuffle the data before splitting into batches.\n",
    "# n_split=10 :  10-Folds\n",
    "for train_index, test_index in ss.split(X, y):\n",
    "\n",
    "    X_train, X_test = X[train_index], X[test_index]\n",
    "    y_train, y_test = y[train_index], y[test_index]\n",
    "    \n",
    "    clf.fit(X_train, y_train)\n",
    "    print(clf.score(X_test, y_test))"
   ]
  },
  {
   "cell_type": "code",
   "execution_count": 2,
   "metadata": {
    "ExecuteTime": {
     "end_time": "2017-06-22T08:22:11.193135Z",
     "start_time": "2017-06-22T08:22:11.187737Z"
    },
    "scrolled": true
   },
   "outputs": [
    {
     "name": "stdout",
     "output_type": "stream",
     "text": [
      "(array([0, 1]), array([212, 357]))\n",
      "[ 0.37258348  0.62741652]\n"
     ]
    }
   ],
   "source": [
    "print(np.unique(y, return_counts=True))\n",
    "print(np.unique(y, return_counts=True)[1] / y.size)"
   ]
  },
  {
   "cell_type": "code",
   "execution_count": 3,
   "metadata": {
    "ExecuteTime": {
     "end_time": "2017-06-22T08:22:11.213567Z",
     "start_time": "2017-06-22T08:22:11.194669Z"
    }
   },
   "outputs": [
    {
     "name": "stdout",
     "output_type": "stream",
     "text": [
      "[ 0.3671875  0.6328125] 512 [ 0.42105263  0.57894737] 57\n",
      "[ 0.3671875  0.6328125] 512 [ 0.42105263  0.57894737] 57\n",
      "[ 0.36914062  0.63085938] 512 [ 0.40350877  0.59649123] 57\n",
      "[ 0.37695312  0.62304688] 512 [ 0.33333333  0.66666667] 57\n",
      "[ 0.36132812  0.63867188] 512 [ 0.47368421  0.52631579] 57\n",
      "[ 0.37695312  0.62304688] 512 [ 0.33333333  0.66666667] 57\n",
      "[ 0.37109375  0.62890625] 512 [ 0.38596491  0.61403509] 57\n",
      "[ 0.3828125  0.6171875] 512 [ 0.28070175  0.71929825] 57\n",
      "[ 0.37890625  0.62109375] 512 [ 0.31578947  0.68421053] 57\n",
      "[ 0.37426901  0.62573099] 513 [ 0.35714286  0.64285714] 56\n"
     ]
    }
   ],
   "source": [
    "ss = KFold(n_splits=10, shuffle=True)\n",
    "\n",
    "for train_index, test_index in ss.split(X, y):\n",
    "\n",
    "    X_train, X_test = X[train_index], X[test_index]\n",
    "    y_train, y_test = y[train_index], y[test_index]\n",
    "    \n",
    "    print(np.unique(y_train, return_counts=True)[1] / y_train.size, y_train.size, \n",
    "          np.unique(y_test,  return_counts=True)[1] / y_test.size,  y_test.size)\n",
    "    "
   ]
  },
  {
   "cell_type": "code",
   "execution_count": 6,
   "metadata": {
    "ExecuteTime": {
     "end_time": "2017-06-22T08:22:11.240219Z",
     "start_time": "2017-06-22T08:22:11.214836Z"
    }
   },
   "outputs": [
    {
     "name": "stdout",
     "output_type": "stream",
     "text": [
      "[ 0.37181996  0.62818004] 511 [ 0.37931034  0.62068966] 58\n",
      "[ 0.37181996  0.62818004] 511 [ 0.37931034  0.62068966] 58\n",
      "[ 0.37304688  0.62695312] 512 [ 0.36842105  0.63157895] 57\n",
      "[ 0.37304688  0.62695312] 512 [ 0.36842105  0.63157895] 57\n",
      "[ 0.37304688  0.62695312] 512 [ 0.36842105  0.63157895] 57\n",
      "[ 0.37304688  0.62695312] 512 [ 0.36842105  0.63157895] 57\n",
      "[ 0.37304688  0.62695312] 512 [ 0.36842105  0.63157895] 57\n",
      "[ 0.37231969  0.62768031] 513 [ 0.375  0.625] 56\n",
      "[ 0.37231969  0.62768031] 513 [ 0.375  0.625] 56\n",
      "[ 0.37231969  0.62768031] 513 [ 0.375  0.625] 56\n"
     ]
    }
   ],
   "source": [
    "from sklearn.model_selection import StratifiedKFold  # Stratified になるK-Fold\n",
    "ss = StratifiedKFold(n_splits=10, shuffle=True)\n",
    "\n",
    "for train_index, test_index in ss.split(X, y):\n",
    "\n",
    "    X_train, X_test = X[train_index], X[test_index]\n",
    "    y_train, y_test = y[train_index], y[test_index]\n",
    "    \n",
    "    print(np.unique(y_train, return_counts=True)[1] / y_train.size, y_train.size, \n",
    "          np.unique(y_test,  return_counts=True)[1] / y_test.size,  y_test.size)\n",
    "    "
   ]
  },
  {
   "cell_type": "code",
   "execution_count": 8,
   "metadata": {
    "ExecuteTime": {
     "end_time": "2017-06-22T08:22:11.302556Z",
     "start_time": "2017-06-22T08:22:11.241649Z"
    },
    "collapsed": true
   },
   "outputs": [],
   "source": [
    "from sklearn.model_selection import cross_val_score  # cross_validation　によるスコアの推定をするモジュール。\n",
    "ave_score = cross_val_score(clf, \n",
    "                            X, y, \n",
    "                            cv=10) # 自動的にStratifiedKFoldになっている  ,  (cv=10) is mean (10 - fold cv)"
   ]
  },
  {
   "cell_type": "code",
   "execution_count": 9,
   "metadata": {
    "ExecuteTime": {
     "end_time": "2017-06-22T08:22:11.306973Z",
     "start_time": "2017-06-22T08:22:11.303863Z"
    }
   },
   "outputs": [
    {
     "name": "stdout",
     "output_type": "stream",
     "text": [
      "95.09 +/- 1.85 %\n"
     ]
    }
   ],
   "source": [
    "print(\"{0:4.2f} +/- {1:4.2f} %\".format(ave_score.mean() * 100, ave_score.std() * 100))"
   ]
  },
  {
   "cell_type": "code",
   "execution_count": 10,
   "metadata": {},
   "outputs": [
    {
     "data": {
      "text/plain": [
       "array([ 0.94827586,  0.9137931 ,  0.92982456,  0.94736842,  0.96491228,\n",
       "        0.98245614,  0.94736842,  0.94642857,  0.96428571,  0.96428571])"
      ]
     },
     "execution_count": 10,
     "metadata": {},
     "output_type": "execute_result"
    }
   ],
   "source": [
    "ave_score"
   ]
  },
  {
   "cell_type": "code",
   "execution_count": null,
   "metadata": {
    "collapsed": true
   },
   "outputs": [],
   "source": []
  }
 ],
 "metadata": {
  "anaconda-cloud": {},
  "kernelspec": {
   "display_name": "Python 3",
   "language": "python",
   "name": "python3"
  },
  "language_info": {
   "codemirror_mode": {
    "name": "ipython",
    "version": 3
   },
   "file_extension": ".py",
   "mimetype": "text/x-python",
   "name": "python",
   "nbconvert_exporter": "python",
   "pygments_lexer": "ipython3",
   "version": "3.5.4"
  },
  "toc": {
   "colors": {
    "hover_highlight": "#DAA520",
    "running_highlight": "#FF0000",
    "selected_highlight": "#FFD700"
   },
   "moveMenuLeft": true,
   "nav_menu": {
    "height": "12px",
    "width": "252px"
   },
   "navigate_menu": true,
   "number_sections": true,
   "sideBar": true,
   "threshold": 4,
   "toc_cell": false,
   "toc_section_display": "block",
   "toc_window_display": false,
   "widenNotebook": false
  }
 },
 "nbformat": 4,
 "nbformat_minor": 1
}
