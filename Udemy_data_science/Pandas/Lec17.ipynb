{
 "cells": [
  {
   "cell_type": "code",
   "execution_count": 9,
   "metadata": {
    "collapsed": true
   },
   "outputs": [],
   "source": [
    "import numpy as np\n",
    "from pandas import Series, DataFrame\n",
    "import pandas as pd\n",
    "from numpy.random import randn"
   ]
  },
  {
   "cell_type": "code",
   "execution_count": 10,
   "metadata": {
    "collapsed": true
   },
   "outputs": [],
   "source": [
    "#簡単なSeriesを作ってみましょう。\n",
    "ser1 = Series([1,2,3,4],index=['A','B','C','D'])"
   ]
  },
  {
   "cell_type": "code",
   "execution_count": 11,
   "metadata": {},
   "outputs": [
    {
     "data": {
      "text/plain": [
       "A    1\n",
       "B    2\n",
       "C    3\n",
       "D    4\n",
       "dtype: int64"
      ]
     },
     "execution_count": 11,
     "metadata": {},
     "output_type": "execute_result"
    }
   ],
   "source": [
    "ser1"
   ]
  },
  {
   "cell_type": "code",
   "execution_count": 12,
   "metadata": {
    "collapsed": true
   },
   "outputs": [],
   "source": [
    "#  reindexを使って、indexを変えられます。\n",
    "ser2 = ser1.reindex(['A','B','C','D','E','F'])"
   ]
  },
  {
   "cell_type": "code",
   "execution_count": 13,
   "metadata": {},
   "outputs": [
    {
     "data": {
      "text/plain": [
       "A    1.0\n",
       "B    2.0\n",
       "C    3.0\n",
       "D    4.0\n",
       "E    NaN\n",
       "F    NaN\n",
       "dtype: float64"
      ]
     },
     "execution_count": 13,
     "metadata": {},
     "output_type": "execute_result"
    }
   ],
   "source": [
    "#元のseriesのインデックスにないところには自動的に、null(NaN)が入ります。\n",
    "ser2"
   ]
  },
  {
   "cell_type": "code",
   "execution_count": 14,
   "metadata": {},
   "outputs": [
    {
     "data": {
      "text/plain": [
       "A    1.0\n",
       "B    2.0\n",
       "C    3.0\n",
       "D    4.0\n",
       "E    NaN\n",
       "F    NaN\n",
       "G    0.0\n",
       "dtype: float64"
      ]
     },
     "execution_count": 14,
     "metadata": {},
     "output_type": "execute_result"
    }
   ],
   "source": [
    "# 新しいindexの値を埋めることもできます。 #defaultでは足りないところにはNaNだが引数指定してやると、実引数の値で埋められる\n",
    "ser2.reindex(['A','B','C','D','E','F','G'],fill_value=0)"
   ]
  },
  {
   "cell_type": "code",
   "execution_count": 15,
   "metadata": {},
   "outputs": [
    {
     "data": {
      "text/plain": [
       "A    1.0\n",
       "B    2.0\n",
       "C    3.0\n",
       "D    4.0\n",
       "E    NaN\n",
       "F    NaN\n",
       "dtype: float64"
      ]
     },
     "execution_count": 15,
     "metadata": {},
     "output_type": "execute_result"
    }
   ],
   "source": [
    "ser2"
   ]
  },
  {
   "cell_type": "code",
   "execution_count": 16,
   "metadata": {},
   "outputs": [
    {
     "data": {
      "text/plain": [
       "0        USA\n",
       "5     Mexico\n",
       "10    Canada\n",
       "dtype: object"
      ]
     },
     "execution_count": 16,
     "metadata": {},
     "output_type": "execute_result"
    }
   ],
   "source": [
    "ser3 = Series(['USA','Mexico','Canada'],index=[0,5,10])\n",
    "\n",
    "ser3"
   ]
  },
  {
   "cell_type": "code",
   "execution_count": 17,
   "metadata": {},
   "outputs": [
    {
     "data": {
      "text/plain": [
       "0        USA\n",
       "1        USA\n",
       "2        USA\n",
       "3        USA\n",
       "4        USA\n",
       "5     Mexico\n",
       "6     Mexico\n",
       "7     Mexico\n",
       "8     Mexico\n",
       "9     Mexico\n",
       "10    Canada\n",
       "11    Canada\n",
       "12    Canada\n",
       "13    Canada\n",
       "14    Canada\n",
       "dtype: object"
      ]
     },
     "execution_count": 17,
     "metadata": {},
     "output_type": "execute_result"
    }
   ],
   "source": [
    "# ffillは、forward fillの略です。 index = 5のMexicoがくるまで前の値であるUSAで埋める。\n",
    "ser3.reindex(range(15),method='ffill')"
   ]
  },
  {
   "cell_type": "code",
   "execution_count": 18,
   "metadata": {},
   "outputs": [
    {
     "data": {
      "text/html": [
       "<div>\n",
       "<style>\n",
       "    .dataframe thead tr:only-child th {\n",
       "        text-align: right;\n",
       "    }\n",
       "\n",
       "    .dataframe thead th {\n",
       "        text-align: left;\n",
       "    }\n",
       "\n",
       "    .dataframe tbody tr th {\n",
       "        vertical-align: top;\n",
       "    }\n",
       "</style>\n",
       "<table border=\"1\" class=\"dataframe\">\n",
       "  <thead>\n",
       "    <tr style=\"text-align: right;\">\n",
       "      <th></th>\n",
       "      <th>col1</th>\n",
       "      <th>col2</th>\n",
       "      <th>col3</th>\n",
       "      <th>col4</th>\n",
       "      <th>col5</th>\n",
       "    </tr>\n",
       "  </thead>\n",
       "  <tbody>\n",
       "    <tr>\n",
       "      <th>A</th>\n",
       "      <td>-1.508291</td>\n",
       "      <td>1.991158</td>\n",
       "      <td>1.188603</td>\n",
       "      <td>-0.447502</td>\n",
       "      <td>1.264161</td>\n",
       "    </tr>\n",
       "    <tr>\n",
       "      <th>B</th>\n",
       "      <td>-1.458588</td>\n",
       "      <td>1.353046</td>\n",
       "      <td>-0.460225</td>\n",
       "      <td>-1.098807</td>\n",
       "      <td>0.045589</td>\n",
       "    </tr>\n",
       "    <tr>\n",
       "      <th>D</th>\n",
       "      <td>-1.709625</td>\n",
       "      <td>0.276506</td>\n",
       "      <td>-0.233631</td>\n",
       "      <td>-0.839293</td>\n",
       "      <td>0.184992</td>\n",
       "    </tr>\n",
       "    <tr>\n",
       "      <th>E</th>\n",
       "      <td>-1.133393</td>\n",
       "      <td>0.179092</td>\n",
       "      <td>-0.508489</td>\n",
       "      <td>-1.089757</td>\n",
       "      <td>1.640807</td>\n",
       "    </tr>\n",
       "    <tr>\n",
       "      <th>F</th>\n",
       "      <td>-0.005450</td>\n",
       "      <td>-0.140517</td>\n",
       "      <td>-1.344899</td>\n",
       "      <td>0.954062</td>\n",
       "      <td>-0.129141</td>\n",
       "    </tr>\n",
       "  </tbody>\n",
       "</table>\n",
       "</div>"
      ],
      "text/plain": [
       "       col1      col2      col3      col4      col5\n",
       "A -1.508291  1.991158  1.188603 -0.447502  1.264161\n",
       "B -1.458588  1.353046 -0.460225 -1.098807  0.045589\n",
       "D -1.709625  0.276506 -0.233631 -0.839293  0.184992\n",
       "E -1.133393  0.179092 -0.508489 -1.089757  1.640807\n",
       "F -0.005450 -0.140517 -1.344899  0.954062 -0.129141"
      ]
     },
     "execution_count": 18,
     "metadata": {},
     "output_type": "execute_result"
    }
   ],
   "source": [
    "# 行と列の両方について、Reindexを考えます。\n",
    "# reshapeを使ってDataFrameを作ってみます。\n",
    "dframe = DataFrame(randn(25).reshape((5,5)),index=['A','B','D','E','F'],columns=['col1','col2','col3','col4','col5'])\n",
    "dframe"
   ]
  },
  {
   "cell_type": "code",
   "execution_count": 19,
   "metadata": {},
   "outputs": [
    {
     "data": {
      "text/html": [
       "<div>\n",
       "<style>\n",
       "    .dataframe thead tr:only-child th {\n",
       "        text-align: right;\n",
       "    }\n",
       "\n",
       "    .dataframe thead th {\n",
       "        text-align: left;\n",
       "    }\n",
       "\n",
       "    .dataframe tbody tr th {\n",
       "        vertical-align: top;\n",
       "    }\n",
       "</style>\n",
       "<table border=\"1\" class=\"dataframe\">\n",
       "  <thead>\n",
       "    <tr style=\"text-align: right;\">\n",
       "      <th></th>\n",
       "      <th>col1</th>\n",
       "      <th>col2</th>\n",
       "      <th>col3</th>\n",
       "      <th>col4</th>\n",
       "      <th>col5</th>\n",
       "    </tr>\n",
       "  </thead>\n",
       "  <tbody>\n",
       "    <tr>\n",
       "      <th>A</th>\n",
       "      <td>-1.508291</td>\n",
       "      <td>1.991158</td>\n",
       "      <td>1.188603</td>\n",
       "      <td>-0.447502</td>\n",
       "      <td>1.264161</td>\n",
       "    </tr>\n",
       "    <tr>\n",
       "      <th>B</th>\n",
       "      <td>-1.458588</td>\n",
       "      <td>1.353046</td>\n",
       "      <td>-0.460225</td>\n",
       "      <td>-1.098807</td>\n",
       "      <td>0.045589</td>\n",
       "    </tr>\n",
       "    <tr>\n",
       "      <th>C</th>\n",
       "      <td>NaN</td>\n",
       "      <td>NaN</td>\n",
       "      <td>NaN</td>\n",
       "      <td>NaN</td>\n",
       "      <td>NaN</td>\n",
       "    </tr>\n",
       "    <tr>\n",
       "      <th>D</th>\n",
       "      <td>-1.709625</td>\n",
       "      <td>0.276506</td>\n",
       "      <td>-0.233631</td>\n",
       "      <td>-0.839293</td>\n",
       "      <td>0.184992</td>\n",
       "    </tr>\n",
       "    <tr>\n",
       "      <th>E</th>\n",
       "      <td>-1.133393</td>\n",
       "      <td>0.179092</td>\n",
       "      <td>-0.508489</td>\n",
       "      <td>-1.089757</td>\n",
       "      <td>1.640807</td>\n",
       "    </tr>\n",
       "    <tr>\n",
       "      <th>F</th>\n",
       "      <td>-0.005450</td>\n",
       "      <td>-0.140517</td>\n",
       "      <td>-1.344899</td>\n",
       "      <td>0.954062</td>\n",
       "      <td>-0.129141</td>\n",
       "    </tr>\n",
       "  </tbody>\n",
       "</table>\n",
       "</div>"
      ],
      "text/plain": [
       "       col1      col2      col3      col4      col5\n",
       "A -1.508291  1.991158  1.188603 -0.447502  1.264161\n",
       "B -1.458588  1.353046 -0.460225 -1.098807  0.045589\n",
       "C       NaN       NaN       NaN       NaN       NaN\n",
       "D -1.709625  0.276506 -0.233631 -0.839293  0.184992\n",
       "E -1.133393  0.179092 -0.508489 -1.089757  1.640807\n",
       "F -0.005450 -0.140517 -1.344899  0.954062 -0.129141"
      ]
     },
     "execution_count": 19,
     "metadata": {},
     "output_type": "execute_result"
    }
   ],
   "source": [
    "# Cを忘れました。 FがNaNになるのではなく、新しく追加されたCがNaNとなる。(dictionaryのキーワード追加と似ている? キーワードが列・行の2つバージョン?)\n",
    "new_index = ['A','B','C','D','E','F']\n",
    "dframe2 = dframe.reindex(new_index) #第一引数はindex = となっている Siriesのようにfill_value = が使える。\n",
    "dframe2"
   ]
  },
  {
   "cell_type": "code",
   "execution_count": 20,
   "metadata": {},
   "outputs": [
    {
     "data": {
      "text/html": [
       "<div>\n",
       "<style>\n",
       "    .dataframe thead tr:only-child th {\n",
       "        text-align: right;\n",
       "    }\n",
       "\n",
       "    .dataframe thead th {\n",
       "        text-align: left;\n",
       "    }\n",
       "\n",
       "    .dataframe tbody tr th {\n",
       "        vertical-align: top;\n",
       "    }\n",
       "</style>\n",
       "<table border=\"1\" class=\"dataframe\">\n",
       "  <thead>\n",
       "    <tr style=\"text-align: right;\">\n",
       "      <th></th>\n",
       "      <th>col1</th>\n",
       "      <th>col2</th>\n",
       "      <th>col3</th>\n",
       "      <th>col4</th>\n",
       "      <th>col5</th>\n",
       "      <th>col6</th>\n",
       "    </tr>\n",
       "  </thead>\n",
       "  <tbody>\n",
       "    <tr>\n",
       "      <th>A</th>\n",
       "      <td>-1.508291</td>\n",
       "      <td>1.991158</td>\n",
       "      <td>1.188603</td>\n",
       "      <td>-0.447502</td>\n",
       "      <td>1.264161</td>\n",
       "      <td>NaN</td>\n",
       "    </tr>\n",
       "    <tr>\n",
       "      <th>B</th>\n",
       "      <td>-1.458588</td>\n",
       "      <td>1.353046</td>\n",
       "      <td>-0.460225</td>\n",
       "      <td>-1.098807</td>\n",
       "      <td>0.045589</td>\n",
       "      <td>NaN</td>\n",
       "    </tr>\n",
       "    <tr>\n",
       "      <th>C</th>\n",
       "      <td>NaN</td>\n",
       "      <td>NaN</td>\n",
       "      <td>NaN</td>\n",
       "      <td>NaN</td>\n",
       "      <td>NaN</td>\n",
       "      <td>NaN</td>\n",
       "    </tr>\n",
       "    <tr>\n",
       "      <th>D</th>\n",
       "      <td>-1.709625</td>\n",
       "      <td>0.276506</td>\n",
       "      <td>-0.233631</td>\n",
       "      <td>-0.839293</td>\n",
       "      <td>0.184992</td>\n",
       "      <td>NaN</td>\n",
       "    </tr>\n",
       "    <tr>\n",
       "      <th>E</th>\n",
       "      <td>-1.133393</td>\n",
       "      <td>0.179092</td>\n",
       "      <td>-0.508489</td>\n",
       "      <td>-1.089757</td>\n",
       "      <td>1.640807</td>\n",
       "      <td>NaN</td>\n",
       "    </tr>\n",
       "    <tr>\n",
       "      <th>F</th>\n",
       "      <td>-0.005450</td>\n",
       "      <td>-0.140517</td>\n",
       "      <td>-1.344899</td>\n",
       "      <td>0.954062</td>\n",
       "      <td>-0.129141</td>\n",
       "      <td>NaN</td>\n",
       "    </tr>\n",
       "  </tbody>\n",
       "</table>\n",
       "</div>"
      ],
      "text/plain": [
       "       col1      col2      col3      col4      col5  col6\n",
       "A -1.508291  1.991158  1.188603 -0.447502  1.264161   NaN\n",
       "B -1.458588  1.353046 -0.460225 -1.098807  0.045589   NaN\n",
       "C       NaN       NaN       NaN       NaN       NaN   NaN\n",
       "D -1.709625  0.276506 -0.233631 -0.839293  0.184992   NaN\n",
       "E -1.133393  0.179092 -0.508489 -1.089757  1.640807   NaN\n",
       "F -0.005450 -0.140517 -1.344899  0.954062 -0.129141   NaN"
      ]
     },
     "execution_count": 20,
     "metadata": {},
     "output_type": "execute_result"
    }
   ],
   "source": [
    "#列にも同じような操作ができます。\n",
    "new_columns = ['col1','col2','col3','col4','col5','col6']\n",
    "\n",
    "dframe2.reindex(columns = new_columns)  # reshape同様、ただ参照しているだけなので元は変わっていない。 recolumnsはない"
   ]
  },
  {
   "cell_type": "code",
   "execution_count": 21,
   "metadata": {},
   "outputs": [
    {
     "data": {
      "text/html": [
       "<div>\n",
       "<style>\n",
       "    .dataframe thead tr:only-child th {\n",
       "        text-align: right;\n",
       "    }\n",
       "\n",
       "    .dataframe thead th {\n",
       "        text-align: left;\n",
       "    }\n",
       "\n",
       "    .dataframe tbody tr th {\n",
       "        vertical-align: top;\n",
       "    }\n",
       "</style>\n",
       "<table border=\"1\" class=\"dataframe\">\n",
       "  <thead>\n",
       "    <tr style=\"text-align: right;\">\n",
       "      <th></th>\n",
       "      <th>col1</th>\n",
       "      <th>col2</th>\n",
       "      <th>col3</th>\n",
       "      <th>col4</th>\n",
       "      <th>col5</th>\n",
       "    </tr>\n",
       "  </thead>\n",
       "  <tbody>\n",
       "    <tr>\n",
       "      <th>A</th>\n",
       "      <td>-1.508291</td>\n",
       "      <td>1.991158</td>\n",
       "      <td>1.188603</td>\n",
       "      <td>-0.447502</td>\n",
       "      <td>1.264161</td>\n",
       "    </tr>\n",
       "    <tr>\n",
       "      <th>B</th>\n",
       "      <td>-1.458588</td>\n",
       "      <td>1.353046</td>\n",
       "      <td>-0.460225</td>\n",
       "      <td>-1.098807</td>\n",
       "      <td>0.045589</td>\n",
       "    </tr>\n",
       "    <tr>\n",
       "      <th>D</th>\n",
       "      <td>-1.709625</td>\n",
       "      <td>0.276506</td>\n",
       "      <td>-0.233631</td>\n",
       "      <td>-0.839293</td>\n",
       "      <td>0.184992</td>\n",
       "    </tr>\n",
       "    <tr>\n",
       "      <th>E</th>\n",
       "      <td>-1.133393</td>\n",
       "      <td>0.179092</td>\n",
       "      <td>-0.508489</td>\n",
       "      <td>-1.089757</td>\n",
       "      <td>1.640807</td>\n",
       "    </tr>\n",
       "    <tr>\n",
       "      <th>F</th>\n",
       "      <td>-0.005450</td>\n",
       "      <td>-0.140517</td>\n",
       "      <td>-1.344899</td>\n",
       "      <td>0.954062</td>\n",
       "      <td>-0.129141</td>\n",
       "    </tr>\n",
       "  </tbody>\n",
       "</table>\n",
       "</div>"
      ],
      "text/plain": [
       "       col1      col2      col3      col4      col5\n",
       "A -1.508291  1.991158  1.188603 -0.447502  1.264161\n",
       "B -1.458588  1.353046 -0.460225 -1.098807  0.045589\n",
       "D -1.709625  0.276506 -0.233631 -0.839293  0.184992\n",
       "E -1.133393  0.179092 -0.508489 -1.089757  1.640807\n",
       "F -0.005450 -0.140517 -1.344899  0.954062 -0.129141"
      ]
     },
     "execution_count": 21,
     "metadata": {},
     "output_type": "execute_result"
    }
   ],
   "source": [
    "# ixを使うと、素早くReindexが可能です。\n",
    "dframe"
   ]
  },
  {
   "cell_type": "code",
   "execution_count": 25,
   "metadata": {},
   "outputs": [
    {
     "data": {
      "text/html": [
       "<div>\n",
       "<style>\n",
       "    .dataframe thead tr:only-child th {\n",
       "        text-align: right;\n",
       "    }\n",
       "\n",
       "    .dataframe thead th {\n",
       "        text-align: left;\n",
       "    }\n",
       "\n",
       "    .dataframe tbody tr th {\n",
       "        vertical-align: top;\n",
       "    }\n",
       "</style>\n",
       "<table border=\"1\" class=\"dataframe\">\n",
       "  <thead>\n",
       "    <tr style=\"text-align: right;\">\n",
       "      <th></th>\n",
       "      <th>col1</th>\n",
       "      <th>col2</th>\n",
       "      <th>col3</th>\n",
       "      <th>col4</th>\n",
       "      <th>col5</th>\n",
       "      <th>col6</th>\n",
       "    </tr>\n",
       "  </thead>\n",
       "  <tbody>\n",
       "    <tr>\n",
       "      <th>A</th>\n",
       "      <td>-1.508291</td>\n",
       "      <td>1.991158</td>\n",
       "      <td>1.188603</td>\n",
       "      <td>-0.447502</td>\n",
       "      <td>1.264161</td>\n",
       "      <td>NaN</td>\n",
       "    </tr>\n",
       "    <tr>\n",
       "      <th>B</th>\n",
       "      <td>-1.458588</td>\n",
       "      <td>1.353046</td>\n",
       "      <td>-0.460225</td>\n",
       "      <td>-1.098807</td>\n",
       "      <td>0.045589</td>\n",
       "      <td>NaN</td>\n",
       "    </tr>\n",
       "    <tr>\n",
       "      <th>C</th>\n",
       "      <td>NaN</td>\n",
       "      <td>NaN</td>\n",
       "      <td>NaN</td>\n",
       "      <td>NaN</td>\n",
       "      <td>NaN</td>\n",
       "      <td>NaN</td>\n",
       "    </tr>\n",
       "    <tr>\n",
       "      <th>D</th>\n",
       "      <td>-1.709625</td>\n",
       "      <td>0.276506</td>\n",
       "      <td>-0.233631</td>\n",
       "      <td>-0.839293</td>\n",
       "      <td>0.184992</td>\n",
       "      <td>NaN</td>\n",
       "    </tr>\n",
       "    <tr>\n",
       "      <th>E</th>\n",
       "      <td>-1.133393</td>\n",
       "      <td>0.179092</td>\n",
       "      <td>-0.508489</td>\n",
       "      <td>-1.089757</td>\n",
       "      <td>1.640807</td>\n",
       "      <td>NaN</td>\n",
       "    </tr>\n",
       "    <tr>\n",
       "      <th>F</th>\n",
       "      <td>-0.005450</td>\n",
       "      <td>-0.140517</td>\n",
       "      <td>-1.344899</td>\n",
       "      <td>0.954062</td>\n",
       "      <td>-0.129141</td>\n",
       "      <td>NaN</td>\n",
       "    </tr>\n",
       "  </tbody>\n",
       "</table>\n",
       "</div>"
      ],
      "text/plain": [
       "       col1      col2      col3      col4      col5  col6\n",
       "A -1.508291  1.991158  1.188603 -0.447502  1.264161   NaN\n",
       "B -1.458588  1.353046 -0.460225 -1.098807  0.045589   NaN\n",
       "C       NaN       NaN       NaN       NaN       NaN   NaN\n",
       "D -1.709625  0.276506 -0.233631 -0.839293  0.184992   NaN\n",
       "E -1.133393  0.179092 -0.508489 -1.089757  1.640807   NaN\n",
       "F -0.005450 -0.140517 -1.344899  0.954062 -0.129141   NaN"
      ]
     },
     "execution_count": 25,
     "metadata": {},
     "output_type": "execute_result"
    }
   ],
   "source": [
    "dframe.ix[new_index, new_columns]"
   ]
  },
  {
   "cell_type": "code",
   "execution_count": 23,
   "metadata": {},
   "outputs": [
    {
     "ename": "SyntaxError",
     "evalue": "invalid character in identifier (<ipython-input-23-5f30dea554d5>, line 1)",
     "output_type": "error",
     "traceback": [
      "\u001b[0;36m  File \u001b[0;32m\"<ipython-input-23-5f30dea554d5>\"\u001b[0;36m, line \u001b[0;32m1\u001b[0m\n\u001b[0;31m    dframe.ix[new_index, new_columns]　#.ixメソッドは意味がわかってないと大変なことになるので非推奨となっている。\u001b[0m\n\u001b[0m                                     ^\u001b[0m\n\u001b[0;31mSyntaxError\u001b[0m\u001b[0;31m:\u001b[0m invalid character in identifier\n"
     ]
    }
   ],
   "source": [
    "dframe.ix[new_index, new_columns]　#.ixメソッドは意味がわかってないと大変なことになるので非推奨となっている。"
   ]
  },
  {
   "cell_type": "code",
   "execution_count": null,
   "metadata": {
    "collapsed": true
   },
   "outputs": [],
   "source": []
  }
 ],
 "metadata": {
  "kernelspec": {
   "display_name": "Python 3",
   "language": "python",
   "name": "python3"
  },
  "language_info": {
   "codemirror_mode": {
    "name": "ipython",
    "version": 3
   },
   "file_extension": ".py",
   "mimetype": "text/x-python",
   "name": "python",
   "nbconvert_exporter": "python",
   "pygments_lexer": "ipython3",
   "version": "3.5.2"
  }
 },
 "nbformat": 4,
 "nbformat_minor": 1
}
