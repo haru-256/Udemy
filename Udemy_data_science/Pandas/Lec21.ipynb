{
 "cells": [
  {
   "cell_type": "code",
   "execution_count": 10,
   "metadata": {},
   "outputs": [],
   "source": [
    "import numpy as np\n",
    "from pandas import Series,DataFrame\n",
    "import pandas as pd"
   ]
  },
  {
   "cell_type": "code",
   "execution_count": 11,
   "metadata": {},
   "outputs": [
    {
     "data": {
      "text/plain": [
       "C    0\n",
       "A    1\n",
       "B    2\n",
       "dtype: int64"
      ]
     },
     "execution_count": 11,
     "metadata": {},
     "output_type": "execute_result"
    }
   ],
   "source": [
    "ser1 = Series(range(3),index=['C','A','B'])\n",
    "ser1"
   ]
  },
  {
   "cell_type": "code",
   "execution_count": 22,
   "metadata": {},
   "outputs": [
    {
     "data": {
      "text/plain": [
       "A    1\n",
       "B    2\n",
       "C    0\n",
       "dtype: int64"
      ]
     },
     "execution_count": 22,
     "metadata": {},
     "output_type": "execute_result"
    }
   ],
   "source": [
    "# indexで並べ替え  ser1自体は中身は変化なし\n",
    "ser1.sort_index()"
   ]
  },
  {
   "cell_type": "code",
   "execution_count": 24,
   "metadata": {},
   "outputs": [
    {
     "data": {
      "text/plain": [
       "C    0\n",
       "A    1\n",
       "B    2\n",
       "dtype: int64"
      ]
     },
     "execution_count": 24,
     "metadata": {},
     "output_type": "execute_result"
    }
   ],
   "source": [
    "# 値で並べ替えももちろんできます。(sort_values() で変換)\n",
    "ser1.sort_values()"
   ]
  },
  {
   "cell_type": "code",
   "execution_count": 33,
   "metadata": {},
   "outputs": [
    {
     "data": {
      "text/plain": [
       "0    0.502672\n",
       "1   -1.033596\n",
       "2    0.448411\n",
       "3   -2.421329\n",
       "4    0.706886\n",
       "5   -0.458514\n",
       "6    2.048479\n",
       "7   -1.318075\n",
       "8    0.379245\n",
       "9   -2.084051\n",
       "dtype: float64"
      ]
     },
     "execution_count": 33,
     "metadata": {},
     "output_type": "execute_result"
    }
   ],
   "source": [
    "from numpy.random import randn\n",
    "ser2 = Series(randn(10))\n",
    "ser2"
   ]
  },
  {
   "cell_type": "code",
   "execution_count": 34,
   "metadata": {},
   "outputs": [
    {
     "data": {
      "text/plain": [
       "0     8.0\n",
       "1     4.0\n",
       "2     7.0\n",
       "3     1.0\n",
       "4     9.0\n",
       "5     5.0\n",
       "6    10.0\n",
       "7     3.0\n",
       "8     6.0\n",
       "9     2.0\n",
       "dtype: float64"
      ]
     },
     "execution_count": 34,
     "metadata": {},
     "output_type": "execute_result"
    }
   ],
   "source": [
    "# 何番目に来るかを出せる。rank()メソッド\n",
    "ser2.rank()"
   ]
  },
  {
   "cell_type": "code",
   "execution_count": 35,
   "metadata": {},
   "outputs": [
    {
     "data": {
      "text/plain": [
       "3   -2.421329\n",
       "9   -2.084051\n",
       "7   -1.318075\n",
       "1   -1.033596\n",
       "5   -0.458514\n",
       "8    0.379245\n",
       "2    0.448411\n",
       "0    0.502672\n",
       "4    0.706886\n",
       "6    2.048479\n",
       "dtype: float64"
      ]
     },
     "execution_count": 35,
     "metadata": {},
     "output_type": "execute_result"
    }
   ],
   "source": [
    "ser2.sort_values()  #sort_valueは値をソートする。 ser2は変化しない。"
   ]
  },
  {
   "cell_type": "code",
   "execution_count": 37,
   "metadata": {},
   "outputs": [
    {
     "data": {
      "text/plain": [
       "6    2.048479\n",
       "4    0.706886\n",
       "0    0.502672\n",
       "2    0.448411\n",
       "8    0.379245\n",
       "5   -0.458514\n",
       "1   -1.033596\n",
       "7   -1.318075\n",
       "9   -2.084051\n",
       "3   -2.421329\n",
       "dtype: float64"
      ]
     },
     "execution_count": 37,
     "metadata": {},
     "output_type": "execute_result"
    }
   ],
   "source": [
    "#降順にソートするには引数にascending=Falseをとる\n",
    "ser2.sort_values(ascending=False)"
   ]
  },
  {
   "cell_type": "code",
   "execution_count": 38,
   "metadata": {},
   "outputs": [
    {
     "data": {
      "text/plain": [
       "0    0.502672\n",
       "1   -1.033596\n",
       "2    0.448411\n",
       "3   -2.421329\n",
       "4    0.706886\n",
       "5   -0.458514\n",
       "6    2.048479\n",
       "7   -1.318075\n",
       "8    0.379245\n",
       "9   -2.084051\n",
       "dtype: float64"
      ]
     },
     "execution_count": 38,
     "metadata": {},
     "output_type": "execute_result"
    }
   ],
   "source": [
    "ser2"
   ]
  },
  {
   "cell_type": "code",
   "execution_count": 39,
   "metadata": {},
   "outputs": [
    {
     "data": {
      "text/plain": [
       "3     1.0\n",
       "9     2.0\n",
       "7     3.0\n",
       "1     4.0\n",
       "5     5.0\n",
       "8     6.0\n",
       "2     7.0\n",
       "0     8.0\n",
       "4     9.0\n",
       "6    10.0\n",
       "dtype: float64"
      ]
     },
     "execution_count": 39,
     "metadata": {},
     "output_type": "execute_result"
    }
   ],
   "source": [
    "# 昇順ソートすると、ランクは順番通り。\n",
    "ser2 = ser2.sort_values()\n",
    "ser2.rank()"
   ]
  },
  {
   "cell_type": "code",
   "execution_count": null,
   "metadata": {
    "collapsed": true
   },
   "outputs": [],
   "source": []
  }
 ],
 "metadata": {
  "kernelspec": {
   "display_name": "Python 3",
   "language": "python",
   "name": "python3"
  },
  "language_info": {
   "codemirror_mode": {
    "name": "ipython",
    "version": 3
   },
   "file_extension": ".py",
   "mimetype": "text/x-python",
   "name": "python",
   "nbconvert_exporter": "python",
   "pygments_lexer": "ipython3",
   "version": "3.5.2"
  }
 },
 "nbformat": 4,
 "nbformat_minor": 1
}
